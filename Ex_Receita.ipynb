{
 "cells": [
  {
   "cell_type": "markdown",
   "metadata": {},
   "source": [
    "## Tutotial: \n",
    " \n",
    "https://medium.com/data-hackers/web-scraping-com-python-para-pregui%C3%A7osos-unindo-beautifulsoup-e-selenium-parte-1-9677fc5e2385"
   ]
  },
  {
   "cell_type": "markdown",
   "metadata": {},
   "source": [
    "1. Lendo a Página: "
   ]
  },
  {
   "cell_type": "code",
   "execution_count": 2,
   "metadata": {},
   "outputs": [],
   "source": [
    "from urllib.request import urlopen\n",
    "from bs4 import BeautifulSoup"
   ]
  },
  {
   "cell_type": "code",
   "execution_count": null,
   "metadata": {},
   "outputs": [],
   "source": [
    "html = urlopen('https://receita.economia.gov.br/acesso-rapido/agenda-tributaria/agenda-tributaria-2020/agenda-tributaria-janeiro-2020/dia-06-01-2020')\n",
    "scrap = BeautifulSoup(html, 'html.parser')\n",
    "scrap.prettify()"
   ]
  },
  {
   "cell_type": "markdown",
   "metadata": {},
   "source": [
    "2. Buscando o titulo:"
   ]
  },
  {
   "cell_type": "code",
   "execution_count": 26,
   "metadata": {},
   "outputs": [
    {
     "data": {
      "text/plain": [
       "<title>Dia 06/01/2020 —  Receita Federal </title>"
      ]
     },
     "execution_count": 26,
     "metadata": {},
     "output_type": "execute_result"
    }
   ],
   "source": [
    "scrap.find('title')"
   ]
  },
  {
   "cell_type": "code",
   "execution_count": 27,
   "metadata": {},
   "outputs": [
    {
     "data": {
      "text/plain": [
       "'Dia 06/01/2020 —  Receita Federal '"
      ]
     },
     "execution_count": 27,
     "metadata": {},
     "output_type": "execute_result"
    }
   ],
   "source": [
    "scrap.title.text"
   ]
  },
  {
   "cell_type": "markdown",
   "metadata": {},
   "source": [
    "3. Extraindo a tabela\n",
    "\n",
    "* Dentro desta página temos uma tabela, onde:\n",
    "  * `< tbody >` : corpo da tabela\n",
    "    * `< tr class = 'even'` : cada linha\n",
    "  \n",
    "Para acessar todos os elementos `<tr>` que possuem a classe `‘even’`, ou seja, as linhas da tabela, podemos fazer:"
   ]
  },
  {
   "cell_type": "code",
   "execution_count": 37,
   "metadata": {},
   "outputs": [],
   "source": [
    "linhas = scrap.find_all('tr', {'class':'even'})  # vemos que assim ele não encontra"
   ]
  },
  {
   "cell_type": "markdown",
   "metadata": {},
   "source": [
    "Inspecionando, vemos que em cada linha existem três filhas, que são as tags `<td>` que representa as colunas. Queremos coletar o texto dentro delas:\n",
    "1. usando um for e buscando o text dentro do elemento\n",
    "2. usando a função findChildren('td') que armazena as tags < td > que estão da < tr class = 'even'"
   ]
  },
  {
   "cell_type": "code",
   "execution_count": null,
   "metadata": {},
   "outputs": [],
   "source": [
    "# 1. \n",
    "for i in linhas:\n",
    "    print(i.text)\n",
    "    \n",
    "\n",
    "# 2.\n",
    "for i in linhas:\n",
    "    filhas = i.findChildren(\"td\")\n",
    "    print(filhas[0].text)\n",
    "    print(filhas[1].text)\n",
    "    print(filhas[2].text)\n",
    "    \n",
    "    \n",
    "# 8053\n",
    "# IRRF - Títulos de Renda Fixa - Pessoa Física\n",
    "# 21 a 31/dezembro/2019"
   ]
  },
  {
   "cell_type": "markdown",
   "metadata": {},
   "source": [
    "Com isso, vemos que o txt contido corresponde aos headers da tabela do site da Receita:\n",
    "* Código DARF;\n",
    "* Descrição do tributo/contribuição; \n",
    "* Período do Fato Gerador"
   ]
  },
  {
   "cell_type": "code",
   "execution_count": 53,
   "metadata": {},
   "outputs": [
    {
     "name": "stdout",
     "output_type": "stream",
     "text": [
      "['8053', '3426'] \n",
      "\n",
      "['IRRF - Títulos de Renda Fixa - Pessoa Física', 'IRRF - Títulos de Renda Fixa - Pessoa Jurídica'] \n",
      "\n"
     ]
    },
    {
     "data": {
      "text/plain": [
       "['21 a 31/dezembro/2019', '21 a 31/dezembro/2019']"
      ]
     },
     "execution_count": 53,
     "metadata": {},
     "output_type": "execute_result"
    }
   ],
   "source": [
    "codigo = []\n",
    "descricao = []\n",
    "periodo = []\n",
    "\n",
    "# coletando as informações dentro das listas:\n",
    "\n",
    "for i in linhas:\n",
    "    filhas = i.findChildren(\"td\")\n",
    "    codigo.append(filhas[0].text)\n",
    "    descricao.append(filhas[1].text)\n",
    "    periodo.append(filhas[2].text)\n",
    "\n",
    "print(codigo[:2], '\\n')\n",
    "print(descricao[:2], '\\n')\n",
    "periodo[:2]"
   ]
  },
  {
   "cell_type": "markdown",
   "metadata": {},
   "source": [
    "4. Inserindo as linhas criadas dentro de um DF (pandas)"
   ]
  },
  {
   "cell_type": "code",
   "execution_count": 57,
   "metadata": {},
   "outputs": [
    {
     "data": {
      "text/html": [
       "<div>\n",
       "<style scoped>\n",
       "    .dataframe tbody tr th:only-of-type {\n",
       "        vertical-align: middle;\n",
       "    }\n",
       "\n",
       "    .dataframe tbody tr th {\n",
       "        vertical-align: top;\n",
       "    }\n",
       "\n",
       "    .dataframe thead th {\n",
       "        text-align: right;\n",
       "    }\n",
       "</style>\n",
       "<table border=\"1\" class=\"dataframe\">\n",
       "  <thead>\n",
       "    <tr style=\"text-align: right;\">\n",
       "      <th></th>\n",
       "      <th>Código</th>\n",
       "      <th>Descrição</th>\n",
       "      <th>Período</th>\n",
       "    </tr>\n",
       "  </thead>\n",
       "  <tbody>\n",
       "    <tr>\n",
       "      <th>0</th>\n",
       "      <td>8053</td>\n",
       "      <td>IRRF - Títulos de Renda Fixa - Pessoa Física</td>\n",
       "      <td>21 a 31/dezembro/2019</td>\n",
       "    </tr>\n",
       "    <tr>\n",
       "      <th>1</th>\n",
       "      <td>3426</td>\n",
       "      <td>IRRF - Títulos de Renda Fixa - Pessoa Jurídica</td>\n",
       "      <td>21 a 31/dezembro/2019</td>\n",
       "    </tr>\n",
       "    <tr>\n",
       "      <th>2</th>\n",
       "      <td>6800</td>\n",
       "      <td>IRRF - Fundo de Investimento - Renda Fixa</td>\n",
       "      <td>21 a 31/dezembro/2019</td>\n",
       "    </tr>\n",
       "    <tr>\n",
       "      <th>3</th>\n",
       "      <td>6813</td>\n",
       "      <td>IRRF - Fundo de Investimento em Ações</td>\n",
       "      <td>21 a 31/dezembro/2019</td>\n",
       "    </tr>\n",
       "    <tr>\n",
       "      <th>4</th>\n",
       "      <td>5273</td>\n",
       "      <td>IRRF - Operações de SWAP</td>\n",
       "      <td>21 a 31/dezembro/2019</td>\n",
       "    </tr>\n",
       "  </tbody>\n",
       "</table>\n",
       "</div>"
      ],
      "text/plain": [
       "  Código                                       Descrição  \\\n",
       "0   8053    IRRF - Títulos de Renda Fixa - Pessoa Física   \n",
       "1   3426  IRRF - Títulos de Renda Fixa - Pessoa Jurídica   \n",
       "2   6800       IRRF - Fundo de Investimento - Renda Fixa   \n",
       "3   6813           IRRF - Fundo de Investimento em Ações   \n",
       "4   5273                        IRRF - Operações de SWAP   \n",
       "\n",
       "                 Período  \n",
       "0  21 a 31/dezembro/2019  \n",
       "1  21 a 31/dezembro/2019  \n",
       "2  21 a 31/dezembro/2019  \n",
       "3  21 a 31/dezembro/2019  \n",
       "4  21 a 31/dezembro/2019  "
      ]
     },
     "execution_count": 57,
     "metadata": {},
     "output_type": "execute_result"
    }
   ],
   "source": [
    "import pandas as pd\n",
    "\n",
    "df = pd.DataFrame({'Código': codigo, 'Descrição': descricao, 'Período': periodo})\n",
    "df.head()"
   ]
  },
  {
   "cell_type": "markdown",
   "metadata": {},
   "source": [
    "### Para salvar a tabela em um arquivo excel:"
   ]
  },
  {
   "cell_type": "code",
   "execution_count": 58,
   "metadata": {},
   "outputs": [],
   "source": [
    "df.to_excel('dados_receita.xlsx')"
   ]
  }
 ],
 "metadata": {
  "kernelspec": {
   "display_name": "Python 3",
   "language": "python",
   "name": "python3"
  },
  "language_info": {
   "codemirror_mode": {
    "name": "ipython",
    "version": 3
   },
   "file_extension": ".py",
   "mimetype": "text/x-python",
   "name": "python",
   "nbconvert_exporter": "python",
   "pygments_lexer": "ipython3",
   "version": "3.7.6"
  }
 },
 "nbformat": 4,
 "nbformat_minor": 4
}
