{
 "cells": [
  {
   "cell_type": "markdown",
   "metadata": {},
   "source": [
    "# Criando um exemplo real: Syngenta - sementes NK"
   ]
  },
  {
   "cell_type": "markdown",
   "metadata": {},
   "source": [
    "## 1. Importando as bibliotecas e abrindo o link com todas as sementes"
   ]
  },
  {
   "cell_type": "code",
   "execution_count": 83,
   "metadata": {},
   "outputs": [],
   "source": [
    "from urllib.request import urlopen\n",
    "from bs4 import BeautifulSoup\n",
    "import numpy as np\n",
    "import pandas as pd\n",
    "import requests"
   ]
  },
  {
   "cell_type": "code",
   "execution_count": 100,
   "metadata": {},
   "outputs": [],
   "source": [
    "url = 'http://www.portalsyngenta.com.br/sementes/nk-soja'\n",
    "\n",
    "html = urlopen(url)\n",
    "scrap = BeautifulSoup(html, 'html.parser')"
   ]
  },
  {
   "cell_type": "markdown",
   "metadata": {},
   "source": [
    "## 2. explorado a página html, podemos ver que os 6 cards tem a mesma estrutura:\n",
    "###  < div class = card-text-2\n",
    "#### buscando com `find_all`\n",
    "* Usando uma variavel `class_card` para facilitar o reuso do código"
   ]
  },
  {
   "cell_type": "code",
   "execution_count": null,
   "metadata": {},
   "outputs": [],
   "source": [
    "class_card = \"card-text-2 card-portfolio\"\n",
    "\n",
    "cards = scrap.find_all('div', {'class': class_card})\n",
    "cards"
   ]
  },
  {
   "cell_type": "markdown",
   "metadata": {},
   "source": [
    "## 3. Varremos os cards com um `for`, para obtermos os links de cada semente NK:\n",
    "####  < a [ ' href ' ]  ----> armazenando em uma lista\n",
    "## 4. Juntando o site principal com os links armazenados na lista\n",
    "#### Os links fornecidos são complementares ao do site principal"
   ]
  },
  {
   "cell_type": "code",
   "execution_count": 102,
   "metadata": {},
   "outputs": [
    {
     "data": {
      "text/plain": [
       "['http://www.portalsyngenta.com.br/sementes/nk-soja/nk-8770-ipro',\n",
       " 'http://www.portalsyngenta.com.br/sementes/nk-soja/nk-7777-ipro',\n",
       " 'http://www.portalsyngenta.com.br/sementes/nk-soja/nk-8448-ipro',\n",
       " 'http://www.portalsyngenta.com.br/sementes/nk-soja/nk-8301-ipro',\n",
       " 'http://www.portalsyngenta.com.br/sementes/nk-soja/nk-7201-ipro',\n",
       " 'http://www.portalsyngenta.com.br/sementes/nk-soja/nk-6201-ipro']"
      ]
     },
     "execution_count": 102,
     "metadata": {},
     "output_type": "execute_result"
    }
   ],
   "source": [
    "links = []\n",
    "principal = 'http://www.portalsyngenta.com.br'\n",
    "\n",
    "for link in cards:\n",
    "    link = principal+(link.a['href'])\n",
    "    links.append(link)\n",
    "    \n",
    "links"
   ]
  },
  {
   "cell_type": "markdown",
   "metadata": {},
   "source": [
    "## 5. Explorando cada link e coletando as informações:\n",
    "\n",
    "* inserindo variáveis para facilitar o aproveitamento do código:\n",
    "  * conteúdos dentro de <div <class\n",
    "  * `class_titulo`\n",
    "  * `class_descricao`\n",
    "               \n",
    "                                    \n",
    "* guardando as informações em listas                                   "
   ]
  },
  {
   "cell_type": "code",
   "execution_count": 104,
   "metadata": {},
   "outputs": [
    {
     "name": "stdout",
     "output_type": "stream",
     "text": [
      "['nk-8770-ipro', 'nk-7777-ipro', 'nk-8448-ipro', 'nk-8301-ipro', 'nk-7201-ipro', 'nk-6201-ipro']\n",
      "54\n"
     ]
    }
   ],
   "source": [
    "class_titulo = \"prop-nk-titulo\"\n",
    "class_descricao = \"prop-nk-descricao\"\n",
    "tamanho_nome = -12    # no final do link, as últimas 12 letras correspondem ao nome\n",
    "\n",
    "lista_titulos = []\n",
    "lista_descricao = []\n",
    "lista_nome = []\n",
    "\n",
    "\n",
    "for link in links:\n",
    "    url = requests.get(link)\n",
    "    conteudo = url.content\n",
    "    scrap = BeautifulSoup(conteudo, 'html.parser')\n",
    "\n",
    "    titulo = scrap.find_all('div', {'class': class_titulo})\n",
    "    descricao = scrap.find_all('div', {'class': class_descricao})\n",
    "    \n",
    "    lista_nome.append(link[tamanho_nome:])\n",
    "    \n",
    "    for tit in titulo:\n",
    "        lista_titulos.append(tit.p.text)\n",
    "        \n",
    "    for desc in descricao:\n",
    "        lista_descricao.append(desc.p.text)    \n",
    "        \n",
    "print(lista_nome)\n",
    "print(len(lista_descricao))"
   ]
  },
  {
   "cell_type": "markdown",
   "metadata": {},
   "source": [
    "## 6. Criando um array com 6 listas de 9 elementos cada; e inserindo o nome da semente"
   ]
  },
  {
   "cell_type": "code",
   "execution_count": 118,
   "metadata": {},
   "outputs": [
    {
     "data": {
      "text/html": [
       "<div>\n",
       "<style scoped>\n",
       "    .dataframe tbody tr th:only-of-type {\n",
       "        vertical-align: middle;\n",
       "    }\n",
       "\n",
       "    .dataframe tbody tr th {\n",
       "        vertical-align: top;\n",
       "    }\n",
       "\n",
       "    .dataframe thead th {\n",
       "        text-align: right;\n",
       "    }\n",
       "</style>\n",
       "<table border=\"1\" class=\"dataframe\">\n",
       "  <thead>\n",
       "    <tr style=\"text-align: right;\">\n",
       "      <th></th>\n",
       "      <th>0</th>\n",
       "      <th>1</th>\n",
       "      <th>2</th>\n",
       "      <th>3</th>\n",
       "      <th>4</th>\n",
       "      <th>5</th>\n",
       "      <th>6</th>\n",
       "      <th>7</th>\n",
       "      <th>8</th>\n",
       "      <th>nome</th>\n",
       "    </tr>\n",
       "  </thead>\n",
       "  <tbody>\n",
       "    <tr>\n",
       "      <th>0</th>\n",
       "      <td>semi-determinado</td>\n",
       "      <td>ROXA</td>\n",
       "      <td>8.7</td>\n",
       "      <td>CINZA</td>\n",
       "      <td>Tolerante</td>\n",
       "      <td>Marrom Claro</td>\n",
       "      <td>97 - 112</td>\n",
       "      <td>140 - 190 KG</td>\n",
       "      <td>14 - 19</td>\n",
       "      <td>nk-8770-ipro</td>\n",
       "    </tr>\n",
       "    <tr>\n",
       "      <th>1</th>\n",
       "      <td>INDETERMINADO</td>\n",
       "      <td>ROXA</td>\n",
       "      <td>7.7</td>\n",
       "      <td>CINZA</td>\n",
       "      <td>Tolerante</td>\n",
       "      <td>Marrom Claro</td>\n",
       "      <td>80 - 95</td>\n",
       "      <td>190 G</td>\n",
       "      <td>15 - 20</td>\n",
       "      <td>nk-7777-ipro</td>\n",
       "    </tr>\n",
       "    <tr>\n",
       "      <th>2</th>\n",
       "      <td>INDETERMINADO</td>\n",
       "      <td>ROXA</td>\n",
       "      <td>8.4</td>\n",
       "      <td>CINZA</td>\n",
       "      <td>Tolerante</td>\n",
       "      <td>Marrom Claro</td>\n",
       "      <td>95 - 105</td>\n",
       "      <td>758 - 797 KG</td>\n",
       "      <td>10 - 45</td>\n",
       "      <td>nk-8448-ipro</td>\n",
       "    </tr>\n",
       "    <tr>\n",
       "      <th>3</th>\n",
       "      <td>INDETERMINADO</td>\n",
       "      <td>Branca</td>\n",
       "      <td>8.4</td>\n",
       "      <td>Marrom Clara</td>\n",
       "      <td>Tolerante</td>\n",
       "      <td>Marrom Médio</td>\n",
       "      <td>80 - 95</td>\n",
       "      <td>191 G</td>\n",
       "      <td>10 - 15</td>\n",
       "      <td>nk-8301-ipro</td>\n",
       "    </tr>\n",
       "    <tr>\n",
       "      <th>4</th>\n",
       "      <td>Indeterminado</td>\n",
       "      <td>Branca</td>\n",
       "      <td>7.2</td>\n",
       "      <td>CINZA</td>\n",
       "      <td>Resistente</td>\n",
       "      <td>Marrom Claro</td>\n",
       "      <td>80 - 100</td>\n",
       "      <td>187 G</td>\n",
       "      <td>13CM</td>\n",
       "      <td>nk-7201-ipro</td>\n",
       "    </tr>\n",
       "    <tr>\n",
       "      <th>5</th>\n",
       "      <td>Indeterminado</td>\n",
       "      <td>Branca</td>\n",
       "      <td>6.2</td>\n",
       "      <td>CINZA</td>\n",
       "      <td>Tolerante</td>\n",
       "      <td>Marrom Claro</td>\n",
       "      <td>67 - 103</td>\n",
       "      <td>174 G</td>\n",
       "      <td>11 - 24</td>\n",
       "      <td>nk-6201-ipro</td>\n",
       "    </tr>\n",
       "  </tbody>\n",
       "</table>\n",
       "</div>"
      ],
      "text/plain": [
       "                  0       1    2             3           4             5  \\\n",
       "0  semi-determinado    ROXA  8.7         CINZA   Tolerante  Marrom Claro   \n",
       "1     INDETERMINADO    ROXA  7.7         CINZA   Tolerante  Marrom Claro   \n",
       "2     INDETERMINADO    ROXA  8.4         CINZA   Tolerante  Marrom Claro   \n",
       "3     INDETERMINADO  Branca  8.4  Marrom Clara   Tolerante  Marrom Médio   \n",
       "4     Indeterminado  Branca  7.2         CINZA  Resistente  Marrom Claro   \n",
       "5     Indeterminado  Branca  6.2         CINZA   Tolerante  Marrom Claro   \n",
       "\n",
       "          6             7               8          nome  \n",
       "0  97 - 112  140 - 190 KG         14 - 19  nk-8770-ipro  \n",
       "1   80 - 95         190 G         15 - 20  nk-7777-ipro  \n",
       "2  95 - 105  758 - 797 KG         10 - 45  nk-8448-ipro  \n",
       "3   80 - 95         191 G         10 - 15  nk-8301-ipro  \n",
       "4  80 - 100         187 G  13CM            nk-7201-ipro  \n",
       "5  67 - 103         174 G         11 - 24  nk-6201-ipro  "
      ]
     },
     "execution_count": 118,
     "metadata": {},
     "output_type": "execute_result"
    }
   ],
   "source": [
    "array = np.array(lista_descricao).reshape(6, 9)\n",
    "\n",
    "df_nk = pd.DataFrame(data=array)\n",
    "df_nk['Nome'] = lista_nome\n",
    "df_nk"
   ]
  },
  {
   "cell_type": "markdown",
   "metadata": {},
   "source": [
    "## 7. Inserindo os nomes das colunas\n",
    "* a lista_titulos se repente de 9 em 9 elementos\n",
    "* pegando os elementos únicos e adicionando 'Nome'\n",
    "* colocando como header a lista contendo 10 elementos com os nomes das colunas"
   ]
  },
  {
   "cell_type": "code",
   "execution_count": 119,
   "metadata": {},
   "outputs": [
    {
     "data": {
      "text/html": [
       "<div>\n",
       "<style scoped>\n",
       "    .dataframe tbody tr th:only-of-type {\n",
       "        vertical-align: middle;\n",
       "    }\n",
       "\n",
       "    .dataframe tbody tr th {\n",
       "        vertical-align: top;\n",
       "    }\n",
       "\n",
       "    .dataframe thead th {\n",
       "        text-align: right;\n",
       "    }\n",
       "</style>\n",
       "<table border=\"1\" class=\"dataframe\">\n",
       "  <thead>\n",
       "    <tr style=\"text-align: right;\">\n",
       "      <th></th>\n",
       "      <th>Hábito de Crescimento</th>\n",
       "      <th>Cor da Flor</th>\n",
       "      <th>Grupo de Maturação</th>\n",
       "      <th>Pubescência</th>\n",
       "      <th>Acamamento</th>\n",
       "      <th>Hilo</th>\n",
       "      <th>Altura da Planta (cm)</th>\n",
       "      <th>PMS Médio 5,5 mm</th>\n",
       "      <th>Inserção de Vagem (cm)</th>\n",
       "      <th>Nome</th>\n",
       "    </tr>\n",
       "  </thead>\n",
       "  <tbody>\n",
       "    <tr>\n",
       "      <th>0</th>\n",
       "      <td>semi-determinado</td>\n",
       "      <td>ROXA</td>\n",
       "      <td>8.7</td>\n",
       "      <td>CINZA</td>\n",
       "      <td>Tolerante</td>\n",
       "      <td>Marrom Claro</td>\n",
       "      <td>97 - 112</td>\n",
       "      <td>140 - 190 KG</td>\n",
       "      <td>14 - 19</td>\n",
       "      <td>nk-8770-ipro</td>\n",
       "    </tr>\n",
       "    <tr>\n",
       "      <th>1</th>\n",
       "      <td>INDETERMINADO</td>\n",
       "      <td>ROXA</td>\n",
       "      <td>7.7</td>\n",
       "      <td>CINZA</td>\n",
       "      <td>Tolerante</td>\n",
       "      <td>Marrom Claro</td>\n",
       "      <td>80 - 95</td>\n",
       "      <td>190 G</td>\n",
       "      <td>15 - 20</td>\n",
       "      <td>nk-7777-ipro</td>\n",
       "    </tr>\n",
       "    <tr>\n",
       "      <th>2</th>\n",
       "      <td>INDETERMINADO</td>\n",
       "      <td>ROXA</td>\n",
       "      <td>8.4</td>\n",
       "      <td>CINZA</td>\n",
       "      <td>Tolerante</td>\n",
       "      <td>Marrom Claro</td>\n",
       "      <td>95 - 105</td>\n",
       "      <td>758 - 797 KG</td>\n",
       "      <td>10 - 45</td>\n",
       "      <td>nk-8448-ipro</td>\n",
       "    </tr>\n",
       "    <tr>\n",
       "      <th>3</th>\n",
       "      <td>INDETERMINADO</td>\n",
       "      <td>Branca</td>\n",
       "      <td>8.4</td>\n",
       "      <td>Marrom Clara</td>\n",
       "      <td>Tolerante</td>\n",
       "      <td>Marrom Médio</td>\n",
       "      <td>80 - 95</td>\n",
       "      <td>191 G</td>\n",
       "      <td>10 - 15</td>\n",
       "      <td>nk-8301-ipro</td>\n",
       "    </tr>\n",
       "    <tr>\n",
       "      <th>4</th>\n",
       "      <td>Indeterminado</td>\n",
       "      <td>Branca</td>\n",
       "      <td>7.2</td>\n",
       "      <td>CINZA</td>\n",
       "      <td>Resistente</td>\n",
       "      <td>Marrom Claro</td>\n",
       "      <td>80 - 100</td>\n",
       "      <td>187 G</td>\n",
       "      <td>13CM</td>\n",
       "      <td>nk-7201-ipro</td>\n",
       "    </tr>\n",
       "    <tr>\n",
       "      <th>5</th>\n",
       "      <td>Indeterminado</td>\n",
       "      <td>Branca</td>\n",
       "      <td>6.2</td>\n",
       "      <td>CINZA</td>\n",
       "      <td>Tolerante</td>\n",
       "      <td>Marrom Claro</td>\n",
       "      <td>67 - 103</td>\n",
       "      <td>174 G</td>\n",
       "      <td>11 - 24</td>\n",
       "      <td>nk-6201-ipro</td>\n",
       "    </tr>\n",
       "  </tbody>\n",
       "</table>\n",
       "</div>"
      ],
      "text/plain": [
       "  Hábito de Crescimento Cor da Flor Grupo de Maturação   Pubescência  \\\n",
       "0      semi-determinado        ROXA                8.7         CINZA   \n",
       "1         INDETERMINADO        ROXA                7.7         CINZA   \n",
       "2         INDETERMINADO        ROXA                8.4         CINZA   \n",
       "3         INDETERMINADO      Branca                8.4  Marrom Clara   \n",
       "4         Indeterminado      Branca                7.2         CINZA   \n",
       "5         Indeterminado      Branca                6.2         CINZA   \n",
       "\n",
       "   Acamamento          Hilo Altura da Planta (cm) PMS Médio 5,5 mm  \\\n",
       "0   Tolerante  Marrom Claro              97 - 112     140 - 190 KG   \n",
       "1   Tolerante  Marrom Claro               80 - 95            190 G   \n",
       "2   Tolerante  Marrom Claro              95 - 105     758 - 797 KG   \n",
       "3   Tolerante  Marrom Médio               80 - 95            191 G   \n",
       "4  Resistente  Marrom Claro              80 - 100            187 G   \n",
       "5   Tolerante  Marrom Claro              67 - 103            174 G   \n",
       "\n",
       "  Inserção de Vagem (cm)          Nome  \n",
       "0                14 - 19  nk-8770-ipro  \n",
       "1                15 - 20  nk-7777-ipro  \n",
       "2                10 - 45  nk-8448-ipro  \n",
       "3                10 - 15  nk-8301-ipro  \n",
       "4         13CM            nk-7201-ipro  \n",
       "5                11 - 24  nk-6201-ipro  "
      ]
     },
     "execution_count": 119,
     "metadata": {},
     "output_type": "execute_result"
    }
   ],
   "source": [
    "lista_titulos = lista_titulos[:9].copy()\n",
    "lista_titulos.append('Nome')\n",
    "df_nk.columns = lista_titulos\n",
    "df_nk"
   ]
  },
  {
   "cell_type": "markdown",
   "metadata": {},
   "source": [
    "## 8. Exportando para arquivo excel, dentro da pasta: planilhas/"
   ]
  },
  {
   "cell_type": "code",
   "execution_count": 103,
   "metadata": {},
   "outputs": [],
   "source": [
    "df_nk.to_excel('planilhas/Syngenta_sementes_NK.xlsx')"
   ]
  }
 ],
 "metadata": {
  "kernelspec": {
   "display_name": "Python 3",
   "language": "python",
   "name": "python3"
  },
  "language_info": {
   "codemirror_mode": {
    "name": "ipython",
    "version": 3
   },
   "file_extension": ".py",
   "mimetype": "text/x-python",
   "name": "python",
   "nbconvert_exporter": "python",
   "pygments_lexer": "ipython3",
   "version": "3.7.6"
  }
 },
 "nbformat": 4,
 "nbformat_minor": 4
}
