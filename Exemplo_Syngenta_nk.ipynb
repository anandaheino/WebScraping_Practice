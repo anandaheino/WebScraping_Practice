{
 "cells": [
  {
   "cell_type": "markdown",
   "metadata": {},
   "source": [
    "# Criando um exemplo real: Syngenta - sementes NK"
   ]
  },
  {
   "cell_type": "markdown",
   "metadata": {},
   "source": [
    "## Importando as bibliotecas necessárias:\n"
   ]
  },
  {
   "cell_type": "code",
   "execution_count": 1,
   "metadata": {},
   "outputs": [],
   "source": [
    "from urllib.request import urlopen\n",
    "from bs4 import BeautifulSoup\n",
    "import numpy as np\n",
    "import pandas as pd\n",
    "import requests"
   ]
  },
  {
   "cell_type": "markdown",
   "metadata": {},
   "source": [
    "# Definindo funções:"
   ]
  },
  {
   "cell_type": "code",
   "execution_count": 224,
   "metadata": {},
   "outputs": [],
   "source": [
    "def abre_e_scrap(url):\n",
    "    \n",
    "    \"\"\"Esta função abre o url dado como parâmetro e retorna a 'sopa de html'.\n",
    "    Parâmetro: url\"\"\"\n",
    "    \n",
    "    html = urlopen(url)\n",
    "    scrap = BeautifulSoup(html, 'html.parser')\n",
    "    return scrap.prettify()"
   ]
  },
  {
   "cell_type": "code",
   "execution_count": 228,
   "metadata": {},
   "outputs": [],
   "source": [
    "#teste da função abre_e_scrap()\n",
    "\n",
    "url = 'http://www.portalsyngenta.com.br/sementes/nk-soja'\n",
    "scrap = abre_e_scrap(url)"
   ]
  },
  {
   "cell_type": "markdown",
   "metadata": {},
   "source": [
    "### Explorado a página html com 6 cards de mesma estrutura: < div class = card-text-2\n",
    "#### Criando uma função que busca com `find_all` e retorna uma lista com os links de cada card"
   ]
  },
  {
   "cell_type": "code",
   "execution_count": 229,
   "metadata": {},
   "outputs": [],
   "source": [
    "# Buscando no html os cards repetidos, com <div class: \"class_card\"\n",
    "\n",
    "def find_links_in_cards(scrap, class_card):\n",
    "    \n",
    "    \"\"\" Função que recebe a sopa e a string dos cards, \n",
    "    passa por todos esses cards e retorna os links contidos neles.\n",
    "    Parâmetros: \n",
    "    scrap: página html obtida através do BeautifulSoup\n",
    "    class_card: qual a str correspondente ao card a ser encontrado\n",
    "    Retorna: uma lista contendo os links contidos em cada card.\"\"\"\n",
    "    \n",
    "    cards = scrap.find_all('div', {'class': class_card})\n",
    "    \n",
    "    links = []\n",
    "\n",
    "    for link in cards:\n",
    "        link = link.a['href']\n",
    "        links.append(link)\n",
    "    \n",
    "    return links"
   ]
  },
  {
   "cell_type": "code",
   "execution_count": 234,
   "metadata": {},
   "outputs": [
    {
     "data": {
      "text/plain": [
       "['/sementes/nk-soja/nk-8770-ipro', '/sementes/nk-soja/nk-7777-ipro']"
      ]
     },
     "execution_count": 234,
     "metadata": {},
     "output_type": "execute_result"
    }
   ],
   "source": [
    "# testando a função find_links_in_cards\n",
    "\n",
    "class_card = \"card-text-2 card-portfolio\"\n",
    "links = find_links_in_cards(scrap, class_card)\n",
    "links[:2]"
   ]
  },
  {
   "cell_type": "markdown",
   "metadata": {},
   "source": [
    "## Dependendo do link obtido, vai ser necessário complementá-lo:"
   ]
  },
  {
   "cell_type": "code",
   "execution_count": 235,
   "metadata": {},
   "outputs": [],
   "source": [
    "def complement_link(lista_links, link_principal):\n",
    "    \n",
    "    \"\"\"Função que recebe uma lista com links parciais e complementa-os usando o link principal.\n",
    "    Parâmetros:\n",
    "    lista_links: lista contendo links parciais\n",
    "    link_principal: início do link que foi oculto nos links parciais\"\"\"\n",
    "    \n",
    "    links_completos = []\n",
    "    \n",
    "    for link in lista_links:\n",
    "        link = link_principal+link\n",
    "        links_completos.append(link)\n",
    "        \n",
    "    return links_completos"
   ]
  },
  {
   "cell_type": "code",
   "execution_count": null,
   "metadata": {},
   "outputs": [],
   "source": [
    "# testando a função complement_link:\n",
    "\n",
    "principal = 'http://www.portalsyngenta.com.br'\n",
    "links_completos = complement_link(links, principal)"
   ]
  },
  {
   "cell_type": "markdown",
   "metadata": {},
   "source": [
    "## 3. Varremos os cards com um `for`, para obtermos os links de cada semente NK:\n",
    "####  < a [ ' href ' ]  ----> armazenando em uma lista\n",
    "## 4. Juntando o site principal com os links armazenados na lista\n",
    "#### Os links fornecidos são complementares ao do site principal"
   ]
  },
  {
   "cell_type": "markdown",
   "metadata": {},
   "source": [
    "## 5. Explorando cada link e coletando as informações:\n",
    "\n",
    "* inserindo variáveis para facilitar o aproveitamento do código:\n",
    "  * conteúdos dentro de <div <class\n",
    "  * `class_titulo`\n",
    "  * `class_descricao`\n",
    "               \n",
    "                                    \n",
    "* guardando as informações em listas                                   "
   ]
  },
  {
   "cell_type": "code",
   "execution_count": null,
   "metadata": {},
   "outputs": [],
   "source": [
    "class_titulo = \"prop-nk-titulo\"\n",
    "class_descricao = \"prop-nk-descricao\"\n",
    "\n",
    "class_beneficios = \"item\"\n",
    "class_benef_subtitulo = \"subtitulo-beneficios\"    \n",
    "\n",
    "tamanho_nome = -12    # no final do link, as últimas 12 letras correspondem ao nome\n",
    "\n",
    "lista_titulos = []\n",
    "lista_descricao = []\n",
    "lista_nome = []\n",
    "lista_beneficios = []\n",
    "lista_benef_subtitulo = []\n",
    "\n",
    "\n",
    "for link in links:\n",
    "    url = requests.get(link)\n",
    "    conteudo = url.content\n",
    "    scrap = BeautifulSoup(conteudo, 'html.parser')   # soup de cada página\n",
    "    \n",
    "    lista_nome.append(link[tamanho_nome:])          # nome das sementes\n",
    "    \n",
    "    titulo = scrap.find_all('div', {'class': class_titulo})\n",
    "    descricao = scrap.find_all('div', {'class': class_descricao})\n",
    "    beneficios = scrap.find_all('div', {'class': class_beneficios})\n",
    "    benef_subtitulo = scrap.find_all('p', {'class': class_benef_subtitulo})\n",
    "    \n",
    "    for tit in titulo:\n",
    "        lista_titulos.append(tit.p.text)\n",
    "        \n",
    "    for desc in descricao:\n",
    "        lista_descricao.append(desc.p.text)    \n",
    "        \n",
    "    for benef in beneficios:\n",
    "        lista_beneficios.append(link[tamanho_nome:])   # nome das sementes\n",
    "        lista_beneficios.append(benef.p.text)\n",
    "    \n",
    "    for sub in benef_subtitulo:\n",
    "        lista_benef_subtitulo.append(sub.text)"
   ]
  },
  {
   "cell_type": "markdown",
   "metadata": {},
   "source": [
    "## 6. Criando um array com 6 listas de 9 elementos cada; e inserindo o nome da semente"
   ]
  },
  {
   "cell_type": "code",
   "execution_count": 223,
   "metadata": {},
   "outputs": [
    {
     "data": {
      "text/html": [
       "<div>\n",
       "<style scoped>\n",
       "    .dataframe tbody tr th:only-of-type {\n",
       "        vertical-align: middle;\n",
       "    }\n",
       "\n",
       "    .dataframe tbody tr th {\n",
       "        vertical-align: top;\n",
       "    }\n",
       "\n",
       "    .dataframe thead th {\n",
       "        text-align: right;\n",
       "    }\n",
       "</style>\n",
       "<table border=\"1\" class=\"dataframe\">\n",
       "  <thead>\n",
       "    <tr style=\"text-align: right;\">\n",
       "      <th></th>\n",
       "      <th>0</th>\n",
       "      <th>1</th>\n",
       "      <th>2</th>\n",
       "      <th>3</th>\n",
       "      <th>4</th>\n",
       "      <th>5</th>\n",
       "      <th>6</th>\n",
       "      <th>7</th>\n",
       "      <th>8</th>\n",
       "      <th>Nome</th>\n",
       "    </tr>\n",
       "  </thead>\n",
       "  <tbody>\n",
       "    <tr>\n",
       "      <th>0</th>\n",
       "      <td>semi-determinado</td>\n",
       "      <td>ROXA</td>\n",
       "      <td>8.7</td>\n",
       "      <td>CINZA</td>\n",
       "      <td>Tolerante</td>\n",
       "      <td>Marrom Claro</td>\n",
       "      <td>97 - 112</td>\n",
       "      <td>140 - 190 KG</td>\n",
       "      <td>14 - 19</td>\n",
       "      <td>nk-8770-ipro</td>\n",
       "    </tr>\n",
       "    <tr>\n",
       "      <th>1</th>\n",
       "      <td>INDETERMINADO</td>\n",
       "      <td>ROXA</td>\n",
       "      <td>7.7</td>\n",
       "      <td>CINZA</td>\n",
       "      <td>Tolerante</td>\n",
       "      <td>Marrom Claro</td>\n",
       "      <td>80 - 95</td>\n",
       "      <td>190 G</td>\n",
       "      <td>15 - 20</td>\n",
       "      <td>nk-7777-ipro</td>\n",
       "    </tr>\n",
       "  </tbody>\n",
       "</table>\n",
       "</div>"
      ],
      "text/plain": [
       "                  0     1    2      3          4             5         6  \\\n",
       "0  semi-determinado  ROXA  8.7  CINZA  Tolerante  Marrom Claro  97 - 112   \n",
       "1     INDETERMINADO  ROXA  7.7  CINZA  Tolerante  Marrom Claro   80 - 95   \n",
       "\n",
       "              7        8          Nome  \n",
       "0  140 - 190 KG  14 - 19  nk-8770-ipro  \n",
       "1         190 G  15 - 20  nk-7777-ipro  "
      ]
     },
     "execution_count": 223,
     "metadata": {},
     "output_type": "execute_result"
    }
   ],
   "source": [
    "array = np.array(lista_descricao).reshape(6, 9)\n",
    "\n",
    "df_caract = pd.DataFrame(data=array)\n",
    "df_caract['Nome'] = lista_nome\n",
    "df_caract.head(2)"
   ]
  },
  {
   "cell_type": "markdown",
   "metadata": {},
   "source": [
    "## 7. Criando DataFrame das caracteristicas + nomes das colunas\n",
    "* a lista_titulos se repente de 9 em 9 elementos\n",
    "* pegando os elementos únicos e adicionando 'Nome'\n",
    "* colocando como header a lista contendo 10 elementos com os nomes das colunas"
   ]
  },
  {
   "cell_type": "code",
   "execution_count": 222,
   "metadata": {},
   "outputs": [
    {
     "data": {
      "text/html": [
       "<div>\n",
       "<style scoped>\n",
       "    .dataframe tbody tr th:only-of-type {\n",
       "        vertical-align: middle;\n",
       "    }\n",
       "\n",
       "    .dataframe tbody tr th {\n",
       "        vertical-align: top;\n",
       "    }\n",
       "\n",
       "    .dataframe thead th {\n",
       "        text-align: right;\n",
       "    }\n",
       "</style>\n",
       "<table border=\"1\" class=\"dataframe\">\n",
       "  <thead>\n",
       "    <tr style=\"text-align: right;\">\n",
       "      <th></th>\n",
       "      <th>Hábito de Crescimento</th>\n",
       "      <th>Cor da Flor</th>\n",
       "      <th>Grupo de Maturação</th>\n",
       "      <th>Pubescência</th>\n",
       "      <th>Acamamento</th>\n",
       "      <th>Hilo</th>\n",
       "      <th>Altura da Planta (cm)</th>\n",
       "      <th>PMS Médio 5,5 mm</th>\n",
       "      <th>Inserção de Vagem (cm)</th>\n",
       "      <th>Nome</th>\n",
       "    </tr>\n",
       "  </thead>\n",
       "  <tbody>\n",
       "    <tr>\n",
       "      <th>0</th>\n",
       "      <td>semi-determinado</td>\n",
       "      <td>ROXA</td>\n",
       "      <td>8.7</td>\n",
       "      <td>CINZA</td>\n",
       "      <td>Tolerante</td>\n",
       "      <td>Marrom Claro</td>\n",
       "      <td>97 - 112</td>\n",
       "      <td>140 - 190 KG</td>\n",
       "      <td>14 - 19</td>\n",
       "      <td>nk-8770-ipro</td>\n",
       "    </tr>\n",
       "    <tr>\n",
       "      <th>1</th>\n",
       "      <td>INDETERMINADO</td>\n",
       "      <td>ROXA</td>\n",
       "      <td>7.7</td>\n",
       "      <td>CINZA</td>\n",
       "      <td>Tolerante</td>\n",
       "      <td>Marrom Claro</td>\n",
       "      <td>80 - 95</td>\n",
       "      <td>190 G</td>\n",
       "      <td>15 - 20</td>\n",
       "      <td>nk-7777-ipro</td>\n",
       "    </tr>\n",
       "  </tbody>\n",
       "</table>\n",
       "</div>"
      ],
      "text/plain": [
       "  Hábito de Crescimento Cor da Flor Grupo de Maturação Pubescência Acamamento  \\\n",
       "0      semi-determinado        ROXA                8.7       CINZA  Tolerante   \n",
       "1         INDETERMINADO        ROXA                7.7       CINZA  Tolerante   \n",
       "\n",
       "           Hilo Altura da Planta (cm) PMS Médio 5,5 mm Inserção de Vagem (cm)  \\\n",
       "0  Marrom Claro              97 - 112     140 - 190 KG                14 - 19   \n",
       "1  Marrom Claro               80 - 95            190 G                15 - 20   \n",
       "\n",
       "           Nome  \n",
       "0  nk-8770-ipro  \n",
       "1  nk-7777-ipro  "
      ]
     },
     "execution_count": 222,
     "metadata": {},
     "output_type": "execute_result"
    }
   ],
   "source": [
    "lista_titulos = lista_titulos[:9].copy()\n",
    "lista_titulos.append('Nome')\n",
    "df_caract.columns = lista_titulos\n",
    "df_caract.head(2)"
   ]
  },
  {
   "cell_type": "markdown",
   "metadata": {},
   "source": [
    "## mesmo processo de criação de DataFrame para:\n",
    "* ### Benefícios\n",
    "* ### Recomendações"
   ]
  },
  {
   "cell_type": "code",
   "execution_count": 83,
   "metadata": {},
   "outputs": [],
   "source": [
    "array_benef = np.array(lista_beneficios)\n",
    "array_benef = array_benef.reshape(21,2)\n",
    "df_benef = pd.DataFrame(array_benef)\n",
    "\n",
    "df_benef.columns = ['Nome', 'Beneficios']\n",
    "df_benef['Subtitulo'] = lista_benef_subtitulo[:21]"
   ]
  },
  {
   "cell_type": "markdown",
   "metadata": {},
   "source": [
    "## 8. Lendo as tabelas dos sites (html)\n",
    "* ### Recomendação Técnica"
   ]
  },
  {
   "cell_type": "code",
   "execution_count": null,
   "metadata": {},
   "outputs": [],
   "source": [
    "url = 'http://www.portalsyngenta.com.br/sementes/nk-soja/nk-6201-ipro'\n",
    "class_table = 'table-sementes'   # o que será procurado na página\n",
    "\n",
    "table_recom = pd.read_html(url)\n",
    "\n",
    "html = urlopen(url)\n",
    "scrap = BeautifulSoup(html, 'html.parser')\n",
    "\n",
    "table_recom_html = scrap.find('table', {'class': class_table})\n",
    "\n",
    "lista_temp = []         # lista temporária, antes de tratar as cores\n",
    "lista_cel_recom = []      # lista pós tratamento, recebe apenas os valores da legenda\n",
    "\n",
    "for row in table_recom_html:\n",
    "    for i in row:\n",
    "        i = str(i)\n",
    "        if \"td-data-gray\" in i:\n",
    "            i = i.replace('\"td-data-gray\"', '\"Não recomendável\"')\n",
    "            i = i.replace('\"td-data-gray border-right\"', '\"Não recomendável\"')\n",
    "            lista_temp.append(i)\n",
    "        elif 'td-data-light-blue' in i:\n",
    "            i = i.replace('\"td-data-light-blue\"', '\"Aceitável\"')\n",
    "            i = i.replace('\"td-data-light-blue border-right\"', '\"Aceitável\"')\n",
    "            lista_temp.append(i)\n",
    "        elif 'td-data-dark-blue' in i:\n",
    "            i = i.replace('\"td-data-dark-blue\"', '\"Recomendado\"')\n",
    "            i = i.replace('\"td-data-dark-blue border-right\"', '\"Recomendado\"')\n",
    "            lista_temp.append(i)\n",
    "            \n",
    "for i in lista_temp:\n",
    "    i = i.replace('<td class=', '')\n",
    "    i = i.replace('></td>', '')\n",
    "    lista_cel_recom.append(i)"
   ]
  },
  {
   "cell_type": "code",
   "execution_count": null,
   "metadata": {},
   "outputs": [],
   "source": [
    "df_recom = pd.DataFrame(table_recom[0])\n",
    "df_recom"
   ]
  },
  {
   "cell_type": "code",
   "execution_count": null,
   "metadata": {},
   "outputs": [],
   "source": [
    "array_legendas_recom = np.array(lista_cel_recom).reshape(7, 12)\n"
   ]
  },
  {
   "cell_type": "code",
   "execution_count": null,
   "metadata": {},
   "outputs": [],
   "source": [
    "df_legendas = pd.DataFrame(array_legendas_recom)\n",
    "df_legendas.columns = ['Setembro', 'Setembro.1', 'Setembro.2',\n",
    "       'Outubro', 'Outubro.1', 'Outubro.2', 'Novembro', 'Novembro.1',\n",
    "       'Novembro.2', 'Dezembro', 'Dezembro.1', 'Dezembro.2']\n",
    "\n",
    "df_legendas"
   ]
  },
  {
   "cell_type": "code",
   "execution_count": null,
   "metadata": {},
   "outputs": [],
   "source": [
    "df_recom.update(df_legendas)\n",
    "df_recom"
   ]
  },
  {
   "cell_type": "markdown",
   "metadata": {},
   "source": [
    "## 9. Exportando para arquivo excel, dentro da pasta: planilhas/"
   ]
  },
  {
   "cell_type": "code",
   "execution_count": 82,
   "metadata": {},
   "outputs": [],
   "source": [
    "df_caract.to_excel('planilhas/Syngenta_NK/caracteristicas.xlsx')\n",
    "df_benef.to_excel('planilhas/Syngenta_NK/beneficios.xlsx')"
   ]
  },
  {
   "cell_type": "code",
   "execution_count": 79,
   "metadata": {},
   "outputs": [],
   "source": []
  },
  {
   "cell_type": "code",
   "execution_count": null,
   "metadata": {},
   "outputs": [],
   "source": []
  }
 ],
 "metadata": {
  "kernelspec": {
   "display_name": "Python 3",
   "language": "python",
   "name": "python3"
  },
  "language_info": {
   "codemirror_mode": {
    "name": "ipython",
    "version": 3
   },
   "file_extension": ".py",
   "mimetype": "text/x-python",
   "name": "python",
   "nbconvert_exporter": "python",
   "pygments_lexer": "ipython3",
   "version": "3.7.6"
  }
 },
 "nbformat": 4,
 "nbformat_minor": 4
}
