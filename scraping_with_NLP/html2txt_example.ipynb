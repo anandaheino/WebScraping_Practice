{
 "cells": [
  {
   "cell_type": "markdown",
   "metadata": {},
   "source": [
    "## Usando a biblioteca `html2text`"
   ]
  },
  {
   "cell_type": "code",
   "execution_count": 15,
   "metadata": {},
   "outputs": [
    {
     "name": "stdout",
     "output_type": "stream",
     "text": [
      "Hello, world.\n",
      "\n",
      "\n"
     ]
    }
   ],
   "source": [
    "from html2text import html2text\n",
    "\n",
    "print(html2text(\"<p>Hello, world.</p>\"))"
   ]
  },
  {
   "cell_type": "markdown",
   "metadata": {},
   "source": [
    "# Teste: exemplo Syngenta\n",
    "## Abrindo o site principal e coletando os links de cada semente:"
   ]
  },
  {
   "cell_type": "code",
   "execution_count": 77,
   "metadata": {},
   "outputs": [],
   "source": [
    "from urllib.request import urlopen\n",
    "from urllib.parse import urljoin\n",
    "from bs4 import BeautifulSoup"
   ]
  },
  {
   "cell_type": "code",
   "execution_count": 78,
   "metadata": {},
   "outputs": [],
   "source": [
    "def scrap_colect_links(url, class_card):\n",
    "    \n",
    "    \"\"\"Abre o link principal da Syngenta e busca os links de cada semente\"\"\"\n",
    "    \n",
    "    html = urlopen(url)\n",
    "    scrap = BeautifulSoup(html, 'html.parser')\n",
    "\n",
    "    cards = scrap.find_all('div', {'class': class_card})\n",
    "    \n",
    "    links = []\n",
    "\n",
    "    for link in cards:\n",
    "        link = link.a['href']\n",
    "        links.append(urljoin('https://www.portalsyngenta.com.br', link))\n",
    "    \n",
    "    return links                   "
   ]
  },
  {
   "cell_type": "code",
   "execution_count": 81,
   "metadata": {},
   "outputs": [
    {
     "data": {
      "text/plain": [
       "['https://www.portalsyngenta.com.br/sementes/nk-soja/nk-8770-ipro',\n",
       " 'https://www.portalsyngenta.com.br/sementes/nk-soja/nk-7777-ipro',\n",
       " 'https://www.portalsyngenta.com.br/sementes/nk-soja/nk-8448-ipro',\n",
       " 'https://www.portalsyngenta.com.br/sementes/nk-soja/nk-8301-ipro',\n",
       " 'https://www.portalsyngenta.com.br/sementes/nk-soja/nk-7201-ipro',\n",
       " 'https://www.portalsyngenta.com.br/sementes/nk-soja/nk-6201-ipro']"
      ]
     },
     "execution_count": 81,
     "metadata": {},
     "output_type": "execute_result"
    }
   ],
   "source": [
    "links = scrap_colect_links(url, 'card-text-2 card-portfolio') \n",
    "links"
   ]
  },
  {
   "cell_type": "markdown",
   "metadata": {},
   "source": [
    "## Usando `html2text` de todas as páginas;\n",
    "### Armazenando os textos em um dict ( )"
   ]
  },
  {
   "cell_type": "code",
   "execution_count": 193,
   "metadata": {},
   "outputs": [
    {
     "name": "stdout",
     "output_type": "stream",
     "text": [
      "6\n"
     ]
    }
   ],
   "source": [
    "paginas_sementes_nk = {}\n",
    "\n",
    "for link in links: \n",
    "     \n",
    "    html = urlopen(link)\n",
    "    scrap = BeautifulSoup(html, 'html.parser')\n",
    "    pagina = html2text(scrap.prettify()).lower()   # trazendo tudo para minusculo\n",
    "        \n",
    "    paginas_sementes_nk[link[-12:]]= pagina\n",
    "    \n",
    "print(len(paginas_sementes_nk))"
   ]
  },
  {
   "cell_type": "markdown",
   "metadata": {},
   "source": [
    "## Explorando o texto com `find`"
   ]
  },
  {
   "cell_type": "code",
   "execution_count": 108,
   "metadata": {},
   "outputs": [
    {
     "data": {
      "text/plain": [
       "19878"
      ]
     },
     "execution_count": 108,
     "metadata": {},
     "output_type": "execute_result"
    }
   ],
   "source": [
    "i = paginas_sementes_nk['nk-8770-ipro'].find('cor da flor')\n",
    "if i:\n",
    "    print(i+len('cor da flor'))\n"
   ]
  },
  {
   "cell_type": "markdown",
   "metadata": {},
   "source": [
    "## Análise de texto exploratória:\n",
    "\n",
    "Referência https://towardsdatascience.com/exploratory-text-analysis-in-python-8cf42b758d9e\n",
    "* `nltk` : The Natural Language Toolkit library"
   ]
  },
  {
   "cell_type": "code",
   "execution_count": 109,
   "metadata": {},
   "outputs": [
    {
     "name": "stderr",
     "output_type": "stream",
     "text": [
      "[nltk_data] Downloading package punkt to\n",
      "[nltk_data]     /home/anandaheino/nltk_data...\n",
      "[nltk_data]   Unzipping tokenizers/punkt.zip.\n",
      "[nltk_data] Downloading package stopwords to\n",
      "[nltk_data]     /home/anandaheino/nltk_data...\n",
      "[nltk_data]   Unzipping corpora/stopwords.zip.\n",
      "[nltk_data] Downloading package wordnet to\n",
      "[nltk_data]     /home/anandaheino/nltk_data...\n",
      "[nltk_data]   Unzipping corpora/wordnet.zip.\n"
     ]
    },
    {
     "data": {
      "text/plain": [
       "True"
      ]
     },
     "execution_count": 109,
     "metadata": {},
     "output_type": "execute_result"
    }
   ],
   "source": [
    "import nltk        # The Natural Language Toolkit library\n",
    "nltk.download('punkt')        # for sent_tokenize\n",
    "nltk.download('stopwords') \n",
    "nltk.download('wordnet')      # for WordNetLemmatizer"
   ]
  },
  {
   "cell_type": "code",
   "execution_count": 110,
   "metadata": {},
   "outputs": [],
   "source": [
    "# Data manipulation/analysis\n",
    "import numpy as np\n",
    "import pandas as pd"
   ]
  },
  {
   "cell_type": "code",
   "execution_count": 111,
   "metadata": {},
   "outputs": [],
   "source": [
    "# Data partitioning\n",
    "from sklearn.model_selection import train_test_split"
   ]
  },
  {
   "cell_type": "code",
   "execution_count": 112,
   "metadata": {},
   "outputs": [],
   "source": [
    "# Text preprocessing/analysis\n",
    "import re\n",
    "from nltk import word_tokenize, sent_tokenize, FreqDist\n",
    "from nltk.util import ngrams\n",
    "from nltk.corpus import stopwords\n",
    "from nltk.stem import WordNetLemmatizer\n",
    "from nltk.tokenize import RegexpTokenizer"
   ]
  },
  {
   "cell_type": "code",
   "execution_count": 113,
   "metadata": {},
   "outputs": [],
   "source": [
    "# Visualisation\n",
    "import matplotlib.pyplot as plt\n",
    "import seaborn as sns\n",
    "sns.set(style=\"whitegrid\", context='talk', \n",
    "        palette=['#D44D5C', '#43AA8B'])"
   ]
  },
  {
   "cell_type": "markdown",
   "metadata": {},
   "source": [
    "## Transformando tudo em strings separadas:\n",
    "\n"
   ]
  },
  {
   "cell_type": "code",
   "execution_count": 180,
   "metadata": {},
   "outputs": [
    {
     "name": "stdout",
     "output_type": "stream",
     "text": [
      "['skip', 'to', 'main', 'content', 'pesquisa', '__', '![pesquisa](https://mediasyg.pixit.com.br/s3fs-public/search-icon-2.svg)', '[', '![facebook](https://mediasyg.pixit.com.br/s3fs-public/facebook-header.png)', '](https://www.facebook.com/syngenta/)', '[', '![instagram](https://mediasyg.pixit.com.br/s3fs-public/instagram-header.png)', '](https://www.instagram.com/syngentabrasil/)', '[', '![linkedin](https://mediasyg.pixit.com.br/s3fs-public/linkedin-header.png)', '](https://www.linkedin.com/company/syngenta/)', '[', '![youtube](https://mediasyg.pixit.com.br/s3fs-public/youtube-header.png)', '](https://www.youtube.com/user/syngentabrasil)', '[']\n"
     ]
    }
   ],
   "source": [
    "test_string = paginas_sementes_nk['nk-8770-ipro'].split()\n",
    "len(test_string)\n",
    "print(test_string[:20])"
   ]
  },
  {
   "cell_type": "markdown",
   "metadata": {},
   "source": [
    "* vemos acima que muitos tokens começam com **! e (, ), [, ]**... Isso pode ser removido\n",
    "\n",
    "## Mostrando as 20 strings mais comuns:"
   ]
  },
  {
   "cell_type": "code",
   "execution_count": 126,
   "metadata": {},
   "outputs": [
    {
     "data": {
      "text/plain": [
       "[('[', 258),\n",
       " ('*', 242),\n",
       " ('|', 109),\n",
       " ('de', 91),\n",
       " ('e', 74),\n",
       " ('para', 30),\n",
       " ('a', 27),\n",
       " ('da', 25),\n",
       " ('no', 21),\n",
       " ('syngenta', 19),\n",
       " ('sementes', 18),\n",
       " ('o', 18),\n",
       " ('um', 17),\n",
       " ('voltar', 14),\n",
       " ('é', 14),\n",
       " ('®', 13),\n",
       " ('do', 13),\n",
       " ('em', 13),\n",
       " ('culturas', 12),\n",
       " ('das', 12)]"
      ]
     },
     "execution_count": 126,
     "metadata": {},
     "output_type": "execute_result"
    }
   ],
   "source": [
    "frequentes20 = FreqDist(test_string).most_common(20)\n",
    "frequentes20"
   ]
  },
  {
   "cell_type": "markdown",
   "metadata": {},
   "source": [
    "## Olhando as Strings curtas: com < = 3 caracteres\n",
    "\n",
    "* importantes: \"cor\", \"da\", \"kg\", \"pms\"\n",
    "* talvez seja uma abordagem melhor remover as mais rapetidas"
   ]
  },
  {
   "cell_type": "code",
   "execution_count": 132,
   "metadata": {},
   "outputs": [
    {
     "name": "stdout",
     "output_type": "stream",
     "text": [
      "em  | kg  | pms  | nos  | uma  | fs,  | cor  | com  | ma  | boa  | que  | sc  | bem  | 10  | ®  | as  | 125  | .  | tem  | 600  | new  | |  | ©  | cm)  | 2  | das  | um  | ##  | 14  | 704  | uso  | nas  | sem  | *  | nk  | no  | duo  | seu  | 110  | não  | 115  | dfc  | +  | /  | de  | s,  | 260  | >  | 250  | pro  | \\-  | mm  | [  | 1  | por  | (nº  | 405  | –  | na  | 8.7  | s  | dos  | to  | uv  | ao  | do  | 97  | ](/  | os  | 404  | 320  | r&d  | 3  | 50  | é  | tsi  | top  | pi  | e  | 190  | o  | 200  | 19  | faz  | 5,5  | -  | 112  | a  | mas  | __  | 140  | :  | da  | "
     ]
    }
   ],
   "source": [
    "curtas3 = set(c for c in test_string if len(c)<4)\n",
    "\n",
    "for c in curtas3:\n",
    "    print(c, ' | ', end='')"
   ]
  },
  {
   "cell_type": "code",
   "execution_count": null,
   "metadata": {},
   "outputs": [],
   "source": [
    "def summarise(pattern, strings, freq):\n",
    "    \"\"\"Summarise strings matching a pattern.\"\"\"\n",
    "    # Find matches\n",
    "    compiled_pattern = re.compile(pattern)\n",
    "    matches = [s for s in strings if compiled_pattern.search(s)]\n",
    "    \n",
    "    # Print volume and proportion of matches\n",
    "    print(\"{} strings, that is {:.2%} of total\".format(len(matches), \n",
    "                                                       len(matches)/ \n",
    "                                                       len(strings)))\n",
    "    \n",
    "    # Create list of tuples containing matches and their frequency\n",
    "    output = [(c, freq[c][0]) for c in set(matches)]\n",
    "    output.sort(key=lambda x:x[1], reverse=True)\n",
    "    \n",
    "    return output\n",
    "# Find strings possibly containing html tag\n",
    "summarise(r\"[!, \\s]\", test_string, frequentes20)"
   ]
  },
  {
   "cell_type": "markdown",
   "metadata": {},
   "source": [
    "## Tokenising\n",
    "💡 Token is a sequence of characters = words.\n",
    "\n",
    "💡 Tokenisation is a process of splitting a document into tokens and sometimes also throwing away certain characters such as punctuation. \n",
    "* Example: Tokenisation turns ‘This movie was awesome’ into 4 tokens: [‘This’, ‘movie’, ‘was’, ‘awesome’]"
   ]
  },
  {
   "cell_type": "code",
   "execution_count": 170,
   "metadata": {},
   "outputs": [
    {
     "name": "stdout",
     "output_type": "stream",
     "text": [
      "Testando a primeira página de sementes: Nº tokens\n",
      "* total: 3518\n",
      "* únicos: 744\n"
     ]
    }
   ],
   "source": [
    "test_string = list(test_string.copy())\n",
    "tokeniser = RegexpTokenizer(r\"[a-zA-Z0-9]+\")\n",
    "tokens = tokeniser.tokenize(paginas_sementes_nk['nk-8770-ipro'])\n",
    "\n",
    "print(f'Testando a primeira página de sementes: Nº tokens\\n* total: \n",
    "      {len(tokens)}\\n* únicos: {len(set(tokens))}')     "
   ]
  },
  {
   "cell_type": "markdown",
   "metadata": {},
   "source": [
    "## Nº de caracteres médio / token contido na primeira pagina:\n"
   ]
  },
  {
   "cell_type": "code",
   "execution_count": 175,
   "metadata": {},
   "outputs": [
    {
     "name": "stdout",
     "output_type": "stream",
     "text": [
      "Nº médio de caracteres/token: 4.9795\n"
     ]
    },
    {
     "data": {
      "image/png": "[encoded data removed]",
      "text/plain": [
       "<Figure size 360x360 with 1 Axes>"
      ]
     },
     "metadata": {},
     "output_type": "display_data"
    }
   ],
   "source": [
    "# Create list of token lengths for each token\n",
    "token_length = [len(t) for t in tokens]\n",
    "\n",
    "# Average number of characters per token\n",
    "print(f\"Nº médio de caracteres/token: {round(np.mean(token_length),4)}\")\n",
    "\n",
    "# Plot distribution\n",
    "plt.figure(figsize=(5, 5))\n",
    "sns.countplot(y=token_length)\n",
    "plt.title(\"Contagem de token com comprimentos variados\", size=20);"
   ]
  },
  {
   "cell_type": "markdown",
   "metadata": {},
   "source": [
    "## Verificando as stopwords do idioma do texto:\n",
    "### Adicionando mais stopwords personalizadas com `extend`"
   ]
  },
  {
   "cell_type": "code",
   "execution_count": 212,
   "metadata": {},
   "outputs": [
    {
     "name": "stdout",
     "output_type": "stream",
     "text": [
      "Em português, temos 340 stopwords.\n",
      " São elas:\n",
      "\n",
      "de  | a  | o  | que  | e  | é  | do  | da  | em  | um  | para  | com  | não  | uma  | os  | no  | se  | na  | por  | mais  | as  | dos  | como  | mas  | ao  | ele  | das  | à  | seu  | sua  | ou  | quando  | muito  | nos  | já  | eu  | também  | só  | pelo  | pela  | até  | isso  | ela  | entre  | depois  | sem  | mesmo  | aos  | seus  | quem  | nas  | me  | esse  | eles  | você  | essa  | num  | nem  | suas  | meu  | às  | minha  | numa  | pelos  | elas  | qual  | nós  | lhe  | deles  | essas  | esses  | pelas  | este  | dele  | tu  | te  | vocês  | vos  | lhes  | meus  | minhas  | teu  | tua  | teus  | tuas  | nosso  | nossa  | nossos  | nossas  | dela  | delas  | esta  | estes  | estas  | aquele  | aquela  | aqueles  | aquelas  | isto  | aquilo  | estou  | está  | estamos  | estão  | estive  | esteve  | estivemos  | estiveram  | estava  | estávamos  | estavam  | estivera  | estivéramos  | esteja  | estejamos  | estejam  | estivesse  | estivéssemos  | estivessem  | estiver  | estivermos  | estiverem  | hei  | há  | havemos  | hão  | houve  | houvemos  | houveram  | houvera  | houvéramos  | haja  | hajamos  | hajam  | houvesse  | houvéssemos  | houvessem  | houver  | houvermos  | houverem  | houverei  | houverá  | houveremos  | houverão  | houveria  | houveríamos  | houveriam  | sou  | somos  | são  | era  | éramos  | eram  | fui  | foi  | fomos  | foram  | fora  | fôramos  | seja  | sejamos  | sejam  | fosse  | fôssemos  | fossem  | for  | formos  | forem  | serei  | será  | seremos  | serão  | seria  | seríamos  | seriam  | tenho  | tem  | temos  | tém  | tinha  | tínhamos  | tinham  | tive  | teve  | tivemos  | tiveram  | tivera  | tivéramos  | tenha  | tenhamos  | tenham  | tivesse  | tivéssemos  | tivessem  | tiver  | tivermos  | tiverem  | terei  | terá  | teremos  | terão  | teria  | teríamos  | teriam  | skip  | to  | main  | content  | pesquisa  | [  | *  | |  | voltar  | ®  | https  | websites  | whatsapp  | www  | turkey  | uk  | ukraine  | us  | xtra  | youtube  | zealand  | ajudar  | united  | australia  | austria  | avan  | avicta  | aviso  | bangladesh  | banner  | belarus  | belgium  | bem  | bg  | br  | brasil  | brazil  | bulgaria  | by  | c  | ca  | caf  | canada  | canais  | canal1  | canal2  | colombia  | country  | croatia  | czech  | denmark  | facebook  | faleconosco  | finland  | france  | germany  | greece  | guatemala  | hortifr  | hortifruti  | https  | hungary  | india  | instagram  | ireland  | italy  | kazakhstan  | kenya  | kingdom  | korea  | linkedin  | mailto  | mexico  | netherlands  | norway  | pakistan  | panama  | phone  | podcast  | podcasts  | poland  | portugal  | pt  | quer  | republic  | romania  | russia  | sc  | sk  | slovakia  | slovenia  | south  | spain  | states  | sweden  | switzerland  | th  | thailand  | tsi  | uruguay  | user  | venezuela  | vietnam  | mediasyg  | pixit  | s3fs  | public  | search  | icon  | svg  | png  | header  | api  | send  | 5511957869038  | text  | app  | absent  | 0  | argentina  | chile  | china  | indonesia  | japan  | lithuania  | africa  | 2  | syngenta  | syngentabrasil  | home  | sites  | default  | files  | logo  | historia  | hist  | "
     ]
    }
   ],
   "source": [
    "stop_words = stopwords.words(\"portuguese\")\n",
    "stop_words.extend(['skip', 'to', 'main', 'content', 'pesquisa', \n",
    "                   '[', '*', '|', 'voltar', '®', 'https','websites',\n",
    "                   'whatsapp', 'www','turkey','uk','ukraine','us',\n",
    "                   'xtra','youtube','zealand', 'ajudar', 'united',\n",
    "                   'australia','austria','avan','avicta','aviso',\n",
    "                   'bangladesh','banner','belarus','belgium','bem',\n",
    "                   'bg','br','brasil','brazil','bulgaria','by','c',\n",
    "                   'ca','caf','canada','canais','canal1','canal2',\n",
    "                   'colombia','country','croatia','czech','denmark',\n",
    "                   'facebook', 'faleconosco','finland','france',\n",
    "                   'germany','greece','guatemala','hortifr','hortifruti',\n",
    "                   'https','hungary','india','instagram','ireland','italy',\n",
    "                   'kazakhstan','kenya','kingdom','korea','linkedin',\n",
    "                   'mailto','mexico','netherlands','norway','pakistan',\n",
    "                   'panama','phone','podcast','podcasts','poland','portugal',\n",
    "                   'pt','quer','republic','romania','russia','sc','sk',\n",
    "                   'slovakia','slovenia','south','spain','states','sweden',\n",
    "                   'switzerland','th','thailand', 'tsi','uruguay','user',\n",
    "                   'venezuela','vietnam','mediasyg', 'pixit', 's3fs', 'public', \n",
    "                   'search', 'icon','svg','png','header','api', 'send', \n",
    "                   '5511957869038', 'text', 'app', 'absent', '0','argentina',\n",
    "                   'chile','china','indonesia','japan','lithuania','africa',\n",
    "                   '2', 'syngenta', 'syngentabrasil','home', 'sites', 'default', \n",
    "                   'files', 'logo','historia','hist'])\n",
    " \n",
    " \n",
    "print(f\"Em português, temos {len(stop_words)} stopwords.\\n São elas:\\n\")\n",
    "for w in stop_words:\n",
    "    print(w, ' | ', end='')"
   ]
  },
  {
   "cell_type": "markdown",
   "metadata": {},
   "source": [
    "## Removendo as stopwords da página"
   ]
  },
  {
   "cell_type": "code",
   "execution_count": 213,
   "metadata": {},
   "outputs": [
    {
     "name": "stdout",
     "output_type": "stream",
     "text": [
      "Nº de tokens após limpeza: 1794\n",
      "Foi removido 49.01% dos tokens\n"
     ]
    }
   ],
   "source": [
    "tokens_clean = [t for t in tokens if t not in stop_words]\n",
    "print(f\"Nº de tokens após limpeza: {len(tokens_clean)}\")\n",
    "print(f'Foi removido {100-(len(tokens_clean)*100/len(tokens)):.2f}% dos tokens')"
   ]
  },
  {
   "cell_type": "code",
   "execution_count": 220,
   "metadata": {},
   "outputs": [
    {
     "name": "stdout",
     "output_type": "stream",
     "text": [
      "['amplo', 'espectro', 'controle', 'plantas', 'daninhas', 'flexibilidade', 'uso', 'moddus', 'cana', 'produtos', 'moddus', 'cana', 'moddus', 'cana', 'moddus', 'regulador', 'crescimento', 'seletivo', 'recomendado', 'aplica', 'cultura', 'cana', 'car', 'visando', 'acelera', 'processos', 'matura', 'planta', 'ac', 'mulo', 'sacarose', 'colmo', 'moddus', 'trigo', 'produtos', 'moddus', 'trigo', 'moddus', 'trigo', 'moddus', 'regulador', 'crescimento', 'seletivo', 'recomendado', 'aplica', 'cultura', 'trigo', 'cevada', 'visando', 'reduzir', 'crescimento', 'plantas', 'fortalecimento', 'n', 's', 'basais', 'reglone', 'produtos', 'reglone', 'reglone', 'reglone', 'melhor', 'op', 'desseca', 'pr', 'plantio', 'sequencial', 'ideal', 'controle', 'plantas', 'daninhas', 'resistentes', 'glifosato', 'melhor', 'herbicida', 'multicultura', 'r', 'pida', 'saiba', 'sobre', 'herbicidas', 'segmentos', 'herbicidas', 'inseticidas', 'actara', 'produtos', 'actara', 'actara', 'inseticida', 'sist', 'mico', 'indicado', 's', 'rie', 'culturas', 'cana', 'car', 'algod', 'controla', 'diferentes']\n"
     ]
    }
   ],
   "source": [
    "print(tokens_clean[800:900])"
   ]
  }
 ],
 "metadata": {
  "kernelspec": {
   "display_name": "Python 3",
   "language": "python",
   "name": "python3"
  },
  "language_info": {
   "codemirror_mode": {
    "name": "ipython",
    "version": 3
   },
   "file_extension": ".py",
   "mimetype": "text/x-python",
   "name": "python",
   "nbconvert_exporter": "python",
   "pygments_lexer": "ipython3",
   "version": "3.7.6"
  }
 },
 "nbformat": 4,
 "nbformat_minor": 4
}
