{
 "cells": [
  {
   "cell_type": "markdown",
   "metadata": {},
   "source": [
    "## Este Notebook tem como objetivo:\n",
    "* ### extrair o texto das páginas de cada semente, de 10 sites. São eles:\n",
    "  1. Syngenta\n",
    "  2. NK sementes (também são da Syngenta)\n",
    "  3. TMG\n",
    "  4. Don Mario cerrado\n",
    "  5. Don Mario Sul\n",
    "  6. Brasmax Cerrado\n",
    "  7. Brasmax Sul\n",
    "  8. Nidera\n",
    "  9. Brevant\n",
    "  10. KWS"
   ]
  },
  {
   "cell_type": "code",
   "execution_count": 1,
   "metadata": {},
   "outputs": [],
   "source": [
    "url_1 = 'https://www.portalsyngenta.com.br/sementes/syngenta-soja'\n",
    "url_2 = 'https://www.portalsyngenta.com.br/sementes/nk-soja'\n",
    "url_3 = 'https://www.tmg.agr.br/ptbr/cultivares/soja'\n",
    "url_4 = 'https://www.donmario.com/pt-br/catalogo-cerrado/'\n",
    "url_5 = 'https://www.donmario.com/pt-br/catalogo-sul/'\n",
    "url_6 = 'https://www.brasmaxgenetica.com.br/cultivar-regiao-cerrado/'\n",
    "url_7 = 'https://www.brasmaxgenetica.com.br/cultivar-regiao-sul/'\n",
    "url_8 = 'https://www.niderasementes.com.br/soja/'\n",
    "url_9 = 'https://www.brevant.com.br/produtos/soja.html'\n",
    "url_10 = 'https://www.kws.com/br/pt/produtos/soja/portfolio-completo-soja/'"
   ]
  },
  {
   "cell_type": "code",
   "execution_count": 2,
   "metadata": {},
   "outputs": [],
   "source": [
    "from html2text import html2text\n",
    "from urllib.request import urlopen\n",
    "from urllib.parse import urljoin\n",
    "from bs4 import BeautifulSoup"
   ]
  },
  {
   "cell_type": "markdown",
   "metadata": {},
   "source": [
    "# 1. Syngenta\n",
    "* Analisando o html da página, vemos que todos os cards das sementes tem:\n",
    "  * < div class = \"card-text-2 card-portfolio\"\n",
    "  \n",
    "* Para obter os links específicos de cada semente, temos que usar `urljoin`\n",
    "  * link recolhido no html + link principal\n",
    "\n",
    "* Entretanto, alguns links parciais estão incompletos.\n",
    "* Para corrigir o erro, temos que usar um if dentro da def `scrap_and_colect_syngenta` para adicionar a parte que falta _(sementes/)_, caso não tenha."
   ]
  },
  {
   "cell_type": "code",
   "execution_count": 3,
   "metadata": {},
   "outputs": [],
   "source": [
    "def scrap_and_colect_syngenta(url, class_card):\n",
    "    \n",
    "    \"\"\"Abre o link principal das sementes de soja da Syngenta e da NK sementes.\n",
    "    Recebe:\n",
    "    * <url> a ser scrapped; \n",
    "    * <class_card> que contém os links das sementes.\n",
    "    ---> Retorna uma lista com os links de cada semente\"\"\"\n",
    "    \n",
    "    html = urlopen(url)\n",
    "    scrap = BeautifulSoup(html, 'html.parser')\n",
    "\n",
    "    cards = scrap.find_all('div', {'class': class_card})\n",
    "    \n",
    "    links = []\n",
    "\n",
    "    for link in cards:\n",
    "        link = link.a['href']\n",
    "        if 'sementes' in link:\n",
    "            links.append(urljoin('https://www.portalsyngenta.com.br', link))\n",
    "        else: \n",
    "            link = 'sementes/'+link\n",
    "            links.append(urljoin('https://www.portalsyngenta.com.br', link))\n",
    "    \n",
    "    return links                   "
   ]
  },
  {
   "cell_type": "code",
   "execution_count": 4,
   "metadata": {},
   "outputs": [
    {
     "data": {
      "text/plain": [
       "['https://www.portalsyngenta.com.br/sementes/syngenta-soja/syn15600-ipro',\n",
       " 'https://www.portalsyngenta.com.br/sementes/syngenta-soja/syn16861-ipro',\n",
       " 'https://www.portalsyngenta.com.br/sementes/syngenta-soja/syn1059-rr',\n",
       " 'https://www.portalsyngenta.com.br/sementes/syngenta-soja/syn1163-rr',\n",
       " 'https://www.portalsyngenta.com.br/sementes/syngenta-soja/syn1258-rr',\n",
       " 'https://www.portalsyngenta.com.br/sementes/syngenta-soja/syn1281-rr',\n",
       " 'https://www.portalsyngenta.com.br/sementes/syngenta-soja/syn1683-ipro',\n",
       " 'https://www.portalsyngenta.com.br/sementes/syngenta-soja/syn1785-ipro',\n",
       " 'https://www.portalsyngenta.com.br/sementes/syngenta-soja/syn1687-ipro',\n",
       " 'https://www.portalsyngenta.com.br/sementes/syngenta-soja/syn13610-ipro',\n",
       " 'https://www.portalsyngenta.com.br/sementes/syngenta-soja/syn15640-ipro',\n",
       " 'https://www.portalsyngenta.com.br/sementes/syngenta-soja/syn15630-ipro',\n",
       " 'https://www.portalsyngenta.com.br/sementes/syngenta-soja/syn1562-ipro',\n",
       " 'https://www.portalsyngenta.com.br/sementes/syngenta-soja/syn1561-ipro',\n",
       " 'https://www.portalsyngenta.com.br/sementes/syngenta-soja/syn1366c-ipro']"
      ]
     },
     "execution_count": 4,
     "metadata": {},
     "output_type": "execute_result"
    }
   ],
   "source": [
    "links_1 = scrap_and_colect_syngenta(url_1, \"card-text-2 card-portfolio\") \n",
    "links_1    # link para cada semente de soja Syn "
   ]
  },
  {
   "cell_type": "markdown",
   "metadata": {},
   "source": [
    "# 2. NK sementes (Syngenta)\n",
    "* Analisando o html da página, vemos que todos os cards das sementes tem:\n",
    "  * < div class = \"card-text-2 card-portfolio\""
   ]
  },
  {
   "cell_type": "code",
   "execution_count": 5,
   "metadata": {},
   "outputs": [
    {
     "data": {
      "text/plain": [
       "['https://www.portalsyngenta.com.br/sementes/nk-soja/nk-8770-ipro',\n",
       " 'https://www.portalsyngenta.com.br/sementes/nk-soja/nk-7777-ipro',\n",
       " 'https://www.portalsyngenta.com.br/sementes/nk-soja/nk-8448-ipro',\n",
       " 'https://www.portalsyngenta.com.br/sementes/nk-soja/nk-8301-ipro',\n",
       " 'https://www.portalsyngenta.com.br/sementes/nk-soja/nk-7201-ipro',\n",
       " 'https://www.portalsyngenta.com.br/sementes/nk-soja/nk-6201-ipro']"
      ]
     },
     "execution_count": 5,
     "metadata": {},
     "output_type": "execute_result"
    }
   ],
   "source": [
    "links_2 = scrap_and_colect_syngenta(url_2, \"card-text-2 card-portfolio\") \n",
    "links_2    # link para cada semente de soja NK"
   ]
  },
  {
   "cell_type": "markdown",
   "metadata": {},
   "source": [
    "# 3. TMG\n",
    "* Analisando o html da página, vemos que s cards das sementes tem essa div, porém com CSS **FLEX container**:\n",
    "  * < div class = \"cultivar-link-v\" flex\n",
    "* No caso da TMG, os links não são parciais, já vem completos.\n",
    "* Por isso a função pode ser diferente, sem o urljoin.\n",
    "* Entretanto, com a página em .js dinâmica, temos que usar `selenium` e `chromedriver`\n",
    "  * REF: https://stackoverflow.com/questions/62165635/how-to-scrape-data-from-flexbox-element-container-with-python-and-beautiful-soup\n",
    "  * download Chromedrive: https://chromedriver.storage.googleapis.com/index.html?path=90.0.4430.24/\n",
    "    * O caminho do driver dentro do pc será usado. \n",
    "    * Exemplo: /home/anandaheino/chromedriver\n",
    "    \n",
    "## * Tentativa de função: \n",
    "OBS: erro de não fechar o browser!!!"
   ]
  },
  {
   "cell_type": "code",
   "execution_count": 57,
   "metadata": {},
   "outputs": [],
   "source": [
    "# !pip install selenium\n",
    "\n",
    "from selenium.webdriver.chrome.options import Options\n",
    "from selenium import webdriver\n",
    "from selenium.webdriver.support.ui import WebDriverWait\n",
    "from selenium.common.exceptions import TimeoutException\n",
    "from time import sleep\n",
    "\n",
    "def scrap_and_colect_css(url, class_card):\n",
    "    \n",
    "    \"\"\"Abre o link principal das sementes de soja.\n",
    "    Recebe:\n",
    "    * <url> a ser scrapped; \n",
    "    * <class_card> que contém os links das sementes.\n",
    "    ---> Retorna uma lista com os links de cada semente\"\"\"\n",
    "\n",
    "    \n",
    "    chrome_options = Options()\n",
    "    \n",
    "    chrome_options.add_argument('disable-notifications')\n",
    "    chrome_options.add_argument('--disable-infobars')\n",
    "    chrome_options.add_argument(\"disable-infobars\")\n",
    "    chrome_options.add_experimental_option(\"prefs\", \n",
    "                                           {\"profile.default_content_setting_values.notifications\": 2})\n",
    "    \n",
    "    browser = webdriver.Chrome(executable_path='/home/anandaheino/chromedriver', options = chrome_options) \n",
    "    browser.get(url)\n",
    "   \n",
    "    delay = 5 #secods\n",
    "\n",
    "    #try:\n",
    "    WebDriverWait(browser, delay)\n",
    "    print (\"\\nPage is ready\")\n",
    "    sleep(5)\n",
    "    browser.minimize_window()\n",
    "    #html = browser.execute_script(\"return document.getElementsByTagName('html')[0].innerHTML\")\n",
    "    html = browser\n",
    "    #print(html)\n",
    "    scrap = BeautifulSoup(html, \"html.parser\")\n",
    "    cards = scrap.find_all('div', {'class': class_card})\n",
    "\n",
    "    links = list(link.a['href'] for link in cards)\n",
    "    return links\n",
    "\n",
    "    browser.close() \n",
    "    browser.quit()\n",
    "    \n",
    "    #except TimeoutException:\n",
    "        #print (\"Loading took too much time! -Try again\")\n",
    "\n",
    "    #finally:\n",
    "        #browser.quit()\n",
    "        \n",
    "    "
   ]
  },
  {
   "cell_type": "code",
   "execution_count": null,
   "metadata": {},
   "outputs": [],
   "source": [
    "# FUNÇÃO COM ERRO, NÃO FECHA O DRIVER APÓS SCRAP A PÁGINA!!!\n",
    "# PEGUEI OS LINKS QUE APARECERAM COMO RETORNO.\n",
    "# NÃO SALVOU NA LISTA links_3.\n",
    "\n",
    "    #cod:\n",
    "# links_3 = scrap_and_colect(url_3, \"cultivar-link-v\") \n",
    "# links_3    # link para cada semente de soja da TMG"
   ]
  },
  {
   "cell_type": "code",
   "execution_count": 61,
   "metadata": {},
   "outputs": [],
   "source": [
    "links_3_tmg = ['https://www.tmg.agr.br/ptbr/cultivar/tmg-2375-ipro', \n",
    "'https://www.tmg.agr.br/ptbr/cultivar/tmg-2379-ipro',\n",
    "'https://www.tmg.agr.br/ptbr/cultivar/tmg-7058-ipro',\n",
    "'https://www.tmg.agr.br/ptbr/cultivar/tmg-2165-ipro',\n",
    "'https://www.tmg.agr.br/ptbr/cultivar/tmg-4377',\n",
    "'https://www.tmg.agr.br/ptbr/cultivar/tmg-7368-ipro',\n",
    "'https://www.tmg.agr.br/ptbr/cultivar/tmg-2757-ipro',\n",
    "'https://www.tmg.agr.br/ptbr/cultivar/tmg-2776-ipro',\n",
    "'https://www.tmg.agr.br/ptbr/cultivar/tmg-2374-ipro',\n",
    "'https://www.tmg.agr.br/ptbr/cultivar/tmg-2359-ipro',\n",
    "'https://www.tmg.agr.br/ptbr/cultivar/tmg-2285-ipro',\n",
    "'https://www.tmg.agr.br/ptbr/cultivar/tmg-1180-rr',\n",
    "'https://www.tmg.agr.br/ptbr/cultivar/tmg-7063-ipro',\n",
    "'https://www.tmg.agr.br/ptbr/cultivar/tmg-7062-ipro',\n",
    "'https://www.tmg.agr.br/ptbr/cultivar/tmg-7067-ipro',\n",
    "'https://www.tmg.agr.br/ptbr/cultivar/tmg-4182',\n",
    "'https://www.tmg.agr.br/ptbr/cultivar/tmg-7262-rr',\n",
    "'https://www.tmg.agr.br/ptbr/cultivar/tmg-2185-ipro',\n",
    "'https://www.tmg.agr.br/ptbr/cultivar/tmg-7061-ipro',\n",
    "'https://www.tmg.agr.br/ptbr/cultivar/tmg-2381-ipro',\n",
    "'https://www.tmg.agr.br/ptbr/cultivar/tmg-2383-ipro',\n",
    "'https://www.tmg.agr.br/ptbr/cultivar/tmg-1288-rr',\n",
    "'https://www.tmg.agr.br/ptbr/cultivar/tmg-2181-ipro',\n",
    "'https://www.tmg.agr.br/ptbr/cultivar/tmg-1188-rr',\n",
    "'https://www.tmg.agr.br/ptbr/cultivar/tmg-2378-ipro',\n",
    "'https://www.tmg.agr.br/ptbr/cultivar/tmg-2173-ipro',\n",
    "'https://www.tmg.agr.br/ptbr/cultivar/tmg-4185',\n",
    "'https://www.tmg.agr.br/ptbr/cultivar/tmg-7363-rr',\n",
    "'https://www.tmg.agr.br/ptbr/cultivar/tmg-7260-ipro',\n",
    "'https://www.tmg.agr.br/ptbr/cultivar/tmg-133-rr',\n",
    "'https://www.tmg.agr.br/ptbr/cultivar/tmg-132-rr',\n",
    "'https://www.tmg.agr.br/ptbr/cultivar/anta-82',\n",
    "'https://www.tmg.agr.br/ptbr/cultivar/tmg-1182-rr',\n",
    "'https://www.tmg.agr.br/ptbr/cultivar/tmg-2182-ipro',\n",
    "'https://www.tmg.agr.br/ptbr/cultivar/tmg-7161-rr',\n",
    "'https://www.tmg.agr.br/ptbr/cultivar/tmg-2183-ipro',\n",
    "'https://www.tmg.agr.br/ptbr/cultivar/tmg-2286-ipro']"
   ]
  },
  {
   "cell_type": "code",
   "execution_count": null,
   "metadata": {},
   "outputs": [],
   "source": []
  }
 ],
 "metadata": {
  "kernelspec": {
   "display_name": "Python 3",
   "language": "python",
   "name": "python3"
  },
  "language_info": {
   "codemirror_mode": {
    "name": "ipython",
    "version": 3
   },
   "file_extension": ".py",
   "mimetype": "text/x-python",
   "name": "python",
   "nbconvert_exporter": "python",
   "pygments_lexer": "ipython3",
   "version": "3.7.6"
  }
 },
 "nbformat": 4,
 "nbformat_minor": 4
}
