{
 "cells": [
  {
   "cell_type": "markdown",
   "metadata": {},
   "source": [
    "## Este Notebook tem como objetivo:\n",
    "* ### extrair o texto das páginas de cada semente, de 10 sites. São eles:\n",
    "  1. Syngenta\n",
    "  2. NK sementes (também são da Syngenta)\n",
    "  3. TMG\n",
    "  4. Don Mario cerrado\n",
    "  5. Don Mario Sul\n",
    "  6. Brasmax Cerrado\n",
    "  7. Brasmax Sul\n",
    "  8. Nidera\n",
    "  9. Brevant\n",
    "  10. KWS"
   ]
  },
  {
   "cell_type": "code",
   "execution_count": 5,
   "metadata": {},
   "outputs": [],
   "source": [
    "url_1 = 'https://www.portalsyngenta.com.br/sementes/syngenta-soja'\n",
    "url_2 = 'https://www.portalsyngenta.com.br/sementes/nk-soja'\n",
    "url_3 = 'https://www.tmg.agr.br/ptbr/cultivares/soja'\n",
    "url_4 = 'https://www.donmario.com/pt-br/catalogo-cerrado/'\n",
    "url_5 = 'https://www.donmario.com/pt-br/catalogo-sul/'\n",
    "url_6 = 'https://www.brasmaxgenetica.com.br/cultivar-regiao-cerrado/'\n",
    "url_7 = 'https://www.brasmaxgenetica.com.br/cultivar-regiao-sul/'\n",
    "url_8 = 'https://www.niderasementes.com.br/soja/'\n",
    "url_9 = 'https://www.brevant.com.br/produtos/soja.html'\n",
    "url_10 = 'https://www.kws.com/br/pt/produtos/soja/portfolio-completo-soja/'"
   ]
  },
  {
   "cell_type": "code",
   "execution_count": 6,
   "metadata": {},
   "outputs": [],
   "source": [
    "from html2text import html2text\n",
    "from urllib.request import urlopen\n",
    "from urllib.parse import urljoin\n",
    "from bs4 import BeautifulSoup"
   ]
  },
  {
   "cell_type": "markdown",
   "metadata": {},
   "source": [
    "# 1. Syngenta\n",
    "* Analisando o html da página, vemos que todos os cards das sementes tem:\n",
    "  * < div class = \"card-text-2 card-portfolio\"\n",
    "  \n",
    "* Para obter os links específicos de cada semente, temos que usar `urljoin`\n",
    "  * link recolhido no html + link principal\n",
    "\n",
    "* Entretanto, alguns links parciais estão incompletos.\n",
    "* Para corrigir o erro, temos que usar um if dentro da def `scrap_and_colect_syngenta` para adicionar a parte que falta _(sementes/)_, caso não tenha."
   ]
  },
  {
   "cell_type": "code",
   "execution_count": 8,
   "metadata": {},
   "outputs": [],
   "source": [
    "def scrap_and_colect_syngenta(url, class_card):\n",
    "    \n",
    "    \"\"\"Abre o link principal das sementes de soja da Syngenta e da NK sementes.\n",
    "    Recebe:\n",
    "    * <url> a ser scrapped; \n",
    "    * <class_card> que contém os links das sementes.\n",
    "    ---> Retorna uma lista com os links de cada semente\"\"\"\n",
    "    \n",
    "    html = urlopen(url)\n",
    "    scrap = BeautifulSoup(html, 'html.parser')\n",
    "\n",
    "    cards = scrap.find_all('div', {'class': class_card})\n",
    "    \n",
    "    links = []\n",
    "\n",
    "    for link in cards:\n",
    "        link = link.a['href']\n",
    "        if 'sementes' in link:\n",
    "            links.append(urljoin('https://www.portalsyngenta.com.br', link))\n",
    "        else: \n",
    "            link = 'sementes/'+link\n",
    "            links.append(urljoin('https://www.portalsyngenta.com.br', link))\n",
    "    \n",
    "    return links                   "
   ]
  },
  {
   "cell_type": "code",
   "execution_count": 9,
   "metadata": {},
   "outputs": [
    {
     "data": {
      "text/plain": [
       "['https://www.portalsyngenta.com.br/sementes/syngenta-soja/syn15600-ipro',\n",
       " 'https://www.portalsyngenta.com.br/sementes/syngenta-soja/syn16861-ipro',\n",
       " 'https://www.portalsyngenta.com.br/sementes/syngenta-soja/syn1059-rr',\n",
       " 'https://www.portalsyngenta.com.br/sementes/syngenta-soja/syn1163-rr',\n",
       " 'https://www.portalsyngenta.com.br/sementes/syngenta-soja/syn1258-rr',\n",
       " 'https://www.portalsyngenta.com.br/sementes/syngenta-soja/syn1281-rr',\n",
       " 'https://www.portalsyngenta.com.br/sementes/syngenta-soja/syn1683-ipro',\n",
       " 'https://www.portalsyngenta.com.br/sementes/syngenta-soja/syn1785-ipro',\n",
       " 'https://www.portalsyngenta.com.br/sementes/syngenta-soja/syn1687-ipro',\n",
       " 'https://www.portalsyngenta.com.br/sementes/syngenta-soja/syn13610-ipro',\n",
       " 'https://www.portalsyngenta.com.br/sementes/syngenta-soja/syn15640-ipro',\n",
       " 'https://www.portalsyngenta.com.br/sementes/syngenta-soja/syn15630-ipro',\n",
       " 'https://www.portalsyngenta.com.br/sementes/syngenta-soja/syn1562-ipro',\n",
       " 'https://www.portalsyngenta.com.br/sementes/syngenta-soja/syn1561-ipro',\n",
       " 'https://www.portalsyngenta.com.br/sementes/syngenta-soja/syn1366c-ipro']"
      ]
     },
     "execution_count": 9,
     "metadata": {},
     "output_type": "execute_result"
    }
   ],
   "source": [
    "links_1 = scrap_and_colect_syngenta(url_1, \"card-text-2 card-portfolio\") \n",
    "links_1    # link para cada semente de soja Syn "
   ]
  },
  {
   "cell_type": "markdown",
   "metadata": {},
   "source": [
    "# 2. NK sementes (Syngenta)\n",
    "* Analisando o html da página, vemos que todos os cards das sementes tem:\n",
    "  * < div class = \"card-text-2 card-portfolio\""
   ]
  },
  {
   "cell_type": "code",
   "execution_count": 10,
   "metadata": {},
   "outputs": [
    {
     "data": {
      "text/plain": [
       "['https://www.portalsyngenta.com.br/sementes/nk-soja/nk-8770-ipro',\n",
       " 'https://www.portalsyngenta.com.br/sementes/nk-soja/nk-7777-ipro',\n",
       " 'https://www.portalsyngenta.com.br/sementes/nk-soja/nk-8448-ipro',\n",
       " 'https://www.portalsyngenta.com.br/sementes/nk-soja/nk-8301-ipro',\n",
       " 'https://www.portalsyngenta.com.br/sementes/nk-soja/nk-7201-ipro',\n",
       " 'https://www.portalsyngenta.com.br/sementes/nk-soja/nk-6201-ipro']"
      ]
     },
     "execution_count": 10,
     "metadata": {},
     "output_type": "execute_result"
    }
   ],
   "source": [
    "links_2 = scrap_and_colect_syngenta(url_2, \"card-text-2 card-portfolio\") \n",
    "links_2    # link para cada semente de soja NK"
   ]
  },
  {
   "cell_type": "markdown",
   "metadata": {},
   "source": [
    "# 3. TMG\n",
    "* Analisando o html da página, vemos que s cards das sementes tem essa div, porém com CSS **FLEX container**:\n",
    "  * < div class = \"cultivar-link-v\" flex\n",
    "* No caso da TMG, os links não são parciais, já vem completos.\n",
    "* Por isso a função pode ser diferente, sem o urljoin.\n",
    "* Entretanto, com a página em .js dinâmica, temos que usar `selenium` e `chromedriver`\n",
    "  * REF: https://stackoverflow.com/questions/62165635/how-to-scrape-data-from-flexbox-element-container-with-python-and-beautiful-soup\n",
    "  * download Chromedrive: https://chromedriver.storage.googleapis.com/index.html?path=90.0.4430.24/\n",
    "    * O caminho do driver dentro do pc será usado. \n",
    "    * Exemplo: /home/anandaheino/chromedriver\n",
    "    \n",
    "## * função que extrai conteúdo dinâmico: \n"
   ]
  },
  {
   "cell_type": "code",
   "execution_count": 11,
   "metadata": {
    "jupyter": {
     "source_hidden": true
    }
   },
   "outputs": [],
   "source": [
    "# !pip install selenium\n",
    "\n",
    "from selenium.webdriver.chrome.options import Options\n",
    "from selenium import webdriver\n",
    "from selenium.webdriver.support.ui import WebDriverWait\n",
    "from selenium.common.exceptions import TimeoutException\n",
    "from time import sleep"
   ]
  },
  {
   "cell_type": "code",
   "execution_count": 12,
   "metadata": {
    "jupyter": {
     "source_hidden": true
    }
   },
   "outputs": [],
   "source": [
    "def scrap_and_colect_css(url, class_card):\n",
    "    \n",
    "    \"\"\"Abre o link principal das sementes de soja.\n",
    "    Usa <div>.\n",
    "    Recebe:\n",
    "    * <url> a ser scrapped; \n",
    "    * <class_card> que contém os links das sementes.\n",
    "    ---> Retorna uma lista com os links de cada semente\"\"\"\n",
    "\n",
    "    \n",
    "    chrome_options = Options()\n",
    "    \n",
    "    chrome_options.add_argument('disable-notifications')\n",
    "    chrome_options.add_argument('--disable-infobars')\n",
    "    chrome_options.add_argument(\"disable-infobars\")\n",
    "    chrome_options.add_experimental_option(\"prefs\", \n",
    "                                           {\"profile.default_content_setting_values.notifications\": 2})\n",
    "    \n",
    "    browser = webdriver.Chrome(executable_path='/home/anandaheino/chromedriver', options = chrome_options) \n",
    "    browser.get(url)\n",
    "   \n",
    "    delay = 5 #secods\n",
    "\n",
    "    #try:\n",
    "    WebDriverWait(browser, delay)\n",
    "    print (\"\\nPage is ready\")\n",
    "    sleep(5)\n",
    "    browser.minimize_window()\n",
    "    html = browser.execute_script(\"return document.getElementsByTagName('html')[0].innerHTML\")\n",
    "\n",
    "    #print(html)\n",
    "    scrap = BeautifulSoup(html, \"html.parser\")\n",
    "    cards = scrap.find_all('div', {'class': class_card})\n",
    "\n",
    "    links = list(link.a['href'] for link in cards)\n",
    "    return links\n",
    "\n",
    "    browser.close() \n",
    "    browser.quit()\n",
    "    \n",
    "    #except TimeoutException:\n",
    "        #print (\"Loading took too much time! -Try again\")\n",
    "\n",
    "    #finally:\n",
    "        #browser.quit()\n",
    "        "
   ]
  },
  {
   "cell_type": "code",
   "execution_count": 13,
   "metadata": {},
   "outputs": [
    {
     "name": "stdout",
     "output_type": "stream",
     "text": [
      "\n",
      "Page is ready\n"
     ]
    },
    {
     "data": {
      "text/plain": [
       "['https://www.tmg.agr.br/ptbr/cultivar/tmg-2375-ipro',\n",
       " 'https://www.tmg.agr.br/ptbr/cultivar/tmg-2379-ipro',\n",
       " 'https://www.tmg.agr.br/ptbr/cultivar/tmg-7058-ipro',\n",
       " 'https://www.tmg.agr.br/ptbr/cultivar/tmg-2165-ipro',\n",
       " 'https://www.tmg.agr.br/ptbr/cultivar/tmg-4377',\n",
       " 'https://www.tmg.agr.br/ptbr/cultivar/tmg-7368-ipro',\n",
       " 'https://www.tmg.agr.br/ptbr/cultivar/tmg-2757-ipro',\n",
       " 'https://www.tmg.agr.br/ptbr/cultivar/tmg-2776-ipro',\n",
       " 'https://www.tmg.agr.br/ptbr/cultivar/tmg-2374-ipro',\n",
       " 'https://www.tmg.agr.br/ptbr/cultivar/tmg-2359-ipro',\n",
       " 'https://www.tmg.agr.br/ptbr/cultivar/tmg-2285-ipro',\n",
       " 'https://www.tmg.agr.br/ptbr/cultivar/tmg-1180-rr',\n",
       " 'https://www.tmg.agr.br/ptbr/cultivar/tmg-7063-ipro',\n",
       " 'https://www.tmg.agr.br/ptbr/cultivar/tmg-7062-ipro',\n",
       " 'https://www.tmg.agr.br/ptbr/cultivar/tmg-7067-ipro',\n",
       " 'https://www.tmg.agr.br/ptbr/cultivar/tmg-4182',\n",
       " 'https://www.tmg.agr.br/ptbr/cultivar/tmg-7262-rr',\n",
       " 'https://www.tmg.agr.br/ptbr/cultivar/tmg-2185-ipro',\n",
       " 'https://www.tmg.agr.br/ptbr/cultivar/tmg-7061-ipro',\n",
       " 'https://www.tmg.agr.br/ptbr/cultivar/tmg-2381-ipro',\n",
       " 'https://www.tmg.agr.br/ptbr/cultivar/tmg-2383-ipro',\n",
       " 'https://www.tmg.agr.br/ptbr/cultivar/tmg-1288-rr',\n",
       " 'https://www.tmg.agr.br/ptbr/cultivar/tmg-2181-ipro',\n",
       " 'https://www.tmg.agr.br/ptbr/cultivar/tmg-1188-rr',\n",
       " 'https://www.tmg.agr.br/ptbr/cultivar/tmg-2378-ipro',\n",
       " 'https://www.tmg.agr.br/ptbr/cultivar/tmg-2173-ipro',\n",
       " 'https://www.tmg.agr.br/ptbr/cultivar/tmg-4185',\n",
       " 'https://www.tmg.agr.br/ptbr/cultivar/tmg-7363-rr',\n",
       " 'https://www.tmg.agr.br/ptbr/cultivar/tmg-7260-ipro',\n",
       " 'https://www.tmg.agr.br/ptbr/cultivar/tmg-133-rr',\n",
       " 'https://www.tmg.agr.br/ptbr/cultivar/tmg-132-rr',\n",
       " 'https://www.tmg.agr.br/ptbr/cultivar/anta-82',\n",
       " 'https://www.tmg.agr.br/ptbr/cultivar/tmg-1182-rr',\n",
       " 'https://www.tmg.agr.br/ptbr/cultivar/tmg-2182-ipro',\n",
       " 'https://www.tmg.agr.br/ptbr/cultivar/tmg-7161-rr',\n",
       " 'https://www.tmg.agr.br/ptbr/cultivar/tmg-2183-ipro',\n",
       " 'https://www.tmg.agr.br/ptbr/cultivar/tmg-2286-ipro']"
      ]
     },
     "execution_count": 13,
     "metadata": {},
     "output_type": "execute_result"
    }
   ],
   "source": [
    "links_3 = scrap_and_colect_css(url_3, \"cultivar-link-v\") \n",
    "links_3    # link para cada semente de soja da TMG"
   ]
  },
  {
   "cell_type": "markdown",
   "metadata": {},
   "source": [
    "# 4. Don Mario - Cerrado\n",
    "* Analisando o html da página, vemos que os cards das sementes são:\n",
    "  * < div class=\"images_holder\"\n",
    "* No caso da Don Mario, os links não são parciais, já vem completos.\n",
    "* Por isso a função pode ser mais simples.\n",
    "\n",
    "### * Implementando uma Função simples, que retornas os links dos cards informados, temos o seguinte erro:\n",
    "      * HTTPError: HTTP Error 403: Forbidden\n",
    "\n",
    "### * Usando a função com Selenium, foi possível extrair os links dos cards das sementes."
   ]
  },
  {
   "cell_type": "code",
   "execution_count": 14,
   "metadata": {},
   "outputs": [
    {
     "name": "stdout",
     "output_type": "stream",
     "text": [
      "\n",
      "Page is ready\n"
     ]
    },
    {
     "data": {
      "text/plain": [
       "['https://www.donmario.com/pt-br/cultivares-cerrado/#section-DM80IX83',\n",
       " 'https://www.donmario.com/pt-br/cultivares-cerrado/#section-DM75i74',\n",
       " 'https://www.donmario.com/pt-br/cultivares-cerrado/#section-DM81I84',\n",
       " 'https://www.donmario.com/pt-br/cultivares-cerrado/#section-DM82K84',\n",
       " 'https://www.donmario.com/pt-br/cultivares-cerrado/#section-DM82i78',\n",
       " 'https://www.donmario.com/pt-br/cultivares-cerrado/#section-DM75i76',\n",
       " 'https://www.donmario.com/pt-br/cultivares-cerrado/#section-DM79I81',\n",
       " 'https://www.donmario.com/pt-br/cultivares-cerrado/#section-DM80i79',\n",
       " 'https://www.donmario.com/pt-br/cultivares-cerrado/#section-DM73i75',\n",
       " 'https://www.donmario.com/pt-br/cultivares-cerrado/#section-DM68i69']"
      ]
     },
     "execution_count": 14,
     "metadata": {},
     "output_type": "execute_result"
    }
   ],
   "source": [
    "links_4 = scrap_and_colect_css(url_4, \"images_holder\")\n",
    "links_4"
   ]
  },
  {
   "cell_type": "markdown",
   "metadata": {},
   "source": [
    "# 5. Don Mario - Sul\n",
    "* Analisando o html da página, vemos que os cards das sementes são iguais do Cerrado:\n",
    "  * < div class=\"images_holder\""
   ]
  },
  {
   "cell_type": "code",
   "execution_count": 15,
   "metadata": {},
   "outputs": [
    {
     "name": "stdout",
     "output_type": "stream",
     "text": [
      "\n",
      "Page is ready\n"
     ]
    },
    {
     "data": {
      "text/plain": [
       "['https://www.donmario.com/pt-br/cultivares-sul/#section-DM64I63IPRO',\n",
       " 'https://www.donmario.com/pt-br/cultivares-sul/#section-DM53i54',\n",
       " 'https://www.donmario.com/pt-br/cultivares-sul/#section-DM60I63IPRO',\n",
       " 'https://www.donmario.com/pt-br/cultivares-sul/#section-DM5958',\n",
       " 'https://www.donmario.com/pt-br/cultivares-sul/#section-DM66i68',\n",
       " 'https://www.donmario.com/pt-br/cultivares-sul/#section-DM57i52']"
      ]
     },
     "execution_count": 15,
     "metadata": {},
     "output_type": "execute_result"
    }
   ],
   "source": [
    "links_5 = scrap_and_colect_css(url_5, \"images_holder\")\n",
    "links_5"
   ]
  },
  {
   "cell_type": "markdown",
   "metadata": {},
   "source": [
    "# 6. Brasmax - Cerrado\n",
    "* Analisando o html da página, vemos que os cards das sementes tem:\n",
    "\n",
    "* <a class=\"info\" href=\"https://www.brasmaxgenetica.com.br/cultivar-regiao-cerrado?produto=xxxxx\"\n",
    "     \n",
    "### * Implementando uma Função simples,temos o seguinte erro:\n",
    "      * HTTPError: HTTP Error 403: Forbidden\n",
    "\n",
    "### * Usando a função com Selenium, foi possível extrair os links dos cards das sementes."
   ]
  },
  {
   "cell_type": "code",
   "execution_count": 17,
   "metadata": {},
   "outputs": [],
   "source": [
    "def scrap_and_colect_css_Brasmax(url, class_card):\n",
    "    \n",
    "    \"\"\"Abre o link principal das sementes de soja.\n",
    "    Usa <a>.\n",
    "    Recebe:\n",
    "    * <url> a ser scrapped; \n",
    "    * <class_card> que contém os links das sementes.\n",
    "    ---> Retorna uma lista com os links de cada semente\"\"\"\n",
    "\n",
    "    \n",
    "    chrome_options = Options()\n",
    "    \n",
    "    chrome_options.add_argument('disable-notifications')\n",
    "    chrome_options.add_argument('--disable-infobars')\n",
    "    chrome_options.add_argument(\"disable-infobars\")\n",
    "    chrome_options.add_experimental_option(\"prefs\", \n",
    "                                           {\"profile.default_content_setting_values.notifications\": 2})\n",
    "    \n",
    "    browser = webdriver.Chrome(executable_path='/home/anandaheino/chromedriver', options = chrome_options) \n",
    "    browser.get(url)\n",
    "   \n",
    "    delay = 5 #secods\n",
    "\n",
    "    #try:\n",
    "    WebDriverWait(browser, delay)\n",
    "    print (\"\\nPage is ready\")\n",
    "    sleep(5)\n",
    "    browser.minimize_window()\n",
    "    html = browser.execute_script(\"return document.getElementsByTagName('html')[0].innerHTML\")\n",
    "\n",
    "    #print(html)\n",
    "    scrap = BeautifulSoup(html, \"html.parser\")\n",
    "    cards = scrap.find_all('a', {'class': class_card})\n",
    "    # print(cards)\n",
    "    links = list(link.get('href') for link in cards)\n",
    "    \n",
    "    return links\n",
    "\n",
    "    browser.close() \n",
    "    \n",
    "    #except TimeoutException:\n",
    "        #print (\"Loading took too much time! -Try again\")\n",
    "\n",
    "    #finally:\n",
    "        #browser.quit()\n",
    "        "
   ]
  },
  {
   "cell_type": "code",
   "execution_count": 18,
   "metadata": {},
   "outputs": [
    {
     "name": "stdout",
     "output_type": "stream",
     "text": [
      "\n",
      "Page is ready\n"
     ]
    },
    {
     "data": {
      "text/plain": [
       "['https://www.brasmaxgenetica.com.br/cultivar-regiao-cerrado?produto=14243',\n",
       " 'https://www.brasmaxgenetica.com.br/cultivar-regiao-cerrado?produto=14248',\n",
       " 'https://www.brasmaxgenetica.com.br/cultivar-regiao-cerrado?produto=14257',\n",
       " 'https://www.brasmaxgenetica.com.br/cultivar-regiao-cerrado?produto=14234',\n",
       " 'https://www.brasmaxgenetica.com.br/cultivar-regiao-cerrado?produto=14253',\n",
       " 'https://www.brasmaxgenetica.com.br/cultivar-regiao-cerrado?produto=14262',\n",
       " 'https://www.brasmaxgenetica.com.br/cultivar-regiao-cerrado?produto=14239',\n",
       " 'https://www.brasmaxgenetica.com.br/cultivar-regiao-cerrado?produto=244',\n",
       " 'https://www.brasmaxgenetica.com.br/cultivar-regiao-cerrado?produto=258',\n",
       " 'https://www.brasmaxgenetica.com.br/cultivar-regiao-cerrado?produto=273',\n",
       " 'https://www.brasmaxgenetica.com.br/cultivar-regiao-cerrado?produto=4985',\n",
       " 'https://www.brasmaxgenetica.com.br/cultivar-regiao-cerrado?produto=8916',\n",
       " 'https://www.brasmaxgenetica.com.br/cultivar-regiao-cerrado?produto=969',\n",
       " 'https://www.brasmaxgenetica.com.br/cultivar-regiao-cerrado?produto=8911',\n",
       " 'https://www.brasmaxgenetica.com.br/cultivar-regiao-cerrado?produto=2505',\n",
       " 'https://www.brasmaxgenetica.com.br/cultivar-regiao-cerrado?produto=963',\n",
       " 'https://www.brasmaxgenetica.com.br/cultivar-regiao-cerrado?produto=294',\n",
       " 'https://www.brasmaxgenetica.com.br/cultivar-regiao-cerrado?produto=967',\n",
       " 'https://www.brasmaxgenetica.com.br/cultivar-regiao-cerrado?produto=250']"
      ]
     },
     "execution_count": 18,
     "metadata": {},
     "output_type": "execute_result"
    }
   ],
   "source": [
    "links_6 = scrap_and_colect_css_Brasmax(url_6, \"info\")\n",
    "links_6"
   ]
  },
  {
   "cell_type": "markdown",
   "metadata": {},
   "source": [
    "# 7. Brasmax - Sul\n",
    "* Analisando o html da página, vemos que os cards das sementes são iguais ao do cerrado:\n",
    "\n",
    "  * <a class=\"info\" href=\"https://www.brasmaxgenetica.com.br/cultivar-regiao-cerrado?produto=xxxxx\"\n",
    "     \n"
   ]
  },
  {
   "cell_type": "code",
   "execution_count": 19,
   "metadata": {},
   "outputs": [
    {
     "name": "stdout",
     "output_type": "stream",
     "text": [
      "\n",
      "Page is ready\n"
     ]
    },
    {
     "data": {
      "text/plain": [
       "['https://www.brasmaxgenetica.com.br/cultivar-regiao-sul?produto=14276',\n",
       " 'https://www.brasmaxgenetica.com.br/cultivar-regiao-sul?produto=14280',\n",
       " 'https://www.brasmaxgenetica.com.br/cultivar-regiao-sul?produto=14267',\n",
       " 'https://www.brasmaxgenetica.com.br/cultivar-regiao-sul?produto=14284',\n",
       " 'https://www.brasmaxgenetica.com.br/cultivar-regiao-sul?produto=14271',\n",
       " 'https://www.brasmaxgenetica.com.br/cultivar-regiao-sul?produto=2501',\n",
       " 'https://www.brasmaxgenetica.com.br/cultivar-regiao-sul?produto=4920',\n",
       " 'https://www.brasmaxgenetica.com.br/cultivar-regiao-sul?produto=1113',\n",
       " 'https://www.brasmaxgenetica.com.br/cultivar-regiao-sul?produto=4927',\n",
       " 'https://www.brasmaxgenetica.com.br/cultivar-regiao-sul?produto=1133',\n",
       " 'https://www.brasmaxgenetica.com.br/cultivar-regiao-sul?produto=1103',\n",
       " 'https://www.brasmaxgenetica.com.br/cultivar-regiao-sul?produto=1149',\n",
       " 'https://www.brasmaxgenetica.com.br/cultivar-regiao-sul?produto=2496',\n",
       " 'https://www.brasmaxgenetica.com.br/cultivar-regiao-sul?produto=1080',\n",
       " 'https://www.brasmaxgenetica.com.br/cultivar-regiao-sul?produto=1128',\n",
       " 'https://www.brasmaxgenetica.com.br/cultivar-regiao-sul?produto=1123',\n",
       " 'https://www.brasmaxgenetica.com.br/cultivar-regiao-sul?produto=1108',\n",
       " 'https://www.brasmaxgenetica.com.br/cultivar-regiao-sul?produto=319',\n",
       " 'https://www.brasmaxgenetica.com.br/cultivar-regiao-sul?produto=1138',\n",
       " 'https://www.brasmaxgenetica.com.br/cultivar-regiao-sul?produto=1159']"
      ]
     },
     "execution_count": 19,
     "metadata": {},
     "output_type": "execute_result"
    }
   ],
   "source": [
    "links_7 = scrap_and_colect_css_Brasmax(url_7, \"info\")\n",
    "links_7"
   ]
  },
  {
   "cell_type": "markdown",
   "metadata": {},
   "source": [
    "# 8. Nidera\n",
    "* Analisando o html da página, vemos que os cards das sementes são:\n",
    "  * div class=\"title\"\n",
    "\n",
    "* Implementando a função `scrap_and_colect_css` para coletar os links das sementes\n"
   ]
  },
  {
   "cell_type": "code",
   "execution_count": 20,
   "metadata": {},
   "outputs": [
    {
     "name": "stdout",
     "output_type": "stream",
     "text": [
      "\n",
      "Page is ready\n"
     ]
    },
    {
     "data": {
      "text/plain": [
       "['https://www.niderasementes.com.br/soja_detalhe/ns-8109-ipro/',\n",
       " 'https://www.niderasementes.com.br/soja_detalhe/ns-7790-ipro/',\n",
       " 'https://www.niderasementes.com.br/soja_detalhe/ns-7654-ipro/',\n",
       " 'https://www.niderasementes.com.br/soja_detalhe/ns-8595-ipro/',\n",
       " 'https://www.niderasementes.com.br/soja_detalhe/ns-8400-ipro/',\n",
       " 'https://www.niderasementes.com.br/soja_detalhe/ns-8590-ipro/',\n",
       " 'https://www.niderasementes.com.br/soja_detalhe/ns-8397-ipro/',\n",
       " 'https://www.niderasementes.com.br/soja_detalhe/ns-8338-ipro/',\n",
       " 'https://www.niderasementes.com.br/soja_detalhe/ns-8300-ipro/',\n",
       " 'https://www.niderasementes.com.br/soja_detalhe/ns-7700-ipro/',\n",
       " 'https://www.niderasementes.com.br/soja_detalhe/ns-8399-ipro/',\n",
       " 'https://www.niderasementes.com.br/soja_detalhe/ns-7709-ipro-centro/',\n",
       " 'https://www.niderasementes.com.br/soja_detalhe/ns-7780-ipro/',\n",
       " 'https://www.niderasementes.com.br/soja_detalhe/ns-7667-ipro/',\n",
       " 'https://www.niderasementes.com.br/soja_detalhe/ns-7505-ipro/',\n",
       " 'https://www.niderasementes.com.br/soja_detalhe/ns-7399-ipro/',\n",
       " 'https://www.niderasementes.com.br/soja_detalhe/ns-7300-ipro-centro/',\n",
       " 'https://www.niderasementes.com.br/soja_detalhe/ns-6601-ipro/',\n",
       " 'https://www.niderasementes.com.br/soja_detalhe/ns-7007-ipro/',\n",
       " 'https://www.niderasementes.com.br/soja_detalhe/ns-7901-rr/',\n",
       " 'https://www.niderasementes.com.br/soja_detalhe/ns-6906-ipro-centro/',\n",
       " 'https://www.niderasementes.com.br/soja_detalhe/ns-7670-rr/',\n",
       " 'https://www.niderasementes.com.br/soja_detalhe/ns-8383-rr/',\n",
       " 'https://www.niderasementes.com.br/soja_detalhe/na-7337-rr/',\n",
       " 'https://www.niderasementes.com.br/soja_detalhe/ns-7200-rr/',\n",
       " 'https://www.niderasementes.com.br/soja_detalhe/ns-5505-i2x/',\n",
       " 'https://www.niderasementes.com.br/soja_detalhe/ns-6446-i2x/',\n",
       " 'https://www.niderasementes.com.br/soja_detalhe/ns-5115-i2x/',\n",
       " 'https://www.niderasementes.com.br/soja_detalhe/ns-5933-ipro/',\n",
       " 'https://www.niderasementes.com.br/soja_detalhe/ns-5700-ipro/',\n",
       " 'https://www.niderasementes.com.br/soja_detalhe/ns-6010-ipro/',\n",
       " 'https://www.niderasementes.com.br/soja_detalhe/ns-6906-ipro-sul/',\n",
       " 'https://www.niderasementes.com.br/soja_detalhe/ns-6909-ipro/',\n",
       " 'https://www.niderasementes.com.br/soja_detalhe/ns-7709-ipro/',\n",
       " 'https://www.niderasementes.com.br/soja_detalhe/ns-7300-ipro-sul/',\n",
       " 'https://www.niderasementes.com.br/soja_detalhe/ns-5959-ipro-3/',\n",
       " 'https://www.niderasementes.com.br/soja_detalhe/ns-6700-ipro-sul/',\n",
       " 'https://www.niderasementes.com.br/soja_detalhe/ns-6220-ipro/',\n",
       " 'https://www.niderasementes.com.br/soja_detalhe/ns-6828-ipro/',\n",
       " 'https://www.niderasementes.com.br/soja_detalhe/ns-6601-ipro-sul/',\n",
       " 'https://www.niderasementes.com.br/soja_detalhe/ns-6162-ipro/',\n",
       " 'https://www.niderasementes.com.br/soja_detalhe/ns-5445-ipro/',\n",
       " 'https://www.niderasementes.com.br/soja_detalhe/na-5909-rg-sul/',\n",
       " 'https://www.niderasementes.com.br/soja_detalhe/ns-5258-rr/',\n",
       " 'https://www.niderasementes.com.br/soja_detalhe/ns-4823-rr/',\n",
       " 'https://www.niderasementes.com.br/soja_detalhe/ns-6209-rr-2/',\n",
       " 'https://www.niderasementes.com.br/soja_detalhe/ns-6823-rr/']"
      ]
     },
     "execution_count": 20,
     "metadata": {},
     "output_type": "execute_result"
    }
   ],
   "source": [
    "links_8 = scrap_and_colect_css(url_8, 'title')\n",
    "links_8"
   ]
  },
  {
   "cell_type": "code",
   "execution_count": 21,
   "metadata": {},
   "outputs": [
    {
     "data": {
      "text/plain": [
       "47"
      ]
     },
     "execution_count": 21,
     "metadata": {},
     "output_type": "execute_result"
    }
   ],
   "source": [
    "len(links_8)"
   ]
  },
  {
   "cell_type": "markdown",
   "metadata": {},
   "source": [
    "# 9. Brevant\n",
    "* Analisando o html da página, vemos que os cards das sementes são:\n",
    "  * td class = \"body-cell-value\"\n",
    "  * os links disponibilizados **não** estão completos. \n",
    "  * usamos `urljoin` para juntar com o link principal da página.\n",
    "\n",
    "### * refatorando a função `scrap_and_colect_css` para este caso, temos:"
   ]
  },
  {
   "cell_type": "code",
   "execution_count": 22,
   "metadata": {},
   "outputs": [],
   "source": [
    "url_brevant = 'https://www.brevant.com.br'\n",
    "driver = webdriver.Chrome(executable_path='/home/anandaheino/chromedriver')\n",
    "driver.get(url_9)\n",
    "cookies_9 = driver.get_cookies()\n",
    "for cookie in cookies_9:\n",
    "    driver.add_cookie(cookie)\n",
    "# driver.find_element_by_xpath('/html/body/div[8]/div[1]/div/div[3]/a[1]')"
   ]
  },
  {
   "cell_type": "code",
   "execution_count": 120,
   "metadata": {},
   "outputs": [
    {
     "data": {
      "text/plain": [
       "7"
      ]
     },
     "execution_count": 120,
     "metadata": {},
     "output_type": "execute_result"
    }
   ],
   "source": [
    "len(cookies_9)"
   ]
  },
  {
   "cell_type": "code",
   "execution_count": 34,
   "metadata": {},
   "outputs": [],
   "source": [
    "from selenium.webdriver.support import expected_conditions as EC\n",
    "from selenium.webdriver.common.by import By\n",
    "import re\n",
    "\n",
    "def scrap_and_colect_css_Brevant(url, class_card):\n",
    "    \n",
    "    \"\"\"Abre o link principal das sementes de soja.\n",
    "    Usa <td> \n",
    "    Recebe:\n",
    "    * <url> a ser scrapped; \n",
    "    * <class_card> que contém os links das sementes.\n",
    "    ---> Retorna uma lista com os links de cada semente\"\"\"\n",
    "\n",
    "    \n",
    "    chrome_options = Options()\n",
    "    \n",
    "    chrome_options.add_argument('disable-notifications')\n",
    "    chrome_options.add_argument('--disable-infobars')\n",
    "    chrome_options.add_argument(\"disable-infobars\")\n",
    "    chrome_options.add_experimental_option(\"prefs\", \n",
    "                                           {\"profile.default_content_setting_values.notifications\": 2})\n",
    "    \n",
    "    browser = webdriver.Chrome(executable_path='/home/anandaheino/chromedriver', options = chrome_options) \n",
    "    browser.get(url)\n",
    "    \n",
    "    # tentativa de adicionar os cookies do site na lista de cookies do selenium\n",
    "    cookies = browser.get_cookies()\n",
    "    for cookie in cookies:\n",
    "        browser.add_cookie(cookie)\n",
    "    \n",
    "    try:\n",
    "        WebDriverWait(browser, 5)\n",
    "        print (\"\\nPage is ready\")\n",
    "        sleep(5)\n",
    "\n",
    "        html = browser.execute_script(\"return document.getElementsByTagName('html')[0].innerHTML\")\n",
    "\n",
    "        # print(html)\n",
    "        scrap = BeautifulSoup(html, \"html.parser\")\n",
    "        cards = scrap.find_all(\"a\", href=re.compile(\"produtos/soja/\"))\n",
    "        # print(cards[0:5])\n",
    "        \n",
    "        links = []\n",
    "\n",
    "        for link in cards:\n",
    "            link = link['href']\n",
    "            # print(link)\n",
    "            links.append(urljoin(url_brevant, link))\n",
    "            \n",
    "        return links\n",
    "\n",
    "        browser.close() \n",
    "        browser.quit()\n",
    "        \n",
    "    except TimeoutException:\n",
    "        print (\"Loading took too much time! -Try again\")\n"
   ]
  },
  {
   "cell_type": "code",
   "execution_count": 35,
   "metadata": {},
   "outputs": [
    {
     "name": "stdout",
     "output_type": "stream",
     "text": [
      "\n",
      "Page is ready\n"
     ]
    },
    {
     "data": {
      "text/plain": [
       "['https://www.brevant.com.br/produtos/soja/bg4290.html',\n",
       " 'https://www.brevant.com.br/produtos/soja/bg4786.html',\n",
       " 'https://www.brevant.com.br/produtos/soja/cd2720ipro.html',\n",
       " 'https://www.brevant.com.br/produtos/soja/cd2728ipro.html',\n",
       " 'https://www.brevant.com.br/produtos/soja/cd2820ipro.html',\n",
       " 'https://www.brevant.com.br/produtos/soja/cd2851ipro.html',\n",
       " 'https://www.brevant.com.br/produtos/soja/cd2857rr.html',\n",
       " 'https://www.brevant.com.br/produtos/soja/ds5916ipro.html',\n",
       " 'https://www.brevant.com.br/produtos/soja/5d6215ipro.html',\n",
       " 'https://www.brevant.com.br/produtos/soja/5d634rr.html',\n",
       " 'https://www.brevant.com.br/produtos/soja/5g8015ipro.html',\n",
       " 'https://www.brevant.com.br/produtos/soja/ds6017ipro.html',\n",
       " 'https://www.brevant.com.br/produtos/soja/ds6217ipro.html',\n",
       " 'https://www.brevant.com.br/produtos/soja/ds7417ipro.html',\n",
       " 'https://www.brevant.com.br/produtos/soja/b5860ipro.html',\n",
       " 'https://www.brevant.com.br/produtos/soja/bg4781ipro.html',\n",
       " 'https://www.brevant.com.br/produtos/soja/bg4290.html',\n",
       " 'https://www.brevant.com.br/produtos/soja/bg4786.html',\n",
       " 'https://www.brevant.com.br/produtos/soja/cd2720ipro.html',\n",
       " 'https://www.brevant.com.br/produtos/soja/cd2728ipro.html',\n",
       " 'https://www.brevant.com.br/produtos/soja/cd2820ipro.html',\n",
       " 'https://www.brevant.com.br/produtos/soja/cd2851ipro.html',\n",
       " 'https://www.brevant.com.br/produtos/soja/cd2857rr.html',\n",
       " 'https://www.brevant.com.br/produtos/soja/ds5916ipro.html',\n",
       " 'https://www.brevant.com.br/produtos/soja/5d6215ipro.html',\n",
       " 'https://www.brevant.com.br/produtos/soja/5d634rr.html',\n",
       " 'https://www.brevant.com.br/produtos/soja/5g8015ipro.html',\n",
       " 'https://www.brevant.com.br/produtos/soja/ds6017ipro.html',\n",
       " 'https://www.brevant.com.br/produtos/soja/ds6217ipro.html',\n",
       " 'https://www.brevant.com.br/produtos/soja/ds7417ipro.html',\n",
       " 'https://www.brevant.com.br/produtos/soja/b5860ipro.html',\n",
       " 'https://www.brevant.com.br/produtos/soja/bg4781ipro.html']"
      ]
     },
     "execution_count": 35,
     "metadata": {},
     "output_type": "execute_result"
    }
   ],
   "source": [
    "links_9 = scrap_and_colect_css_Brevant(url_9,\"body-cell-value\")\n",
    "links_9"
   ]
  },
  {
   "cell_type": "code",
   "execution_count": null,
   "metadata": {},
   "outputs": [],
   "source": []
  }
 ],
 "metadata": {
  "kernelspec": {
   "display_name": "Python 3",
   "language": "python",
   "name": "python3"
  },
  "language_info": {
   "codemirror_mode": {
    "name": "ipython",
    "version": 3
   },
   "file_extension": ".py",
   "mimetype": "text/x-python",
   "name": "python",
   "nbconvert_exporter": "python",
   "pygments_lexer": "ipython3",
   "version": "3.7.6"
  }
 },
 "nbformat": 4,
 "nbformat_minor": 4
}
