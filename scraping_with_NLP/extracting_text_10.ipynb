{
 "cells": [
  {
   "cell_type": "markdown",
   "metadata": {},
   "source": [
    "## Este Notebook tem como objetivo:\n",
    "* ### extrair o texto das páginas de cada semente, de 10 sites. São eles:\n",
    "  1. Syngenta\n",
    "  2. NK sementes (também são da Syngenta)\n",
    "  3. TMG\n",
    "  4. Don Mario cerrado\n",
    "  5. Don Mario Sul\n",
    "  6. Brasmax Cerrado\n",
    "  7. Brasmax Sul\n",
    "  8. Nidera\n",
    "  9. Brevant\n",
    "  10. KWS"
   ]
  },
  {
   "cell_type": "code",
   "execution_count": 145,
   "metadata": {},
   "outputs": [],
   "source": [
    "url_1 = 'https://www.portalsyngenta.com.br/sementes/syngenta-soja'\n",
    "url_2 = 'https://www.portalsyngenta.com.br/sementes/nk-soja'\n",
    "url_3 = 'https://www.tmg.agr.br/ptbr/cultivares/soja'\n",
    "url_4 = 'https://www.donmario.com/pt-br/catalogo-cerrado/'\n",
    "url_5 = 'https://www.donmario.com/pt-br/catalogo-sul/'\n",
    "url_6 = 'https://www.brasmaxgenetica.com.br/cultivar-regiao-cerrado/'\n",
    "url_7 = 'https://www.brasmaxgenetica.com.br/cultivar-regiao-sul/'\n",
    "url_8 = 'https://www.niderasementes.com.br/soja/'\n",
    "url_9 = 'https://www.brevant.com.br/produtos/soja.html'\n",
    "url_10 = 'https://www.kws.com/br/pt/produtos/soja/portfolio-completo-soja/'"
   ]
  },
  {
   "cell_type": "code",
   "execution_count": 146,
   "metadata": {},
   "outputs": [],
   "source": [
    "from html2text import html2text\n",
    "from urllib.request import urlopen\n",
    "from urllib.parse import urljoin\n",
    "from bs4 import BeautifulSoup"
   ]
  },
  {
   "cell_type": "markdown",
   "metadata": {},
   "source": [
    "# 1. Syngenta\n",
    "* Analisando o html da página, vemos que todos os cards das sementes tem:\n",
    "  * < div class = \"card-text-2 card-portfolio\"\n",
    "  \n",
    "* Para obter os links específicos de cada semente, temos que usar `urljoin`\n",
    "  * link recolhido no html + link principal\n",
    "\n",
    "* Entretanto, alguns links parciais estão incompletos.\n",
    "* Para corrigir o erro, temos que usar um if dentro da def `scrap_and_colect_syngenta` para adicionar a parte que falta _(sementes/)_, caso não tenha."
   ]
  },
  {
   "cell_type": "code",
   "execution_count": 8,
   "metadata": {},
   "outputs": [],
   "source": [
    "def scrap_and_colect_syngenta(url, class_card):\n",
    "    \n",
    "    \"\"\"Abre o link principal das sementes de soja da Syngenta e da NK sementes.\n",
    "    Recebe:\n",
    "    * <url> a ser scrapped; \n",
    "    * <class_card> que contém os links das sementes.\n",
    "    ---> Retorna uma lista com os links de cada semente\"\"\"\n",
    "    \n",
    "    html = urlopen(url)\n",
    "    scrap = BeautifulSoup(html, 'html.parser')\n",
    "\n",
    "    cards = scrap.find_all('div', {'class': class_card})\n",
    "    \n",
    "    links = []\n",
    "\n",
    "    for link in cards:\n",
    "        link = link.a['href']\n",
    "        if 'sementes' in link:\n",
    "            links.append(urljoin('https://www.portalsyngenta.com.br', link))\n",
    "        else: \n",
    "            link = 'sementes/'+link\n",
    "            links.append(urljoin('https://www.portalsyngenta.com.br', link))\n",
    "    \n",
    "    return links                   "
   ]
  },
  {
   "cell_type": "code",
   "execution_count": 9,
   "metadata": {},
   "outputs": [
    {
     "data": {
      "text/plain": [
       "['https://www.portalsyngenta.com.br/sementes/syngenta-soja/syn15600-ipro',\n",
       " 'https://www.portalsyngenta.com.br/sementes/syngenta-soja/syn16861-ipro',\n",
       " 'https://www.portalsyngenta.com.br/sementes/syngenta-soja/syn1059-rr',\n",
       " 'https://www.portalsyngenta.com.br/sementes/syngenta-soja/syn1163-rr',\n",
       " 'https://www.portalsyngenta.com.br/sementes/syngenta-soja/syn1258-rr',\n",
       " 'https://www.portalsyngenta.com.br/sementes/syngenta-soja/syn1281-rr',\n",
       " 'https://www.portalsyngenta.com.br/sementes/syngenta-soja/syn1683-ipro',\n",
       " 'https://www.portalsyngenta.com.br/sementes/syngenta-soja/syn1785-ipro',\n",
       " 'https://www.portalsyngenta.com.br/sementes/syngenta-soja/syn1687-ipro',\n",
       " 'https://www.portalsyngenta.com.br/sementes/syngenta-soja/syn13610-ipro',\n",
       " 'https://www.portalsyngenta.com.br/sementes/syngenta-soja/syn15640-ipro',\n",
       " 'https://www.portalsyngenta.com.br/sementes/syngenta-soja/syn15630-ipro',\n",
       " 'https://www.portalsyngenta.com.br/sementes/syngenta-soja/syn1562-ipro',\n",
       " 'https://www.portalsyngenta.com.br/sementes/syngenta-soja/syn1561-ipro',\n",
       " 'https://www.portalsyngenta.com.br/sementes/syngenta-soja/syn1366c-ipro']"
      ]
     },
     "execution_count": 9,
     "metadata": {},
     "output_type": "execute_result"
    }
   ],
   "source": [
    "links_1 = scrap_and_colect_syngenta(url_1, \"card-text-2 card-portfolio\") \n",
    "links_1    # link para cada semente de soja Syn "
   ]
  },
  {
   "cell_type": "markdown",
   "metadata": {},
   "source": [
    "# 2. NK sementes (Syngenta)\n",
    "* Analisando o html da página, vemos que todos os cards das sementes tem:\n",
    "  * < div class = \"card-text-2 card-portfolio\""
   ]
  },
  {
   "cell_type": "code",
   "execution_count": 10,
   "metadata": {},
   "outputs": [
    {
     "data": {
      "text/plain": [
       "['https://www.portalsyngenta.com.br/sementes/nk-soja/nk-8770-ipro',\n",
       " 'https://www.portalsyngenta.com.br/sementes/nk-soja/nk-7777-ipro',\n",
       " 'https://www.portalsyngenta.com.br/sementes/nk-soja/nk-8448-ipro',\n",
       " 'https://www.portalsyngenta.com.br/sementes/nk-soja/nk-8301-ipro',\n",
       " 'https://www.portalsyngenta.com.br/sementes/nk-soja/nk-7201-ipro',\n",
       " 'https://www.portalsyngenta.com.br/sementes/nk-soja/nk-6201-ipro']"
      ]
     },
     "execution_count": 10,
     "metadata": {},
     "output_type": "execute_result"
    }
   ],
   "source": [
    "links_2 = scrap_and_colect_syngenta(url_2, \"card-text-2 card-portfolio\") \n",
    "links_2    # link para cada semente de soja NK"
   ]
  },
  {
   "cell_type": "markdown",
   "metadata": {},
   "source": [
    "# 3. TMG\n",
    "* Analisando o html da página, vemos que s cards das sementes tem essa div, porém com CSS **FLEX container**:\n",
    "  * < div class = \"cultivar-link-v\" flex\n",
    "* No caso da TMG, os links não são parciais, já vem completos.\n",
    "* Por isso a função pode ser diferente, sem o urljoin.\n",
    "* Entretanto, com a página em .js dinâmica, temos que usar `selenium` e `chromedriver`\n",
    "  * REF: https://stackoverflow.com/questions/62165635/how-to-scrape-data-from-flexbox-element-container-with-python-and-beautiful-soup\n",
    "  * download Chromedrive: https://chromedriver.storage.googleapis.com/index.html?path=90.0.4430.24/\n",
    "    * O caminho do driver dentro do pc será usado. \n",
    "    * Exemplo: /home/anandaheino/chromedriver\n",
    "    \n",
    "## * função que extrai conteúdo dinâmico: \n"
   ]
  },
  {
   "cell_type": "code",
   "execution_count": 149,
   "metadata": {},
   "outputs": [],
   "source": [
    "# !pip install selenium\n",
    "\n",
    "from selenium.webdriver.chrome.options import Options\n",
    "from selenium import webdriver\n",
    "from selenium.webdriver.support.ui import WebDriverWait\n",
    "from selenium.common.exceptions import TimeoutException\n",
    "from time import sleep"
   ]
  },
  {
   "cell_type": "code",
   "execution_count": 150,
   "metadata": {
    "jupyter": {
     "source_hidden": true
    }
   },
   "outputs": [],
   "source": [
    "def scrap_and_colect_css(url, class_card):\n",
    "    \n",
    "    \"\"\"Abre o link principal das sementes de soja.\n",
    "    Usa <div>.\n",
    "    Recebe:\n",
    "    * <url> a ser scrapped; \n",
    "    * <class_card> que contém os links das sementes.\n",
    "    ---> Retorna uma lista com os links de cada semente\"\"\"\n",
    "\n",
    "    \n",
    "    chrome_options = Options()\n",
    "    \n",
    "    chrome_options.add_argument('disable-notifications')\n",
    "    chrome_options.add_argument('--disable-infobars')\n",
    "    chrome_options.add_argument(\"disable-infobars\")\n",
    "    chrome_options.add_experimental_option(\"prefs\", \n",
    "                                           {\"profile.default_content_setting_values.notifications\": 2})\n",
    "    \n",
    "    browser = webdriver.Chrome(executable_path='/home/anandaheino/chromedriver', options = chrome_options) \n",
    "    browser.get(url)\n",
    "   \n",
    "    delay = 5 #secods\n",
    "\n",
    "    #try:\n",
    "    WebDriverWait(browser, delay)\n",
    "    print (\"\\nPage is ready\")\n",
    "    sleep(5)\n",
    "    browser.minimize_window()\n",
    "    html = browser.execute_script(\"return document.getElementsByTagName('html')[0].innerHTML\")\n",
    "\n",
    "    #print(html)\n",
    "    scrap = BeautifulSoup(html, \"html.parser\")\n",
    "    cards = scrap.find_all('div', {'class': class_card})\n",
    "\n",
    "    links = list(link.a['href'] for link in cards)\n",
    "    return links\n",
    "\n",
    "    browser.close() \n",
    "    browser.quit()\n",
    "    \n",
    "    #except TimeoutException:\n",
    "        #print (\"Loading took too much time! -Try again\")\n",
    "\n",
    "    #finally:\n",
    "        #browser.quit()\n",
    "        "
   ]
  },
  {
   "cell_type": "code",
   "execution_count": 151,
   "metadata": {
    "collapsed": true,
    "jupyter": {
     "outputs_hidden": true
    }
   },
   "outputs": [
    {
     "name": "stdout",
     "output_type": "stream",
     "text": [
      "\n",
      "Page is ready\n"
     ]
    },
    {
     "data": {
      "text/plain": [
       "['https://www.tmg.agr.br/ptbr/cultivar/tmg-2375-ipro',\n",
       " 'https://www.tmg.agr.br/ptbr/cultivar/tmg-2379-ipro',\n",
       " 'https://www.tmg.agr.br/ptbr/cultivar/tmg-7058-ipro',\n",
       " 'https://www.tmg.agr.br/ptbr/cultivar/tmg-2165-ipro',\n",
       " 'https://www.tmg.agr.br/ptbr/cultivar/tmg-4377',\n",
       " 'https://www.tmg.agr.br/ptbr/cultivar/tmg-7368-ipro',\n",
       " 'https://www.tmg.agr.br/ptbr/cultivar/tmg-2757-ipro',\n",
       " 'https://www.tmg.agr.br/ptbr/cultivar/tmg-2776-ipro',\n",
       " 'https://www.tmg.agr.br/ptbr/cultivar/tmg-2374-ipro',\n",
       " 'https://www.tmg.agr.br/ptbr/cultivar/tmg-2359-ipro',\n",
       " 'https://www.tmg.agr.br/ptbr/cultivar/tmg-2285-ipro',\n",
       " 'https://www.tmg.agr.br/ptbr/cultivar/tmg-1180-rr',\n",
       " 'https://www.tmg.agr.br/ptbr/cultivar/tmg-7063-ipro',\n",
       " 'https://www.tmg.agr.br/ptbr/cultivar/tmg-7062-ipro',\n",
       " 'https://www.tmg.agr.br/ptbr/cultivar/tmg-7067-ipro',\n",
       " 'https://www.tmg.agr.br/ptbr/cultivar/tmg-4182',\n",
       " 'https://www.tmg.agr.br/ptbr/cultivar/tmg-7262-rr',\n",
       " 'https://www.tmg.agr.br/ptbr/cultivar/tmg-2185-ipro',\n",
       " 'https://www.tmg.agr.br/ptbr/cultivar/tmg-7061-ipro',\n",
       " 'https://www.tmg.agr.br/ptbr/cultivar/tmg-2381-ipro',\n",
       " 'https://www.tmg.agr.br/ptbr/cultivar/tmg-2383-ipro',\n",
       " 'https://www.tmg.agr.br/ptbr/cultivar/tmg-1288-rr',\n",
       " 'https://www.tmg.agr.br/ptbr/cultivar/tmg-2181-ipro',\n",
       " 'https://www.tmg.agr.br/ptbr/cultivar/tmg-1188-rr',\n",
       " 'https://www.tmg.agr.br/ptbr/cultivar/tmg-2378-ipro',\n",
       " 'https://www.tmg.agr.br/ptbr/cultivar/tmg-2173-ipro',\n",
       " 'https://www.tmg.agr.br/ptbr/cultivar/tmg-4185',\n",
       " 'https://www.tmg.agr.br/ptbr/cultivar/tmg-7363-rr',\n",
       " 'https://www.tmg.agr.br/ptbr/cultivar/tmg-7260-ipro',\n",
       " 'https://www.tmg.agr.br/ptbr/cultivar/tmg-133-rr',\n",
       " 'https://www.tmg.agr.br/ptbr/cultivar/tmg-132-rr',\n",
       " 'https://www.tmg.agr.br/ptbr/cultivar/anta-82',\n",
       " 'https://www.tmg.agr.br/ptbr/cultivar/tmg-1182-rr',\n",
       " 'https://www.tmg.agr.br/ptbr/cultivar/tmg-2182-ipro',\n",
       " 'https://www.tmg.agr.br/ptbr/cultivar/tmg-7161-rr',\n",
       " 'https://www.tmg.agr.br/ptbr/cultivar/tmg-2183-ipro',\n",
       " 'https://www.tmg.agr.br/ptbr/cultivar/tmg-2286-ipro']"
      ]
     },
     "execution_count": 151,
     "metadata": {},
     "output_type": "execute_result"
    }
   ],
   "source": [
    "links_3 = scrap_and_colect_css(url_3, \"cultivar-link-v\") \n",
    "links_3    # link para cada semente de soja da TMG"
   ]
  },
  {
   "cell_type": "markdown",
   "metadata": {},
   "source": [
    "# 4. Don Mario - Cerrado\n",
    "* Analisando o html da página, vemos que os cards das sementes são:\n",
    "  * < div class=\"images_holder\"\n",
    "* No caso da Don Mario, os links não são parciais, já vem completos.\n",
    "* Por isso a função pode ser mais simples.\n",
    "\n",
    "### * Implementando uma Função simples, que retornas os links dos cards informados, temos o seguinte erro:\n",
    "      * HTTPError: HTTP Error 403: Forbidden\n",
    "\n",
    "### * Usando a função com Selenium, foi possível extrair os links dos cards das sementes."
   ]
  },
  {
   "cell_type": "code",
   "execution_count": 14,
   "metadata": {},
   "outputs": [
    {
     "name": "stdout",
     "output_type": "stream",
     "text": [
      "\n",
      "Page is ready\n"
     ]
    },
    {
     "data": {
      "text/plain": [
       "['https://www.donmario.com/pt-br/cultivares-cerrado/#section-DM80IX83',\n",
       " 'https://www.donmario.com/pt-br/cultivares-cerrado/#section-DM75i74',\n",
       " 'https://www.donmario.com/pt-br/cultivares-cerrado/#section-DM81I84',\n",
       " 'https://www.donmario.com/pt-br/cultivares-cerrado/#section-DM82K84',\n",
       " 'https://www.donmario.com/pt-br/cultivares-cerrado/#section-DM82i78',\n",
       " 'https://www.donmario.com/pt-br/cultivares-cerrado/#section-DM75i76',\n",
       " 'https://www.donmario.com/pt-br/cultivares-cerrado/#section-DM79I81',\n",
       " 'https://www.donmario.com/pt-br/cultivares-cerrado/#section-DM80i79',\n",
       " 'https://www.donmario.com/pt-br/cultivares-cerrado/#section-DM73i75',\n",
       " 'https://www.donmario.com/pt-br/cultivares-cerrado/#section-DM68i69']"
      ]
     },
     "execution_count": 14,
     "metadata": {},
     "output_type": "execute_result"
    }
   ],
   "source": [
    "links_4 = scrap_and_colect_css(url_4, \"images_holder\")\n",
    "links_4"
   ]
  },
  {
   "cell_type": "markdown",
   "metadata": {},
   "source": [
    "# 5. Don Mario - Sul\n",
    "* Analisando o html da página, vemos que os cards das sementes são iguais do Cerrado:\n",
    "  * < div class=\"images_holder\""
   ]
  },
  {
   "cell_type": "code",
   "execution_count": 15,
   "metadata": {},
   "outputs": [
    {
     "name": "stdout",
     "output_type": "stream",
     "text": [
      "\n",
      "Page is ready\n"
     ]
    },
    {
     "data": {
      "text/plain": [
       "['https://www.donmario.com/pt-br/cultivares-sul/#section-DM64I63IPRO',\n",
       " 'https://www.donmario.com/pt-br/cultivares-sul/#section-DM53i54',\n",
       " 'https://www.donmario.com/pt-br/cultivares-sul/#section-DM60I63IPRO',\n",
       " 'https://www.donmario.com/pt-br/cultivares-sul/#section-DM5958',\n",
       " 'https://www.donmario.com/pt-br/cultivares-sul/#section-DM66i68',\n",
       " 'https://www.donmario.com/pt-br/cultivares-sul/#section-DM57i52']"
      ]
     },
     "execution_count": 15,
     "metadata": {},
     "output_type": "execute_result"
    }
   ],
   "source": [
    "links_5 = scrap_and_colect_css(url_5, \"images_holder\")\n",
    "links_5"
   ]
  },
  {
   "cell_type": "markdown",
   "metadata": {},
   "source": [
    "# 6. Brasmax - Cerrado\n",
    "* Analisando o html da página, vemos que os cards das sementes tem:\n",
    "\n",
    "* <a class=\"info\" href=\"https://www.brasmaxgenetica.com.br/cultivar-regiao-cerrado?produto=xxxxx\"\n",
    "     \n",
    "### * Implementando uma Função simples,temos o seguinte erro:\n",
    "      * HTTPError: HTTP Error 403: Forbidden\n",
    "\n",
    "### * Usando a função com Selenium, foi possível extrair os links dos cards das sementes."
   ]
  },
  {
   "cell_type": "code",
   "execution_count": 17,
   "metadata": {
    "jupyter": {
     "source_hidden": true
    }
   },
   "outputs": [],
   "source": [
    "def scrap_and_colect_css_Brasmax(url, class_card):\n",
    "    \n",
    "    \"\"\"Abre o link principal das sementes de soja.\n",
    "    Usa <a>.\n",
    "    Recebe:\n",
    "    * <url> a ser scrapped; \n",
    "    * <class_card> que contém os links das sementes.\n",
    "    ---> Retorna uma lista com os links de cada semente\"\"\"\n",
    "\n",
    "    \n",
    "    chrome_options = Options()\n",
    "    \n",
    "    chrome_options.add_argument('disable-notifications')\n",
    "    chrome_options.add_argument('--disable-infobars')\n",
    "    chrome_options.add_argument(\"disable-infobars\")\n",
    "    chrome_options.add_experimental_option(\"prefs\", \n",
    "                                           {\"profile.default_content_setting_values.notifications\": 2})\n",
    "    \n",
    "    browser = webdriver.Chrome(executable_path='/home/anandaheino/chromedriver', options = chrome_options) \n",
    "    browser.get(url)\n",
    "   \n",
    "    delay = 5 #secods\n",
    "\n",
    "    #try:\n",
    "    WebDriverWait(browser, delay)\n",
    "    print (\"\\nPage is ready\")\n",
    "    sleep(5)\n",
    "    browser.minimize_window()\n",
    "    html = browser.execute_script(\"return document.getElementsByTagName('html')[0].innerHTML\")\n",
    "\n",
    "    #print(html)\n",
    "    scrap = BeautifulSoup(html, \"html.parser\")\n",
    "    cards = scrap.find_all('a', {'class': class_card})\n",
    "    # print(cards)\n",
    "    links = list(link.get('href') for link in cards)\n",
    "    \n",
    "    return links\n",
    "\n",
    "    browser.close() \n",
    "    \n",
    "    #except TimeoutException:\n",
    "        #print (\"Loading took too much time! -Try again\")\n",
    "\n",
    "    #finally:\n",
    "        #browser.quit()\n",
    "        "
   ]
  },
  {
   "cell_type": "code",
   "execution_count": 18,
   "metadata": {},
   "outputs": [
    {
     "name": "stdout",
     "output_type": "stream",
     "text": [
      "\n",
      "Page is ready\n"
     ]
    },
    {
     "data": {
      "text/plain": [
       "['https://www.brasmaxgenetica.com.br/cultivar-regiao-cerrado?produto=14243',\n",
       " 'https://www.brasmaxgenetica.com.br/cultivar-regiao-cerrado?produto=14248',\n",
       " 'https://www.brasmaxgenetica.com.br/cultivar-regiao-cerrado?produto=14257',\n",
       " 'https://www.brasmaxgenetica.com.br/cultivar-regiao-cerrado?produto=14234',\n",
       " 'https://www.brasmaxgenetica.com.br/cultivar-regiao-cerrado?produto=14253',\n",
       " 'https://www.brasmaxgenetica.com.br/cultivar-regiao-cerrado?produto=14262',\n",
       " 'https://www.brasmaxgenetica.com.br/cultivar-regiao-cerrado?produto=14239',\n",
       " 'https://www.brasmaxgenetica.com.br/cultivar-regiao-cerrado?produto=244',\n",
       " 'https://www.brasmaxgenetica.com.br/cultivar-regiao-cerrado?produto=258',\n",
       " 'https://www.brasmaxgenetica.com.br/cultivar-regiao-cerrado?produto=273',\n",
       " 'https://www.brasmaxgenetica.com.br/cultivar-regiao-cerrado?produto=4985',\n",
       " 'https://www.brasmaxgenetica.com.br/cultivar-regiao-cerrado?produto=8916',\n",
       " 'https://www.brasmaxgenetica.com.br/cultivar-regiao-cerrado?produto=969',\n",
       " 'https://www.brasmaxgenetica.com.br/cultivar-regiao-cerrado?produto=8911',\n",
       " 'https://www.brasmaxgenetica.com.br/cultivar-regiao-cerrado?produto=2505',\n",
       " 'https://www.brasmaxgenetica.com.br/cultivar-regiao-cerrado?produto=963',\n",
       " 'https://www.brasmaxgenetica.com.br/cultivar-regiao-cerrado?produto=294',\n",
       " 'https://www.brasmaxgenetica.com.br/cultivar-regiao-cerrado?produto=967',\n",
       " 'https://www.brasmaxgenetica.com.br/cultivar-regiao-cerrado?produto=250']"
      ]
     },
     "execution_count": 18,
     "metadata": {},
     "output_type": "execute_result"
    }
   ],
   "source": [
    "links_6 = scrap_and_colect_css_Brasmax(url_6, \"info\")\n",
    "links_6"
   ]
  },
  {
   "cell_type": "markdown",
   "metadata": {},
   "source": [
    "# 7. Brasmax - Sul\n",
    "* Analisando o html da página, vemos que os cards das sementes são iguais ao do cerrado:\n",
    "\n",
    "  * <a class=\"info\" href=\"https://www.brasmaxgenetica.com.br/cultivar-regiao-cerrado?produto=xxxxx\"\n",
    "     \n"
   ]
  },
  {
   "cell_type": "code",
   "execution_count": 19,
   "metadata": {},
   "outputs": [
    {
     "name": "stdout",
     "output_type": "stream",
     "text": [
      "\n",
      "Page is ready\n"
     ]
    },
    {
     "data": {
      "text/plain": [
       "['https://www.brasmaxgenetica.com.br/cultivar-regiao-sul?produto=14276',\n",
       " 'https://www.brasmaxgenetica.com.br/cultivar-regiao-sul?produto=14280',\n",
       " 'https://www.brasmaxgenetica.com.br/cultivar-regiao-sul?produto=14267',\n",
       " 'https://www.brasmaxgenetica.com.br/cultivar-regiao-sul?produto=14284',\n",
       " 'https://www.brasmaxgenetica.com.br/cultivar-regiao-sul?produto=14271',\n",
       " 'https://www.brasmaxgenetica.com.br/cultivar-regiao-sul?produto=2501',\n",
       " 'https://www.brasmaxgenetica.com.br/cultivar-regiao-sul?produto=4920',\n",
       " 'https://www.brasmaxgenetica.com.br/cultivar-regiao-sul?produto=1113',\n",
       " 'https://www.brasmaxgenetica.com.br/cultivar-regiao-sul?produto=4927',\n",
       " 'https://www.brasmaxgenetica.com.br/cultivar-regiao-sul?produto=1133',\n",
       " 'https://www.brasmaxgenetica.com.br/cultivar-regiao-sul?produto=1103',\n",
       " 'https://www.brasmaxgenetica.com.br/cultivar-regiao-sul?produto=1149',\n",
       " 'https://www.brasmaxgenetica.com.br/cultivar-regiao-sul?produto=2496',\n",
       " 'https://www.brasmaxgenetica.com.br/cultivar-regiao-sul?produto=1080',\n",
       " 'https://www.brasmaxgenetica.com.br/cultivar-regiao-sul?produto=1128',\n",
       " 'https://www.brasmaxgenetica.com.br/cultivar-regiao-sul?produto=1123',\n",
       " 'https://www.brasmaxgenetica.com.br/cultivar-regiao-sul?produto=1108',\n",
       " 'https://www.brasmaxgenetica.com.br/cultivar-regiao-sul?produto=319',\n",
       " 'https://www.brasmaxgenetica.com.br/cultivar-regiao-sul?produto=1138',\n",
       " 'https://www.brasmaxgenetica.com.br/cultivar-regiao-sul?produto=1159']"
      ]
     },
     "execution_count": 19,
     "metadata": {},
     "output_type": "execute_result"
    }
   ],
   "source": [
    "links_7 = scrap_and_colect_css_Brasmax(url_7, \"info\")\n",
    "links_7"
   ]
  },
  {
   "cell_type": "markdown",
   "metadata": {},
   "source": [
    "# 8. Nidera\n",
    "* Analisando o html da página, vemos que os cards das sementes são:\n",
    "  * div class=\"title\"\n",
    "\n",
    "* Implementando a função `scrap_and_colect_css` para coletar os links das sementes\n"
   ]
  },
  {
   "cell_type": "code",
   "execution_count": 20,
   "metadata": {},
   "outputs": [
    {
     "name": "stdout",
     "output_type": "stream",
     "text": [
      "\n",
      "Page is ready\n"
     ]
    },
    {
     "data": {
      "text/plain": [
       "['https://www.niderasementes.com.br/soja_detalhe/ns-8109-ipro/',\n",
       " 'https://www.niderasementes.com.br/soja_detalhe/ns-7790-ipro/',\n",
       " 'https://www.niderasementes.com.br/soja_detalhe/ns-7654-ipro/',\n",
       " 'https://www.niderasementes.com.br/soja_detalhe/ns-8595-ipro/',\n",
       " 'https://www.niderasementes.com.br/soja_detalhe/ns-8400-ipro/',\n",
       " 'https://www.niderasementes.com.br/soja_detalhe/ns-8590-ipro/',\n",
       " 'https://www.niderasementes.com.br/soja_detalhe/ns-8397-ipro/',\n",
       " 'https://www.niderasementes.com.br/soja_detalhe/ns-8338-ipro/',\n",
       " 'https://www.niderasementes.com.br/soja_detalhe/ns-8300-ipro/',\n",
       " 'https://www.niderasementes.com.br/soja_detalhe/ns-7700-ipro/',\n",
       " 'https://www.niderasementes.com.br/soja_detalhe/ns-8399-ipro/',\n",
       " 'https://www.niderasementes.com.br/soja_detalhe/ns-7709-ipro-centro/',\n",
       " 'https://www.niderasementes.com.br/soja_detalhe/ns-7780-ipro/',\n",
       " 'https://www.niderasementes.com.br/soja_detalhe/ns-7667-ipro/',\n",
       " 'https://www.niderasementes.com.br/soja_detalhe/ns-7505-ipro/',\n",
       " 'https://www.niderasementes.com.br/soja_detalhe/ns-7399-ipro/',\n",
       " 'https://www.niderasementes.com.br/soja_detalhe/ns-7300-ipro-centro/',\n",
       " 'https://www.niderasementes.com.br/soja_detalhe/ns-6601-ipro/',\n",
       " 'https://www.niderasementes.com.br/soja_detalhe/ns-7007-ipro/',\n",
       " 'https://www.niderasementes.com.br/soja_detalhe/ns-7901-rr/',\n",
       " 'https://www.niderasementes.com.br/soja_detalhe/ns-6906-ipro-centro/',\n",
       " 'https://www.niderasementes.com.br/soja_detalhe/ns-7670-rr/',\n",
       " 'https://www.niderasementes.com.br/soja_detalhe/ns-8383-rr/',\n",
       " 'https://www.niderasementes.com.br/soja_detalhe/na-7337-rr/',\n",
       " 'https://www.niderasementes.com.br/soja_detalhe/ns-7200-rr/',\n",
       " 'https://www.niderasementes.com.br/soja_detalhe/ns-5505-i2x/',\n",
       " 'https://www.niderasementes.com.br/soja_detalhe/ns-6446-i2x/',\n",
       " 'https://www.niderasementes.com.br/soja_detalhe/ns-5115-i2x/',\n",
       " 'https://www.niderasementes.com.br/soja_detalhe/ns-5933-ipro/',\n",
       " 'https://www.niderasementes.com.br/soja_detalhe/ns-5700-ipro/',\n",
       " 'https://www.niderasementes.com.br/soja_detalhe/ns-6010-ipro/',\n",
       " 'https://www.niderasementes.com.br/soja_detalhe/ns-6906-ipro-sul/',\n",
       " 'https://www.niderasementes.com.br/soja_detalhe/ns-6909-ipro/',\n",
       " 'https://www.niderasementes.com.br/soja_detalhe/ns-7709-ipro/',\n",
       " 'https://www.niderasementes.com.br/soja_detalhe/ns-7300-ipro-sul/',\n",
       " 'https://www.niderasementes.com.br/soja_detalhe/ns-5959-ipro-3/',\n",
       " 'https://www.niderasementes.com.br/soja_detalhe/ns-6700-ipro-sul/',\n",
       " 'https://www.niderasementes.com.br/soja_detalhe/ns-6220-ipro/',\n",
       " 'https://www.niderasementes.com.br/soja_detalhe/ns-6828-ipro/',\n",
       " 'https://www.niderasementes.com.br/soja_detalhe/ns-6601-ipro-sul/',\n",
       " 'https://www.niderasementes.com.br/soja_detalhe/ns-6162-ipro/',\n",
       " 'https://www.niderasementes.com.br/soja_detalhe/ns-5445-ipro/',\n",
       " 'https://www.niderasementes.com.br/soja_detalhe/na-5909-rg-sul/',\n",
       " 'https://www.niderasementes.com.br/soja_detalhe/ns-5258-rr/',\n",
       " 'https://www.niderasementes.com.br/soja_detalhe/ns-4823-rr/',\n",
       " 'https://www.niderasementes.com.br/soja_detalhe/ns-6209-rr-2/',\n",
       " 'https://www.niderasementes.com.br/soja_detalhe/ns-6823-rr/']"
      ]
     },
     "execution_count": 20,
     "metadata": {},
     "output_type": "execute_result"
    }
   ],
   "source": [
    "links_8 = scrap_and_colect_css(url_8, 'title')\n",
    "links_8"
   ]
  },
  {
   "cell_type": "code",
   "execution_count": 21,
   "metadata": {},
   "outputs": [
    {
     "data": {
      "text/plain": [
       "47"
      ]
     },
     "execution_count": 21,
     "metadata": {},
     "output_type": "execute_result"
    }
   ],
   "source": [
    "len(links_8)"
   ]
  },
  {
   "cell_type": "markdown",
   "metadata": {},
   "source": [
    "# 9. Brevant\n",
    "* Analisando o html da página, vemos que os cards das sementes são:\n",
    "  * td class = \"body-cell-value\"\n",
    "  * os links disponibilizados **não** estão completos. \n",
    "  * usamos `urljoin` para juntar com o link principal da página.\n",
    "\n",
    "### * refatorando a função `scrap_and_colect_css` para este caso, temos:"
   ]
  },
  {
   "cell_type": "code",
   "execution_count": 22,
   "metadata": {
    "jupyter": {
     "source_hidden": true
    }
   },
   "outputs": [],
   "source": [
    "url_brevant = 'https://www.brevant.com.br'\n",
    "driver = webdriver.Chrome(executable_path='/home/anandaheino/chromedriver')\n",
    "driver.get(url_9)\n",
    "cookies_9 = driver.get_cookies()\n",
    "for cookie in cookies_9:\n",
    "    driver.add_cookie(cookie)\n",
    "# driver.find_element_by_xpath('/html/body/div[8]/div[1]/div/div[3]/a[1]')"
   ]
  },
  {
   "cell_type": "code",
   "execution_count": 120,
   "metadata": {},
   "outputs": [
    {
     "data": {
      "text/plain": [
       "7"
      ]
     },
     "execution_count": 120,
     "metadata": {},
     "output_type": "execute_result"
    }
   ],
   "source": [
    "len(cookies_9)"
   ]
  },
  {
   "cell_type": "code",
   "execution_count": 34,
   "metadata": {
    "jupyter": {
     "source_hidden": true
    }
   },
   "outputs": [],
   "source": [
    "from selenium.webdriver.support import expected_conditions as EC\n",
    "from selenium.webdriver.common.by import By\n",
    "import re\n",
    "\n",
    "def scrap_and_colect_css_Brevant(url, class_card):\n",
    "    \n",
    "    \"\"\"Abre o link principal das sementes de soja.\n",
    "    Usa <td> \n",
    "    Recebe:\n",
    "    * <url> a ser scrapped; \n",
    "    * <class_card> que contém os links das sementes.\n",
    "    ---> Retorna uma lista com os links de cada semente\"\"\"\n",
    "\n",
    "    \n",
    "    chrome_options = Options()\n",
    "    \n",
    "    chrome_options.add_argument('disable-notifications')\n",
    "    chrome_options.add_argument('--disable-infobars')\n",
    "    chrome_options.add_argument(\"disable-infobars\")\n",
    "    chrome_options.add_experimental_option(\"prefs\", \n",
    "                                           {\"profile.default_content_setting_values.notifications\": 2})\n",
    "    \n",
    "    browser = webdriver.Chrome(executable_path='/home/anandaheino/chromedriver', options = chrome_options) \n",
    "    browser.get(url)\n",
    "    \n",
    "    # tentativa de adicionar os cookies do site na lista de cookies do selenium\n",
    "    cookies = browser.get_cookies()\n",
    "    for cookie in cookies:\n",
    "        browser.add_cookie(cookie)\n",
    "    \n",
    "    try:\n",
    "        WebDriverWait(browser, 5)\n",
    "        print (\"\\nPage is ready\")\n",
    "        sleep(5)\n",
    "\n",
    "        html = browser.execute_script(\"return document.getElementsByTagName('html')[0].innerHTML\")\n",
    "\n",
    "        # print(html)\n",
    "        scrap = BeautifulSoup(html, \"html.parser\")\n",
    "        cards = scrap.find_all(\"a\", href=re.compile(\"produtos/soja/\"))\n",
    "        # print(cards[0:5])\n",
    "        \n",
    "        links = []\n",
    "\n",
    "        for link in cards:\n",
    "            link = link['href']\n",
    "            # print(link)\n",
    "            links.append(urljoin(url_brevant, link))\n",
    "            \n",
    "        return links\n",
    "\n",
    "        browser.close() \n",
    "        browser.quit()\n",
    "        \n",
    "    except TimeoutException:\n",
    "        print (\"Loading took too much time! -Try again\")\n"
   ]
  },
  {
   "cell_type": "code",
   "execution_count": 35,
   "metadata": {},
   "outputs": [
    {
     "name": "stdout",
     "output_type": "stream",
     "text": [
      "\n",
      "Page is ready\n"
     ]
    },
    {
     "data": {
      "text/plain": [
       "['https://www.brevant.com.br/produtos/soja/bg4290.html',\n",
       " 'https://www.brevant.com.br/produtos/soja/bg4786.html',\n",
       " 'https://www.brevant.com.br/produtos/soja/cd2720ipro.html',\n",
       " 'https://www.brevant.com.br/produtos/soja/cd2728ipro.html',\n",
       " 'https://www.brevant.com.br/produtos/soja/cd2820ipro.html',\n",
       " 'https://www.brevant.com.br/produtos/soja/cd2851ipro.html',\n",
       " 'https://www.brevant.com.br/produtos/soja/cd2857rr.html',\n",
       " 'https://www.brevant.com.br/produtos/soja/ds5916ipro.html',\n",
       " 'https://www.brevant.com.br/produtos/soja/5d6215ipro.html',\n",
       " 'https://www.brevant.com.br/produtos/soja/5d634rr.html',\n",
       " 'https://www.brevant.com.br/produtos/soja/5g8015ipro.html',\n",
       " 'https://www.brevant.com.br/produtos/soja/ds6017ipro.html',\n",
       " 'https://www.brevant.com.br/produtos/soja/ds6217ipro.html',\n",
       " 'https://www.brevant.com.br/produtos/soja/ds7417ipro.html',\n",
       " 'https://www.brevant.com.br/produtos/soja/b5860ipro.html',\n",
       " 'https://www.brevant.com.br/produtos/soja/bg4781ipro.html',\n",
       " 'https://www.brevant.com.br/produtos/soja/bg4290.html',\n",
       " 'https://www.brevant.com.br/produtos/soja/bg4786.html',\n",
       " 'https://www.brevant.com.br/produtos/soja/cd2720ipro.html',\n",
       " 'https://www.brevant.com.br/produtos/soja/cd2728ipro.html',\n",
       " 'https://www.brevant.com.br/produtos/soja/cd2820ipro.html',\n",
       " 'https://www.brevant.com.br/produtos/soja/cd2851ipro.html',\n",
       " 'https://www.brevant.com.br/produtos/soja/cd2857rr.html',\n",
       " 'https://www.brevant.com.br/produtos/soja/ds5916ipro.html',\n",
       " 'https://www.brevant.com.br/produtos/soja/5d6215ipro.html',\n",
       " 'https://www.brevant.com.br/produtos/soja/5d634rr.html',\n",
       " 'https://www.brevant.com.br/produtos/soja/5g8015ipro.html',\n",
       " 'https://www.brevant.com.br/produtos/soja/ds6017ipro.html',\n",
       " 'https://www.brevant.com.br/produtos/soja/ds6217ipro.html',\n",
       " 'https://www.brevant.com.br/produtos/soja/ds7417ipro.html',\n",
       " 'https://www.brevant.com.br/produtos/soja/b5860ipro.html',\n",
       " 'https://www.brevant.com.br/produtos/soja/bg4781ipro.html']"
      ]
     },
     "execution_count": 35,
     "metadata": {},
     "output_type": "execute_result"
    }
   ],
   "source": [
    "links_9 = scrap_and_colect_css_Brevant(url_9,\"body-cell-value\")\n",
    "links_9"
   ]
  },
  {
   "cell_type": "markdown",
   "metadata": {},
   "source": [
    "# 10. KWS\n",
    "* Analisando o html da página, vemos que os cards das sementes são:\n",
    "  * < a class=\"kws-int-variety-teaser\" "
   ]
  },
  {
   "cell_type": "code",
   "execution_count": 37,
   "metadata": {},
   "outputs": [
    {
     "name": "stdout",
     "output_type": "stream",
     "text": [
      "\n",
      "Page is ready\n"
     ]
    },
    {
     "data": {
      "text/plain": [
       "['https://www.kws.com/br/pt/produtos/soja/portfolio-completo-soja/k8620-ipro/',\n",
       " 'https://www.kws.com/br/pt/produtos/soja/portfolio-completo-soja/rk5519-rr/index-2.html',\n",
       " 'https://www.kws.com/br/pt/produtos/soja/portfolio-completo-soja/m6210/',\n",
       " 'https://www.kws.com/br/pt/produtos/soja/portfolio-completo-soja/rk6316-ipro/',\n",
       " 'https://www.kws.com/br/pt/produtos/soja/portfolio-completo-soja/rk6719-ipro/',\n",
       " 'https://www.kws.com/br/pt/produtos/soja/portfolio-completo-soja/rk7518-ipro/',\n",
       " 'https://www.kws.com/br/pt/produtos/soja/portfolio-completo-soja/rk8115-ipro/',\n",
       " 'https://www.kws.com/br/pt/produtos/soja/portfolio-completo-soja/rk8317-ipro/',\n",
       " 'https://www.kws.com/br/pt/produtos/soja/portfolio-completo-soja/rk5813-rr/',\n",
       " 'https://www.kws.com/br/pt/produtos/soja/portfolio-completo-soja/rk6813-rr/']"
      ]
     },
     "execution_count": 37,
     "metadata": {},
     "output_type": "execute_result"
    }
   ],
   "source": [
    "url_kws = 'https://www.kws.com'\n",
    "links_kws = scrap_and_colect_css_Brasmax(url_10, 'kws-int-variety-teaser')\n",
    "links_10 = [urljoin(url_kws, link) for link in links_kws]\n",
    "links_10"
   ]
  },
  {
   "cell_type": "markdown",
   "metadata": {},
   "source": [
    "## Agora vamos juntar todos os links das SEMENTES em uma única lista;"
   ]
  },
  {
   "cell_type": "code",
   "execution_count": 51,
   "metadata": {},
   "outputs": [
    {
     "data": {
      "text/plain": [
       "202"
      ]
     },
     "execution_count": 51,
     "metadata": {},
     "output_type": "execute_result"
    }
   ],
   "source": [
    "def add_links(lista_in, lista_out):\n",
    "    \n",
    "    for link in lista_in:    \n",
    "        lista_out.append(link)\n",
    "    return lista_out\n",
    "\n",
    "links_todos = []\n",
    "\n",
    "links_todos = add_links(links_1, links_todos)\n",
    "\n",
    "links_todos = add_links(links_2, links_todos)\n",
    "\n",
    "links_todos = add_links(links_3, links_todos)\n",
    "\n",
    "links_todos = add_links(links_4, links_todos)\n",
    "\n",
    "links_todos = add_links(links_5, links_todos)\n",
    "\n",
    "links_todos = add_links(links_6, links_todos)\n",
    "\n",
    "links_todos = add_links(links_7, links_todos)\n",
    "\n",
    "links_todos = add_links(links_8, links_todos)\n",
    "\n",
    "links_todos = add_links(links_9, links_todos)\n",
    "\n",
    "links_todos = add_links(links_10, links_todos)\n",
    "\n",
    "len(links_todos)"
   ]
  },
  {
   "cell_type": "markdown",
   "metadata": {},
   "source": [
    "## Cada html vai ser capturado e transformado em texto:"
   ]
  },
  {
   "cell_type": "code",
   "execution_count": 53,
   "metadata": {},
   "outputs": [
    {
     "data": {
      "text/plain": [
       "202"
      ]
     },
     "execution_count": 53,
     "metadata": {},
     "output_type": "execute_result"
    }
   ],
   "source": [
    "from html2text import html2text\n",
    "\n",
    "paginas_todos = []\n",
    "\n",
    "chrome_options = Options()\n",
    "    \n",
    "chrome_options.add_argument('disable-notifications')\n",
    "chrome_options.add_argument('--disable-infobars')\n",
    "chrome_options.add_argument(\"disable-infobars\")\n",
    "chrome_options.add_experimental_option(\"prefs\", \n",
    "                                       {\"profile.default_content_setting_values.notifications\": 2})\n",
    "\n",
    "browser = webdriver.Chrome(executable_path='/home/anandaheino/chromedriver', options = chrome_options) \n",
    "\n",
    "for url in links_todos:\n",
    "    \n",
    "    browser.get(url)\n",
    "    WebDriverWait(browser, 5)\n",
    "    sleep(5)\n",
    "\n",
    "    html = browser.execute_script(\"return document.getElementsByTagName('html')[0].innerHTML\")\n",
    "\n",
    "    scrap = BeautifulSoup(html, 'html.parser')\n",
    "    pagina = html2text(scrap.prettify()).lower()   # trazendo tudo para minusculo\n",
    "\n",
    "    paginas_todos.append(pagina)\n",
    "    \n",
    "len(paginas_todos)"
   ]
  },
  {
   "cell_type": "code",
   "execution_count": 54,
   "metadata": {},
   "outputs": [],
   "source": [
    "\"\"\"colunas = {\n",
    "           'link': links_todos, 'texto da página': paginas_todos, 'cultivar': [], 'grupo de maturação': [],\n",
    "           'produtividade': [], 'potencial produtivo': [], 'acamamento': [], 'tipo de crescimento': [],\n",
    "           'porte': [], 'peso de mil sementes': [], 'peso de mil graos': [], 'pustula bacteriana': [], \n",
    "           'habito de crescimento': [], 'fertilidade': [], 'mancha olho de ra': [], 'nematoide das galhas': [],\n",
    "           'fitoftora\tnematoide do cisto': [], 'heterodera glycines': [], 'ferrugem': [], 'recomendacao': [], \n",
    "           'nematoide das lesões': [], 'nematoide reniforme': [], 'mancha alvo': [], 'ano de lancamento': []           \n",
    "          }\"\"\""
   ]
  },
  {
   "cell_type": "code",
   "execution_count": 55,
   "metadata": {},
   "outputs": [],
   "source": [
    "import pandas as pd\n",
    "import numpy as np"
   ]
  },
  {
   "cell_type": "code",
   "execution_count": 57,
   "metadata": {},
   "outputs": [
    {
     "data": {
      "text/html": [
       "<div>\n",
       "<style scoped>\n",
       "    .dataframe tbody tr th:only-of-type {\n",
       "        vertical-align: middle;\n",
       "    }\n",
       "\n",
       "    .dataframe tbody tr th {\n",
       "        vertical-align: top;\n",
       "    }\n",
       "\n",
       "    .dataframe thead th {\n",
       "        text-align: right;\n",
       "    }\n",
       "</style>\n",
       "<table border=\"1\" class=\"dataframe\">\n",
       "  <thead>\n",
       "    <tr style=\"text-align: right;\">\n",
       "      <th></th>\n",
       "      <th>link</th>\n",
       "      <th>texto da página</th>\n",
       "    </tr>\n",
       "  </thead>\n",
       "  <tbody>\n",
       "    <tr>\n",
       "      <th>0</th>\n",
       "      <td>https://www.portalsyngenta.com.br/sementes/syn...</td>\n",
       "      <td>skip to main content\\n\\npesquisa\\n\\n__\\n\\n![pe...</td>\n",
       "    </tr>\n",
       "    <tr>\n",
       "      <th>1</th>\n",
       "      <td>https://www.portalsyngenta.com.br/sementes/syn...</td>\n",
       "      <td>skip to main content\\n\\npesquisa\\n\\n__\\n\\n![pe...</td>\n",
       "    </tr>\n",
       "    <tr>\n",
       "      <th>2</th>\n",
       "      <td>https://www.portalsyngenta.com.br/sementes/syn...</td>\n",
       "      <td>skip to main content\\n\\npesquisa\\n\\n__\\n\\n![pe...</td>\n",
       "    </tr>\n",
       "    <tr>\n",
       "      <th>3</th>\n",
       "      <td>https://www.portalsyngenta.com.br/sementes/syn...</td>\n",
       "      <td>skip to main content\\n\\npesquisa\\n\\n__\\n\\n![pe...</td>\n",
       "    </tr>\n",
       "    <tr>\n",
       "      <th>4</th>\n",
       "      <td>https://www.portalsyngenta.com.br/sementes/syn...</td>\n",
       "      <td>skip to main content\\n\\npesquisa\\n\\n__\\n\\n![pe...</td>\n",
       "    </tr>\n",
       "    <tr>\n",
       "      <th>...</th>\n",
       "      <td>...</td>\n",
       "      <td>...</td>\n",
       "    </tr>\n",
       "    <tr>\n",
       "      <th>197</th>\n",
       "      <td>https://www.kws.com/br/pt/produtos/soja/portfo...</td>\n",
       "      <td>we value your privacy!\\n\\nwelcome to kws! we u...</td>\n",
       "    </tr>\n",
       "    <tr>\n",
       "      <th>198</th>\n",
       "      <td>https://www.kws.com/br/pt/produtos/soja/portfo...</td>\n",
       "      <td>we value your privacy!\\n\\nwelcome to kws! we u...</td>\n",
       "    </tr>\n",
       "    <tr>\n",
       "      <th>199</th>\n",
       "      <td>https://www.kws.com/br/pt/produtos/soja/portfo...</td>\n",
       "      <td>we value your privacy!\\n\\nwelcome to kws! we u...</td>\n",
       "    </tr>\n",
       "    <tr>\n",
       "      <th>200</th>\n",
       "      <td>https://www.kws.com/br/pt/produtos/soja/portfo...</td>\n",
       "      <td>we value your privacy!\\n\\nwelcome to kws! we u...</td>\n",
       "    </tr>\n",
       "    <tr>\n",
       "      <th>201</th>\n",
       "      <td>https://www.kws.com/br/pt/produtos/soja/portfo...</td>\n",
       "      <td>we value your privacy!\\n\\nwelcome to kws! we u...</td>\n",
       "    </tr>\n",
       "  </tbody>\n",
       "</table>\n",
       "<p>202 rows × 2 columns</p>\n",
       "</div>"
      ],
      "text/plain": [
       "                                                  link  \\\n",
       "0    https://www.portalsyngenta.com.br/sementes/syn...   \n",
       "1    https://www.portalsyngenta.com.br/sementes/syn...   \n",
       "2    https://www.portalsyngenta.com.br/sementes/syn...   \n",
       "3    https://www.portalsyngenta.com.br/sementes/syn...   \n",
       "4    https://www.portalsyngenta.com.br/sementes/syn...   \n",
       "..                                                 ...   \n",
       "197  https://www.kws.com/br/pt/produtos/soja/portfo...   \n",
       "198  https://www.kws.com/br/pt/produtos/soja/portfo...   \n",
       "199  https://www.kws.com/br/pt/produtos/soja/portfo...   \n",
       "200  https://www.kws.com/br/pt/produtos/soja/portfo...   \n",
       "201  https://www.kws.com/br/pt/produtos/soja/portfo...   \n",
       "\n",
       "                                       texto da página  \n",
       "0    skip to main content\\n\\npesquisa\\n\\n__\\n\\n![pe...  \n",
       "1    skip to main content\\n\\npesquisa\\n\\n__\\n\\n![pe...  \n",
       "2    skip to main content\\n\\npesquisa\\n\\n__\\n\\n![pe...  \n",
       "3    skip to main content\\n\\npesquisa\\n\\n__\\n\\n![pe...  \n",
       "4    skip to main content\\n\\npesquisa\\n\\n__\\n\\n![pe...  \n",
       "..                                                 ...  \n",
       "197  we value your privacy!\\n\\nwelcome to kws! we u...  \n",
       "198  we value your privacy!\\n\\nwelcome to kws! we u...  \n",
       "199  we value your privacy!\\n\\nwelcome to kws! we u...  \n",
       "200  we value your privacy!\\n\\nwelcome to kws! we u...  \n",
       "201  we value your privacy!\\n\\nwelcome to kws! we u...  \n",
       "\n",
       "[202 rows x 2 columns]"
      ]
     },
     "execution_count": 57,
     "metadata": {},
     "output_type": "execute_result"
    }
   ],
   "source": [
    "data_links_texto = {'link': links_todos, 'texto da página': paginas_todos}\n",
    "df_todos = pd.DataFrame(data=data_links_texto)\n",
    "df_todos"
   ]
  },
  {
   "cell_type": "code",
   "execution_count": 59,
   "metadata": {},
   "outputs": [],
   "source": [
    "df_todos.to_csv('text_from_10.csv')"
   ]
  },
  {
   "cell_type": "code",
   "execution_count": null,
   "metadata": {},
   "outputs": [],
   "source": []
  },
  {
   "cell_type": "markdown",
   "metadata": {},
   "source": [
    "___________________________________________________________________________________________________"
   ]
  },
  {
   "cell_type": "markdown",
   "metadata": {},
   "source": [
    "# Novos testes de manipulação textual (19/06/21)"
   ]
  },
  {
   "cell_type": "code",
   "execution_count": 1,
   "metadata": {},
   "outputs": [],
   "source": [
    "import pandas as pd\n",
    "import numpy as np\n",
    "import re"
   ]
  },
  {
   "cell_type": "code",
   "execution_count": 2,
   "metadata": {},
   "outputs": [],
   "source": [
    "df_todos = pd.read_csv('text_from_10.csv')"
   ]
  },
  {
   "cell_type": "code",
   "execution_count": 154,
   "metadata": {},
   "outputs": [
    {
     "data": {
      "text/plain": [
       "15613"
      ]
     },
     "execution_count": 154,
     "metadata": {},
     "output_type": "execute_result"
    }
   ],
   "source": [
    "df_todos.loc[0]['texto da página'].find('características')"
   ]
  },
  {
   "cell_type": "code",
   "execution_count": 3,
   "metadata": {
    "collapsed": true,
    "jupyter": {
     "outputs_hidden": true
    }
   },
   "outputs": [
    {
     "data": {
      "text/plain": [
       "'skip to main content\\n\\npesquisa\\n\\n__\\n\\n![pesquisa](https://mediasyg.pixit.com.br/s3fs-public/search-icon-2.svg)\\n\\n[ ![facebook](https://mediasyg.pixit.com.br/s3fs-public/facebook-header.png)\\n](https://www.facebook.com/syngenta/) [\\n![instagram](https://mediasyg.pixit.com.br/s3fs-public/instagram-header.png)\\n](https://www.instagram.com/syngentabrasil/) [\\n![linkedin](https://mediasyg.pixit.com.br/s3fs-public/linkedin-header.png)\\n](https://www.linkedin.com/company/syngenta/) [\\n![youtube](https://mediasyg.pixit.com.br/s3fs-public/youtube-header.png)\\n](https://www.youtube.com/user/syngentabrasil) [\\n![whatsapp](https://mediasyg.pixit.com.br/s3fs-public/whatsapp-header.png)\\n](https://api.whatsapp.com/send/?phone=5511957869038&text&app_absent=0)\\n\\ncountry websites\\n\\n[ argentina ](https://www.syngenta.com.ar/) [ australia\\n](https://www.syngenta.com.au/) [ austria ](https://www.syngenta.at/) [\\nbangladesh ](https://www.syngenta.com.bd/) [ belarus\\n](https://www.syngenta.by/) [ belgium ](https://www.syngenta.be/) [ brazil\\n](https://www.syngenta.com.br/) [ bulgaria ](https://www.syngenta.bg/) [\\ncanada ](https://www.syngenta.ca/) [ chile ](https://www.syngenta.cl/) [ china\\n](https://www.syngenta-china.com/) [ colombia ](https://www.syngenta.com.co/)\\n[ croatia ](https://www.syngenta.hr/) [ czech republic\\n](https://www.syngenta.cz/) [ denmark ](https://www.syngenta.dk/) [ estonia\\n](https://www.syngenta.ee/) [ finland ](https://www.syngenta.fi/) [ france\\n](https://www.syngenta.fr/) [ germany ](https://www.syngenta.de) [ greece\\n](https://www.syngenta.gr/) [ guatemala ](https://www.syngenta.com.gt/) [\\nhungary ](https://www.syngenta.hu/) [ india ](https://www.syngenta.co.in/) [\\nindonesia ](https://www.syngenta.co.id/) [ ireland ](https://www.syngenta.ie/)\\n[ italy ](https://www.syngenta.it/) [ japan ](https://www.syngenta.co.jp/) [\\nkazakhstan ](https://www.syngenta.kz/) [ kenya ](https://www.syngenta.co.ke/)\\n[ latvia ](https://www.syngenta.lv/) [ lithuania ](https://www.syngenta.lt/) [\\nmexico ](https://www.syngenta.com.mx/) [ moldova ](https://www.syngenta.md/) [\\nmontenegro ](https://www.syngenta.rs/) [ morocco ](https://www.syngenta.ma/) [\\nnetherlands ](https://www.syngenta.nl/) [ new zealand\\n](https://www.syngenta.co.nz/) [ norway ](https://www.syngenta.no/) [ pakistan\\n](https://www.syngenta.com.pk/) [ panama ](https://www.syngenta.com.pa/) [\\npoland ](https://www.syngenta.pl/) [ portugal ](https://www.syngenta.pt/) [\\nromania ](https://www.syngenta.ro/) [ russia ](https://www.syngenta.ru/) [\\nserbia ](https://www.syngenta.rs/) [ slovakia ](https://www.syngenta.sk/) [\\nslovenia ](https://www.syngenta.si/) [ south africa\\n](https://www.syngenta.co.za/) [ south korea ](https://www.syngenta.co.kr/) [\\nspain ](https://www.syngenta.es/) [ sweden ](https://www.syngenta.se/) [\\nswitzerland ](https://www.syngenta.ch/) [ thailand\\n](https://www.syngenta.co.th/) [ turkey ](https://www.syngenta.com.tr/) [\\nukraine ](https://www.syngenta.ua/) [ united kingdom\\n](https://www.syngenta.co.uk/) [ united states ](https://www.syngenta-us.com)\\n[ uruguay ](https://www.syngenta.uy/) [ venezuela\\n](https://www.syngenta.co.ve/) [ vietnam ](https://www.syngenta.com.vn/)\\n\\n[ ![home](https://mediasyg.pixit.com.br/s3fs-public/logo-header.png) ](/\\n\"home\")\\n\\npesquisa\\n\\n__\\n\\n![pesquisa](https://mediasyg.pixit.com.br/s3fs-public/search-icon-2.svg)\\n\\n[ ![home](/sites/default/files/logo-header_1.png) ](/ \"home\")\\n\\n  *     * a syngenta \\n      * voltar \\n      * quem somos \\n        * voltar \\n        * [ nossa história ](https://www.syngenta.com.br/nossa-historia)\\n      * [ a syngenta no brasil ](https://www.syngenta.com.br/no-brasil)\\n      * [ a syngenta no mundo ](https://www.syngenta.com.br/no-mundo)\\n      * [ propósitos e valores ](https://www.syngenta.com.br/nossos-valores)\\n      * politicas e códigos \\n        * voltar \\n        * [ política de saúde, segurança e meio ambiente ](https://www.syngenta.com.br/politica-de-saude-seguranca-e-meio-ambiente)\\n        * [ política da qualidade ](https://www.syngenta.com.br/politica-da-qualidade)\\n        * [ sistema de gestão integrada ](https://www.syngenta.com.br/escopo-do-sistema-de-gestao-integrada)\\n        * [ código de conduta ](https://www.syngenta.com.br/codigo-de-conduta)\\n      * unidades no brasil \\n      * [ encontre um distribuidor ](/pesquisa-de-fornecedores)\\n    * culturas \\n      * voltar \\n      * [ soja ](/cultura/soja)\\n      * [ milho ](/cultura/milho)\\n      * [ café ](/cultura/cafe)\\n      * [ algodão ](/cultura/algodao)\\n      * [ cana-de-açúcar ](/cultura/cana-de-acucar)\\n      * [ trigo ](/cultura/trigo)\\n      * [ hortifrúti ](/cultura/hortifruti)\\n      * [ arroz ](/cultura/arroz)\\n      * [ feijão ](/cultura/feijao)\\n    * produtos e soluções \\n      * voltar \\n      * proteção de cultivos \\n        * voltar \\n        * fungicidas \\n          * voltar \\n          * [ alade ](/produtos/alade/)\\n          * [ amistar top ](/produtos/amistar-top)\\n          * [ bravonil ](/produtos/bravonil/)\\n          * [ bravonil top ](/produtos/bravonil-top)\\n          * [ cypress ](/produtos/cypress)\\n          * [ elatus ](/produtos/elatus)\\n          * [ manejo consciente ](/manejo-consciente)\\n          * [ mitrion™ ](/produtos/mitrion/)\\n          * [ priori xtra  ®  ](/produtos/priori-xtra)\\n          * [ revus opti  ®  ](/produtos/revus-opti)\\n          * [ saiba mais sobre nossos fungicidas ](/segmentos/fungicidas)\\n        * herbicidas \\n          * voltar \\n          * [ calaris ](/produtos/calaris)\\n          * [ calipen  ®  sc ](/produtos/calipen-sc)\\n          * [ dual gold ](/produtos/dual-gold/)\\n          * [ grover ](/produtos/grover)\\n          * [ moddus cana ](/produtos/moddus-cana)\\n          * [ moddus trigo ](/produtos/moddus-trigo)\\n          * [ reglone ](/produtos/reglone)\\n          * [ saiba mais sobre nossos herbicidas ](/segmentos/herbicidas)\\n        * inseticidas \\n          * voltar \\n          * [ actara ](/produtos/actara)\\n          * [ ampligo ](/produtos/ampligo)\\n          * [ ampligo pro ](/produtos/ampligo-pro)\\n          * [ durivo ](/produtos/durivo)\\n          * [ engeo pleno s ](/produtos/engeo-pleno-soja/)\\n          * [ influx ](/produtos/influx/)\\n          * [ instivo ](/produtos/instivo/)\\n          * [ minecto pro ](/produtos/minecto-pro/)\\n          * [ proclaim ](/produtos/proclaim)\\n          * [ voliam targo ](/produtos/voliam-targo)\\n          * [ saiba mais sobre nossos inseticidas ](/segmentos/inseticidas)\\n      * sementes \\n        * voltar \\n        * sementes licenciadas syngenta \\n        * sementes nk  ® \\n          * voltar \\n          * [ nk soja ](/sementes/nk-soja)\\n          * [ nk milho ](/sementes/nk-milho)\\n        * [ sementes soja ](/sementes/syngenta-soja)\\n        * [ agrisure viptera 3 ](/sementes/agrisure-viptera-3)\\n      * tratamento de sementes \\n        * voltar \\n        * [ avicta completo ](/produtos/avicta-completo)\\n        * [ cruiser advanced (feijão) ](/produtos/cruiser-advanced-feijao)\\n        * [ cruiser opti (arroz) ](/produtos/cruiser-opti-arroz)\\n        * [ cruiser opti (trigo) ](/produtos/cruiser-opti-trigo)\\n        * [ fortenza ](/produtos/fortenza/)\\n        * [ fortenza duo ](/produtos/fortenza-duo)\\n        * [ seedcare tsi ](/seedcare)\\n      * [ syngenta digital ](https://www.syngentadigital.com.br/)\\n      * [ atua agro ](https://atuaagro.com.br/)\\n    * imprensa \\n      * voltar \\n      * [ media releases ](https://www.syngenta.com.br/press-releases)\\n      * [ assessoria de imprensa ](https://www.syngenta.com.br/assessoria-de-imprensa)\\n    * [ notícias ](/noticias)\\n    * [ podcasts ](/podcast-syngenta)\\n    * uso correto e seguro \\n      * voltar \\n      * [ principal ](/uso-correto-e-seguro)\\n      * [ plano de agricultura sustentável ](https://www.syngenta.com.br/plano-de-agricultura-sustentavel)\\n      * [ iniciativas para polinizadores ](https://www.syngenta.com.br/iniciativas-para-polinizadores)\\n\\n[ ![facebook](https://mediasyg.pixit.com.br/s3fs-public/facebook-menu.png)\\n](https://www.facebook.com/syngenta/) [\\n![instagram](https://mediasyg.pixit.com.br/s3fs-public/instagram-menu.png)\\n](https://www.instagram.com/syngentabrasil/) [\\n![linkedin](https://mediasyg.pixit.com.br/s3fs-public/linkedin-menu.png)\\n](https://www.linkedin.com/company/syngenta/) [\\n![youtube](https://mediasyg.pixit.com.br/s3fs-public/youtube-menu.png)\\n](https://www.youtube.com/user/syngentabrasil)\\n\\n  * [ ![syngenta](https://mediasyg.pixit.com.br/s3fs-public/home-header.png) ](/)\\n  * a syngenta \\n\\n##  a syngenta\\n\\n    * quem somos \\n      * [ nossa história ](https://www.syngenta.com.br/nossa-historia)\\n    * [ a syngenta no brasil ](https://www.syngenta.com.br/no-brasil)\\n    * [ a syngenta no mundo ](https://www.syngenta.com.br/no-mundo)\\n    * [ propósito e valores ](https://www.syngenta.com.br/nossos-valores)\\n    * políticas e códigos \\n      * [ política de saúde, segurança e meio ambiente ](https://www.syngenta.com.br/politica-de-saude-seguranca-e-meio-ambiente)\\n      * [ política da qualidade ](https://www.syngenta.com.br/politica-da-qualidade)\\n      * [ sistema de gestão integrada ](https://www.syngenta.com.br/escopo-do-sistema-de-gestao-integrada)\\n      * [ código de conduta ](https://www.syngenta.com.br/codigo-de-conduta)\\n    * [ unidades no brasil ](https://www.syngenta.com.br/unidades)\\n    * [ encontre um distribuidor ](/pesquisa-de-fornecedores)\\n\\n  * culturas \\n\\n##  culturas\\n\\n    * [ soja ](/cultura/soja)\\n    * [ milho ](/cultura/milho)\\n    * [ café ](/cultura/cafe)\\n    * [ algodão ](/cultura/algodao)\\n    * [ cana-de-açúcar ](/cultura/cana-de-acucar)\\n    * [ trigo ](/cultura/trigo)\\n    * [ hortifrúti ](/cultura/hortifruti)\\n    * [ arroz ](/cultura/arroz)\\n    * [ feijão ](/cultura/feijao)\\n\\n  * produtos e soluções \\n\\n##  produtos e soluções\\n\\n    * proteção de cultivos \\n      * fungicidas \\n        * [ alade ](/produtos/alade/)\\n          * alade \\n\\ncomposto por três ativos de alta eficácia (solatenol + ciproconazol +\\ndifenoconazol). o efeito sinérgico destes três ativos faz de alade® o\\nfungicida com o maior espectro de ação do mercado, com alta consistência de\\ncontrole contra ferrugem e manchas, especialmente antracnose, oídio e\\ncercóspora.\\n\\n        * [ amistar top ](/produtos/amistar-top)\\n          * amistar top \\n\\namistar top é um fungicida sistêmico, com atividade predominantemente\\npreventiva, mas também com ação curativa e anti-esporulante, usado em\\npulverização para controle das doenças da parte aérea das culturas do algodão,\\nfeijão e hortifruti.\\n\\n        * [ bravonil ](/produtos/bravonil/)\\n          * bravonil \\n\\nfungicida. ideal para utilização em diferentes culturas, como batata, cenoura,\\nfeijão, pepino, melancia e tomate. controla antracnose, míldio, manchas e\\nrequeima.\\n\\n        * [ bravonil top ](/produtos/bravonil-top)\\n          * bravonil top \\n\\nbravonil top é um fungicida protetor e sistêmico, usado em pulverizações\\npreventivas, para o controle de doenças da parte aérea das culturas do\\namendoim e feijão.\\n\\n        * [ cypress ](/produtos/cypress)\\n          * cypress \\n\\nfungicida sistêmico de atividade preventiva e curativa. manejo das principais\\ndoenças da cultura da soja, como ferrugem asiática, manchas, antracnose, dfc e\\noídio.\\n\\n        * [ elatus ](/produtos/elatus)\\n          * elatus \\n\\nfungicida de contato e sistêmico. eficaz em culturas de soja, milho, café,\\ncana-de-açúcar, algodão e trigo. controla doenças como uma variedade de\\nferrugens e manchas.\\n\\n        * [ manejo consciente ](/manejo-consciente)\\n          * manejo consciente \\n\\nneste programa estão reunidos os 10 princípios fundamentais para um manejo\\nconciente. além de proporcionar o melhor controle de doenças, eles protegem as\\natuais moléculas e garantem o futuro da soja no brasil.\\n\\n        * [ mitrion™ ](/produtos/mitrion/)\\n          * mitrion™ \\n\\nfungicida inovador e de alta performance, composto pelos dois ativos mais\\npotentes do mercado: solatenol e protioconazol. mitrion™ entrega um controle\\nsuperior de manchas e ferrugem, com destaque para mancha-alvo, devido ao\\nmelhor efeito preventivo do solatenol associado ao melhor efeitocurativo do\\nprotioconazol.\\n\\n        * [ priori xtra  ®  ](/produtos/priori-xtra)\\n          * priori xtra  ® \\n\\nfungicida sistêmico, usado em pulverizações preventivas, para o controle de\\ndoenças da parte aérea das culturas do algodão, arroz irrigado, aveia, café,\\ncana-de-açúcar, cevada, eucalipto, girassol, milheto, milho, soja e trigo, bem\\ncomo no tratamento industrial de mudas e aplicação no sulco de plantio de\\ncana-de-açúcar.\\n\\n        * [ revus opti  ®  ](/produtos/revus-opti)\\n          * revus opti  ® \\n\\nfungicida com ação protetora e profundidade (translaminar), desenvolvido para\\ncombater míldio e requeimas, para o tratamento da parte aérea das culturas.\\n\\n        * [ saiba mais sobre nossos fungicidas ](/segmentos/fungicidas)\\n      * herbicidas \\n        * [ calaris ](/produtos/calaris)\\n          * calaris \\n\\ncalaris é um herbicida sistêmico, seletivo para culturas do milho, para\\naplicação em pós-emergência das espécies daninhas.\\n\\n        * [ calipen  ®  sc ](/produtos/calipen-sc)\\n          * calipen  ®  sc \\n\\ncalipen sc é um herbicida sistêmico, seletivo para a cultura da cana-de-\\naçúcar, para aplicação em pós-emergência das espécies daninhas.\\n\\n        * [ dual gold ](/produtos/dual-gold/)\\n          * dual gold \\n\\nherbicida seletivo. indicado para controle pré-emergente de plantas\\ninfestantes em culturas como soja, milho, cana-de-açúcar e algodão. controla\\ncapins e carurus.\\n\\n        * [ grover ](/produtos/grover)\\n          * grover \\n\\ngrover é um herbicida pré-emergente seletivo para a cultura da cana-de-açúcar.\\npromove amplo espectro no controle das plantas daninhas e flexibilidade de\\nuso.\\n\\n        * [ moddus cana ](/produtos/moddus-cana)\\n          * moddus cana \\n\\nmoddus  ®  é um regulador de crescimento, seletivo, recomendado para aplicação\\nna cultura da cana-de-açúcar, visando a aceleração dos processos de maturação\\nda planta e acúmulo de sacarose no colmo.\\n\\n        * [ moddus trigo ](/produtos/moddus-trigo)\\n          * moddus trigo \\n\\nmoddus  ®  é um regulador de crescimento, seletivo, recomendado para aplicação\\nna cultura do trigo e cevada, visando reduzir o crescimento das plantas e o\\nfortalecimento dos entre-nós basais.\\n\\n        * [ reglone ](/produtos/reglone)\\n          * reglone \\n\\nreglone é a melhor opção para dessecação pré-plantio e sequencial, ideal para\\no controle de plantas daninhas resistentes ao glifosato e é o melhor herbicida\\nmulticultura de ação rápida.\\n\\n        * [ saiba mais sobre nossos herbicidas ](/segmentos/herbicidas)\\n      * inseticidas \\n        * [ actara ](/produtos/actara)\\n          * actara \\n\\ninseticida sistêmico. indicado para uma série de culturas, entre elas cana-de-\\naçúcar, café e algodão. controla diferentes pragas, como moscas, pulgões e\\ncigarrinhas.\\n\\n        * [ ampligo ](/produtos/ampligo)\\n          * ampligo \\n\\ninseticida de contato e ingestão. indicado para utilização em culturas como\\nsoja, milho, cana-de-açúcar, algodão e trigo. controla diferentes espécies de\\nlagartas.\\n\\n        * [ ampligo pro ](/produtos/ampligo-pro)\\n          * ampligo pro \\n\\nampligo pro é um inseticida de contato e ingestão eficaz no combate a lagartas\\ne ácaros do algodão.\\n\\n        * [ durivo ](/produtos/durivo)\\n          * durivo \\n\\ninseticida sistêmico de contato e ingestão. na cultura de café, controla\\npragas como bicho-mineiro e cigarra-do-cafeeiro. ideal também para utilização\\nem plantios de milho.\\n\\n        * [ engeo pleno s ](/produtos/engeo-pleno-soja/)\\n          * engeo pleno s \\n\\nengeo pleno s, parte do portfólio completo da syngenta, é a melhor ferramenta\\npara as primeiras aplicações, resultado do investimento em tecnologia e das\\ncaracterísticas que diferenciam o produto dos demais oferecidos no mercado.\\n\\n        * [ influx ](/produtos/influx/)\\n          * influx \\n\\ninflux possui formulação pepite, que proporciona facilidade, conveniência e\\nsegurança; e tecnologia visiq™, um avanço na tecnologia de formulações –\\nprotege a molécula da radiação uv e oferece maior tempo para absorção da\\nfolha, para melhor eficácia.\\n\\n        * [ instivo ](/produtos/instivo/)\\n          * instivo \\n\\ninstivo é o único que controla todas as espécies de spodopteras. o produto\\noferece um longo período de controle; rápida velocidade de ação; controle de\\nácaros, rápida absorção; flexibilidade; possui diferentes modos de ação para\\najudar no manejo antirresistência; entre outras vantagens.\\n\\n        * [ minecto pro ](/produtos/minecto-pro/)\\n          * minecto pro \\n\\nminecto pro é um inseticida foliar de amplo espectro e multicultura. é uma\\nferramenta valiosa, pelo seu espectro de controle e no manejo\\nantirresistência.\\n\\n        * [ proclaim ](/produtos/proclaim)\\n          * proclaim \\n\\ninseticida para combate a lagartas de difícil controle. protege as plantas nas\\nprimeiras horas após a aplicação. indicado para uso nas culturas de soja,\\nalgodão e feijão.\\n\\n        * [ voliam targo ](/produtos/voliam-targo)\\n          * voliam targo \\n\\ninseticida e acaricida de contato e ingestão. na soja, tem eficácia no manejo\\nde lagartas e ácaros. no café, controla pragas como broca, bicho-mineiro e\\nácaro-vermelho.\\n\\n        * [ saiba mais sobre nossos inseticidas ](/segmentos/inseticidas)\\n    * sementes \\n      * [ sementes licenciadas syngenta ](https://www.syngenta.com.br/sementes)\\n      * [ sementes nk  ®  ](/sementes/nk)\\n        * [ nk soja ](/sementes/nk-soja)\\n        * [ nk milho ](/sementes/nk-milho)\\n      * [ sementes soja ](/sementes/syngenta-soja)\\n      * [ agrisure viptera 3 ](/sementes/agrisure-viptera-3)\\n        * agrisure viptera 3 \\n\\nbiotecnologia resistente a herbicidas presente em várias sementes híbridas da\\nsyngenta. controla as principais espécies de lagartas que impactam a\\nprodutividade do milho.\\n\\n    * tratamentos de sementes \\n      * [ avicta completo ](/produtos/avicta-completo)\\n        * avicta completo \\n\\ntratamento de sementes industrial. controla pragas, nematoides e doenças de\\nsoja, milho e algodão. reúne os produtos avicta 500fs, cruiser e maxim\\nadvanced.\\n\\n      * [ cruiser advanced (feijão) ](/produtos/cruiser-advanced-feijao)\\n      * [ cruiser opti (arroz) ](/produtos/cruiser-opti-arroz)\\n      * [ cruiser opti (trigo) ](/produtos/cruiser-opti-trigo)\\n      * [ fortenza ](/produtos/fortenza/)\\n        * fortenza \\n\\no mais poderoso tratamento de sementes inseticida. amplo espectro de manejo de\\npragas iniciais de soja, milho e algodão. reúne fortenza 600 fs, cruiser e\\nmaxim advanced.\\n\\n      * [ fortenza duo ](/produtos/fortenza-duo)\\n        * fortenza duo \\n\\no mais poderoso tratamento de sementes inseticida. amplo espectro de manejo de\\npragas iniciais de soja, milho e algodão. reúne fortenza 600 fs, cruiser e\\nmaxim advanced.\\n\\n      * [ seedcare tsi ](/seedcare)\\n    * [ syngenta digital ](https://www.syngentadigital.com.br/)\\n    * [ atua agro ](https://atuaagro.com.br/)\\n\\n  * imprensa \\n\\n##  imprensa\\n\\n    * [ media releases ](https://www.syngenta.com.br/press-releases)\\n    * [ assessoria de imprensa ](https://www.syngenta.com.br/assessoria-de-imprensa)\\n\\n  * [ notícias ](/noticias)\\n  * [ podcasts ](/podcast-syngenta)\\n  * uso correto e seguro \\n\\n##  uso correto e seguro\\n\\n    * [ principal ](/uso-correto-e-seguro)\\n    * [ plano de agricultura sustentável ](https://www.syngenta.com.br/plano-de-agricultura-sustentavel)\\n    * [ iniciativas para polinizadores ](https://www.syngenta.com.br/iniciativas-para-polinizadores)\\n\\n![logo da semente de soja syn15600 ipro](https://mediasyg.pixit.com.br/s3fs-\\npublic/logo-syn15600.svg)\\n\\n#  plantas com excelente visual e resistentes ao acamamento.\\n\\n[ syn 15600 ipro ](/sementes/syngenta-soja/syn15600-ipro) [ syn 16861 ipro\\n](/sementes/syngenta-soja/syn16861-ipro) [ syn 1059rr ](/sementes/syngenta-\\nsoja/syn1059-rr) [ syn 1163rr ](/sementes/syngenta-soja/syn1163-rr) [ syn\\n1258rr ](/sementes/syngenta-soja/syn1258-rr) [ syn 1281rr\\n](/sementes/syngenta-soja/syn1281-rr) [ syn 1683 ipro ](/sementes/syngenta-\\nsoja/syn1683-ipro) [ syn 1785 ipro ](/sementes/syngenta-soja/syn1785-ipro) [\\nsyn 1687 ipro ](/sementes/syngenta-soja/syn1687-ipro) [ syn 13610 ipro\\n](/sementes/syngenta-soja/syn13610-ipro) [ syn 15640 ipro\\n](/sementes/syngenta-soja/syn15640-ipro) [ syn 15630 ipro\\n](/sementes/syngenta-soja/syn15630-ipro) [ syn 1562 ipro ](/sementes/syngenta-\\nsoja/syn1562-ipro) [ syn 1561 ipro ](/sementes/syngenta-soja/syn1561-ipro) [\\nsyn 1366c ipro ](/sementes/syngenta-soja/syn1366c-ipro)\\n\\n![seta esquerda](https://mediasyg.pixit.com.br/s3fs-public/menu-arrow-\\nleft.png) ![seta direita](https://mediasyg.pixit.com.br/s3fs-public/menu-\\narrow-right.png)\\n\\n![sementes de soja syngenta, a escolha\\ncerta](https://mediasyg.pixit.com.br/s3fs-public/syd_0089_20_licenciamento-de-\\nsoja.png) ![sementes de soja syngenta, a escolha\\ncerta](https://mediasyg.pixit.com.br/s3fs-public/syd_0089_20_licenciamento-de-\\nsoja-mob.png)\\n\\ncaracterísticas\\n\\n![hábito de crescimento](https://mediasyg.pixit.com.br/s3fs-public/icon-\\nhabito.svg)\\n\\nhábito de crescimento\\n\\nindeterminado\\n\\n![cor da flor](https://mediasyg.pixit.com.br/s3fs-public/icon-cor.svg)\\n\\ncor da flor\\n\\nroxa\\n\\n![grupo de maturação](https://mediasyg.pixit.com.br/s3fs-public/icon-\\nmaturacao.svg)\\n\\ngrupo de maturação\\n\\n6.1\\n\\n![pubescência](https://mediasyg.pixit.com.br/s3fs-public/icon-pubescencia.svg)\\n\\npubescência\\n\\ncinza\\n\\n![acamamento](https://mediasyg.pixit.com.br/s3fs-public/icon-acamamento.svg)\\n\\nacamamento\\n\\nresistente\\n\\n![hilo](https://mediasyg.pixit.com.br/s3fs-public/icon-hilo.svg)\\n\\nhilo\\n\\ncinza\\n\\n![altura da planta \\\\(cm\\\\)](https://mediasyg.pixit.com.br/s3fs-public/icon-\\naltura-2.svg)\\n\\naltura da planta (cm)\\n\\n68 - 77\\n\\n![pms médio 5,5 mm](https://mediasyg.pixit.com.br/s3fs-public/icon-peso-1.svg)\\n\\npms médio 5,5 mm\\n\\nsi\\n\\ndiferenciais\\n\\n![precocidade](https://mediasyg.pixit.com.br/s3fs-public/icone_precocidade-\\nsoja.svg)\\n\\nprecocidade\\n\\n![arquitetura moderna de plantas](https://mediasyg.pixit.com.br/s3fs-\\npublic/icone_arquitetura-soja.svg)\\n\\narquitetura moderna  \\nde plantas\\n\\n![resistência e acamamento](https://mediasyg.pixit.com.br/s3fs-\\npublic/icone_resistencia-soja.svg)\\n\\nresistência a  \\nacamamento\\n\\n![alta penetração de produto](https://mediasyg.pixit.com.br/s3fs-\\npublic/icone_penetracao-soja.svg)\\n\\nalta penetração  \\nde produto\\n\\n![boa sanidade foliar](https://mediasyg.pixit.com.br/s3fs-\\npublic/icone_sanidade-soja.svg)\\n\\nboa sanidade  \\nfoliar\\n\\n![excelente visual de planta](https://mediasyg.pixit.com.br/s3fs-\\npublic/icone_visual-soja.svg)\\n\\nexcelente visual  \\nde planta\\n\\n![precocidade](https://mediasyg.pixit.com.br/s3fs-public/icone_precocidade-\\nsoja.svg)\\n\\nprecocidade\\n\\n![arquitetura moderna de plantas](https://mediasyg.pixit.com.br/s3fs-\\npublic/icone_arquitetura-soja.svg)\\n\\narquitetura moderna de plantas\\n\\n![resistência e acamamento](https://mediasyg.pixit.com.br/s3fs-\\npublic/icone_resistencia-soja.svg)\\n\\nresistência a  \\nacamamento\\n\\n![alta penetração de produto](https://mediasyg.pixit.com.br/s3fs-\\npublic/icone_penetracao-soja.svg)\\n\\nalta penetração  \\nde produto\\n\\namplitude de janela de plantio\\n\\n![boa sanidade foliar](https://mediasyg.pixit.com.br/s3fs-\\npublic/icone_sanidade-soja.svg)\\n\\nboa sanidade  \\nfoliar\\n\\n![excelente visual de planta](https://mediasyg.pixit.com.br/s3fs-\\npublic/icone_visual-soja.svg)\\n\\nexcelente visual  \\nde planta\\n\\n‹  ›\\n\\nrecomendação técnica\\n\\népoca de plantio e população final de plantas (nº de plantas finais por metro\\n- espaçamento entre linhas de 50 cm)\\n\\n|  setembro  |  outubro  |  novembro  |  dezembro  \\n---|---|---|---|---  \\n  \\nregião\\n\\n|\\n\\nciclo\\n\\n|  1  |  2  |  1  |  2  |  1  |  2  |  1  |  2  |\\n\\npop.  \\n(mil plts/ha)l  \\n  \\n301 - so go\\n\\n|\\n\\n100-105\\n\\n|  |  |  |  |  |  |  |  |  |  |  |  |  |  |  |  |  |  |  |  |  |  |  |  |\\n\\n360 - 400  \\n  \\n302 - n sp - s go\\n\\n|\\n\\n112-117\\n\\n|  |  |  |  |  |  |  |  |  |  |  |  |  |  |  |  |  |  |  |  |  |  |  |  |\\n\\n360 - 400  \\n  \\n303 - triângulo mg\\n\\n|\\n\\n105-110\\n\\n|  |  |  |  |  |  |  |  |  |  |  |  |  |  |  |  |  |  |  |  |  |  |  |  |\\n\\n320 - 360  \\n  \\n304 - mg-pad/df\\n\\n|\\n\\n98-105\\n\\n|  |  |  |  |  |  |  |  |  |  |  |  |  |  |  |  |  |  |  |  |  |  |  |  |\\n\\n320 - 360  \\n  \\nlegenda: so go - sudoeste de goiás | n sp - norte de são paulo\\n\\nrecomendado\\n\\naceitável\\n\\nnão recomendável\\n\\nresistências/tolerâncias\\n\\ndoença\\n\\n|\\n\\npatógeno\\n\\n|\\n\\nraças\\n\\n|\\n\\nreação  \\n  \\n---|---|---|---  \\ncancro da haste  |  _diaphorte phaseolorum_ |  \\\\-  |  **r**  \\npústula bacteriana  |  _x. axonopodis. pv glycines_ |  \\\\-  |  **r**  \\nmancha-olho-de-rã  |  _cercospora sojinam_ |  1 - 15  |  **r**  \\n23 - 25  |  **mr**  \\n  \\nlegenda: **r** resistente / **mr** : moderadamente resistente / **ms** :\\nmoderadamente suscetível / **s** : suscetível / **si** : sem informação\\n\\nfonte: conpendio de variedades r&d 2016\\n\\nlegenda:  \\n**r** resistente / **mr** : moderadamente resistente / **ms** : moderadamente\\nsuscetível /  \\n**s** : suscetível / **si** : sem informação\\n\\nfonte: conpendio de variedades r&d 2016\\n\\nquer receber  mais conteúdos  como esses?\\n\\ninscreva-se e fique por dentro das novidades sobre produtividade.\\n\\nao assinar a newsletter, você concorda com os termos de uso que constam na [\\npolítica de privacidade ](/politica-de-privacidade) .\\n\\nao assinar a newsletter, você concorda com os termos de uso que constam na [\\npolítica de privacidade ](/politica-de-privacidade) .\\n\\ncanais syngenta\\n\\n![fale com a syngenta no whatsapp](https://mediasyg.pixit.com.br/s3fs-\\npublic/canal1.png)\\n\\n[ clique aqui\\n](https://api.whatsapp.com/send/?phone=5511957869038&text&app_absent=0) [\\n![seta](https://mediasyg.pixit.com.br/s3fs-public/white-arrow.png)\\n](https://api.whatsapp.com/send/?phone=5511957869038&text&app_absent=0)\\n\\n![encontre um distribuidor syngenta](https://mediasyg.pixit.com.br/s3fs-\\npublic/canal2.png)\\n\\n[ saiba mais ](/pesquisa-de-fornecedores) [\\n![seta](https://mediasyg.pixit.com.br/s3fs-public/white-arrow.png)\\n](/pesquisa-de-fornecedores)\\n\\na syngenta\\n\\n  * [ quem somos ](https://www.syngenta.com.br/quem-somos)\\n  * [ a syngenta no brasil ](https://www.syngenta.com.br/no-brasil)\\n  * [ a syngenta no mundo ](https://www.syngenta.com.br/no-mundo)\\n  * [ propósito e valores ](https://www.syngenta.com.br/nossos-valores)\\n  * [ políticas e códigos ](/politica-de-privacidade)\\n  * [ unidades no brasil ](https://www.syngenta.com.br/unidades)\\n  * [ encontre um distribuidor ](/pesquisa-de-fornecedores)\\n\\nculturas\\n\\n  * [ soja ](/cultura/soja)\\n  * [ milho ](/cultura/milho)\\n  * [ café ](/cultura/cafe)\\n  * [ algodão ](/cultura/algodao)\\n  * [ cana-de-açúcar ](/cultura/cana-de-acucar)\\n  * [ trigo ](/cultura/trigo)\\n  * [ hortifrúti ](/cultura/hortifruti)\\n  * [ arroz ](/cultura/arroz)\\n  * [ feijão ](/cultura/feijao)\\n\\nprodutos e soluções\\n\\n  * [ sementes licenciadas syngenta ](https://www.syngenta.com.br/sementes)\\n  * [ tratamento de sementes ](/seedcare)\\n  * [ sementes nk ](/sementes/nk)\\n  * [ sementes de soja ](/sementes/syngenta-soja)\\n  * [ syngenta digital ](https://www.syngentadigital.com.br/)\\n  * [ atua agro ](https://atuaagro.com.br/)\\n\\nimprensa\\n\\n  * [ media releases ](https://www.syngenta.com.br/press-releases)\\n  * [ assessoria de imprensa ](https://www.syngenta.com.br/assessoria-de-imprensa)\\n\\nsustentabilidade\\n\\n  * [ uso correto e seguro ](/uso-correto-e-seguro)\\n  * [ plano de agricultura sustentável ](https://www.syngenta.com.br/plano-de-agricultura-sustentavel)\\n  * [ iniciativas para polinizadores ](https://www.syngenta.com.br/iniciativas-para-polinizadores)\\n\\n![aviso sobre o produto](https://mediasyg.pixit.com.br/s3fs-public/aviso-\\nfooter.png)\\n\\n![c.a.s.a 0800 704 4304](https://mediasyg.pixit.com.br/s3fs-public/casa-\\nfooter.png)\\n\\n[ ![facebook](https://mediasyg.pixit.com.br/s3fs-public/facebook-footer.png)\\n](https://www.facebook.com/syngenta/) [\\n![instagram](https://mediasyg.pixit.com.br/s3fs-public/instagram-footer.png)\\n](https://www.instagram.com/syngentabrasil/) [\\n![linkedin](https://mediasyg.pixit.com.br/s3fs-public/linkedin-footer.png)\\n](https://www.linkedin.com/company/syngenta/) [\\n![youtube](https://mediasyg.pixit.com.br/s3fs-public/youtube-footer.png)\\n](https://www.youtube.com/user/syngentabrasil) [\\n![whatsapp](https://mediasyg.pixit.com.br/s3fs-public/whatsapp-footer.png)\\n](https://api.whatsapp.com/send/?phone=5511957869038&text&app_absent=0)\\n\\ncontato\\n\\n0800 704 4304  \\n[ faleconosco.casa@syngenta.com ](mailto:faleconosco.casa@syngenta.com)\\n\\n© 2021 syngenta\\n\\n[ politica de privacidade ](/politica-de-privacidade) [ termos e condições\\n](/termos-e-condicoes)\\n\\n![](https://px.ads.linkedin.com/collect/?pid=2188282&fmt=gif)\\n![](https://px.ads.linkedin.com/collect/?pid=2189706&fmt=gif)\\n![](https://px.ads.linkedin.com/collect/?pid=2177154&fmt=gif)\\n![](https://px.ads.linkedin.com/collect/?pid=2177162&fmt=gif)\\n![](https://px.ads.linkedin.com/collect/?pid=1902257&fmt=gif)\\n![](https://www.facebook.com/tr?id=164982680820731&ev=pageview&noscript=1)\\n![](https://www.facebook.com/tr?id=534768820769101&ev=pageview&noscript=1)\\n![](https://www.facebook.com/tr?id=2587006364730898&ev=pageview&noscript=1)\\n![](https://www.facebook.com/tr?id=220904689068786&ev=pageview&noscript=1)\\n![](https://www.facebook.com/tr?id=517070568929113&ev=pageview&noscript=1)\\n![](https://www.facebook.com/tr?id=1279688008903675&ev=pageview&noscript=1)\\n![](https://www.facebook.com/tr?id=694178431428261&ev=pageview&noscript=1)\\n![](https://www.facebook.com/tr?id=305020637411423&ev=pageview&noscript=1)\\n![](https://www.facebook.com/tr?id=145229570859694&ev=pageview&noscript=1)\\n![](https://www.facebook.com/tr?id=849734728693187&ev=pageview&noscript=1)\\n\\n'"
      ]
     },
     "execution_count": 3,
     "metadata": {},
     "output_type": "execute_result"
    }
   ],
   "source": [
    "df_todos.loc[0]['texto da página']\n"
   ]
  },
  {
   "cell_type": "code",
   "execution_count": 155,
   "metadata": {},
   "outputs": [
    {
     "data": {
      "text/plain": [
       "23139"
      ]
     },
     "execution_count": 155,
     "metadata": {},
     "output_type": "execute_result"
    }
   ],
   "source": [
    "df_todos.loc[0]['texto da página'].find('recomendação técnica')"
   ]
  },
  {
   "cell_type": "code",
   "execution_count": 156,
   "metadata": {},
   "outputs": [
    {
     "name": "stdout",
     "output_type": "stream",
     "text": [
      "cor da flor\n"
     ]
    }
   ],
   "source": [
    "texto1 = df_todos.loc[0]['texto da página'][15613:23139]\n",
    "\n",
    "resultado = re.search(\"cor da flor\", texto1)\n",
    "if resultado:\n",
    "    print(resultado.group())\n",
    "else:\n",
    "    print('Não foi encontrado o termo: \"cor da flor\".')"
   ]
  },
  {
   "cell_type": "markdown",
   "metadata": {},
   "source": [
    "* ## Testando uma forma de mostrar o texto encontrado de cada página:"
   ]
  },
  {
   "cell_type": "code",
   "execution_count": 86,
   "metadata": {
    "collapsed": true,
    "jupyter": {
     "outputs_hidden": true
    }
   },
   "outputs": [
    {
     "name": "stdout",
     "output_type": "stream",
     "text": [
      "0: cor da flor\n",
      "1: cor da flor\n",
      "2: cor da flor\n",
      "3: cor da flor\n",
      "4: cor da flor\n",
      "5: cor da flor\n",
      "6: cor da flor\n",
      "7: cor da flor\n",
      "8: cor da flor\n",
      "9: cor da flor\n",
      "10: cor da flor\n",
      "11: cor da flor\n",
      "12: cor da flor\n",
      "13: cor da flor\n",
      "14: cor da flor\n",
      "15: cor da flor\n",
      "16: cor da flor\n",
      "17: cor da flor\n",
      "18: cor da flor\n",
      "19: cor da flor\n",
      "20: cor da flor\n",
      "21: cor da flor\n",
      "22: cor da flor\n",
      "23: cor da flor\n",
      "24: cor da flor\n",
      "25: cor da flor\n",
      "26: cor da flor\n",
      "27: cor da flor\n",
      "28: cor da flor\n",
      "29: cor da flor\n",
      "30: cor da flor\n",
      "31: cor da flor\n",
      "32: cor da flor\n",
      "33: cor da flor\n",
      "34: cor da flor\n",
      "35: cor da flor\n",
      "36: cor da flor\n",
      "37: cor da flor\n",
      "38: cor da flor\n",
      "39: cor da flor\n",
      "40: cor da flor\n",
      "41: cor da flor\n",
      "42: cor da flor\n",
      "43: cor da flor\n",
      "44: cor da flor\n",
      "45: cor da flor\n",
      "46: cor da flor\n",
      "47: cor da flor\n",
      "48: cor da flor\n",
      "49: cor da flor\n",
      "50: cor da flor\n",
      "51: cor da flor\n",
      "52: cor da flor\n",
      "53: cor da flor\n",
      "54: cor da flor\n",
      "55: cor da flor\n",
      "56: cor da flor\n",
      "57: cor da flor\n",
      "58: \"XXX XX XXXX\".\n",
      "59: \"XXX XX XXXX\".\n",
      "60: \"XXX XX XXXX\".\n",
      "61: \"XXX XX XXXX\".\n",
      "62: \"XXX XX XXXX\".\n",
      "63: \"XXX XX XXXX\".\n",
      "64: \"XXX XX XXXX\".\n",
      "65: \"XXX XX XXXX\".\n",
      "66: \"XXX XX XXXX\".\n",
      "67: \"XXX XX XXXX\".\n",
      "68: \"XXX XX XXXX\".\n",
      "69: \"XXX XX XXXX\".\n",
      "70: \"XXX XX XXXX\".\n",
      "71: \"XXX XX XXXX\".\n",
      "72: \"XXX XX XXXX\".\n",
      "73: \"XXX XX XXXX\".\n",
      "74: \"XXX XX XXXX\".\n",
      "75: \"XXX XX XXXX\".\n",
      "76: \"XXX XX XXXX\".\n",
      "77: \"XXX XX XXXX\".\n",
      "78: \"XXX XX XXXX\".\n",
      "79: \"XXX XX XXXX\".\n",
      "80: \"XXX XX XXXX\".\n",
      "81: \"XXX XX XXXX\".\n",
      "82: \"XXX XX XXXX\".\n",
      "83: \"XXX XX XXXX\".\n",
      "84: \"XXX XX XXXX\".\n",
      "85: \"XXX XX XXXX\".\n",
      "86: \"XXX XX XXXX\".\n",
      "87: \"XXX XX XXXX\".\n",
      "88: \"XXX XX XXXX\".\n",
      "89: \"XXX XX XXXX\".\n",
      "90: \"XXX XX XXXX\".\n",
      "91: \"XXX XX XXXX\".\n",
      "92: \"XXX XX XXXX\".\n",
      "93: \"XXX XX XXXX\".\n",
      "94: \"XXX XX XXXX\".\n",
      "95: \"XXX XX XXXX\".\n",
      "96: \"XXX XX XXXX\".\n",
      "97: \"XXX XX XXXX\".\n",
      "98: \"XXX XX XXXX\".\n",
      "99: \"XXX XX XXXX\".\n",
      "100: \"XXX XX XXXX\".\n",
      "101: \"XXX XX XXXX\".\n",
      "102: \"XXX XX XXXX\".\n",
      "103: \"XXX XX XXXX\".\n",
      "104: \"XXX XX XXXX\".\n",
      "105: \"XXX XX XXXX\".\n",
      "106: \"XXX XX XXXX\".\n",
      "107: \"XXX XX XXXX\".\n",
      "108: \"XXX XX XXXX\".\n",
      "109: \"XXX XX XXXX\".\n",
      "110: \"XXX XX XXXX\".\n",
      "111: \"XXX XX XXXX\".\n",
      "112: \"XXX XX XXXX\".\n",
      "113: \"XXX XX XXXX\".\n",
      "114: \"XXX XX XXXX\".\n",
      "115: \"XXX XX XXXX\".\n",
      "116: \"XXX XX XXXX\".\n",
      "117: \"XXX XX XXXX\".\n",
      "118: \"XXX XX XXXX\".\n",
      "119: \"XXX XX XXXX\".\n",
      "120: \"XXX XX XXXX\".\n",
      "121: \"XXX XX XXXX\".\n",
      "122: \"XXX XX XXXX\".\n",
      "123: \"XXX XX XXXX\".\n",
      "124: \"XXX XX XXXX\".\n",
      "125: \"XXX XX XXXX\".\n",
      "126: \"XXX XX XXXX\".\n",
      "127: \"XXX XX XXXX\".\n",
      "128: \"XXX XX XXXX\".\n",
      "129: \"XXX XX XXXX\".\n",
      "130: \"XXX XX XXXX\".\n",
      "131: \"XXX XX XXXX\".\n",
      "132: \"XXX XX XXXX\".\n",
      "133: \"XXX XX XXXX\".\n",
      "134: \"XXX XX XXXX\".\n",
      "135: \"XXX XX XXXX\".\n",
      "136: \"XXX XX XXXX\".\n",
      "137: \"XXX XX XXXX\".\n",
      "138: \"XXX XX XXXX\".\n",
      "139: \"XXX XX XXXX\".\n",
      "140: \"XXX XX XXXX\".\n",
      "141: \"XXX XX XXXX\".\n",
      "142: \"XXX XX XXXX\".\n",
      "143: \"XXX XX XXXX\".\n",
      "144: \"XXX XX XXXX\".\n",
      "145: \"XXX XX XXXX\".\n",
      "146: \"XXX XX XXXX\".\n",
      "147: \"XXX XX XXXX\".\n",
      "148: \"XXX XX XXXX\".\n",
      "149: \"XXX XX XXXX\".\n",
      "150: \"XXX XX XXXX\".\n",
      "151: \"XXX XX XXXX\".\n",
      "152: \"XXX XX XXXX\".\n",
      "153: \"XXX XX XXXX\".\n",
      "154: \"XXX XX XXXX\".\n",
      "155: \"XXX XX XXXX\".\n",
      "156: \"XXX XX XXXX\".\n",
      "157: \"XXX XX XXXX\".\n",
      "158: \"XXX XX XXXX\".\n",
      "159: \"XXX XX XXXX\".\n",
      "160: cor da flor\n",
      "161: cor da flor\n",
      "162: cor da flor\n",
      "163: cor da flor\n",
      "164: cor da flor\n",
      "165: cor da flor\n",
      "166: cor da flor\n",
      "167: cor da flor\n",
      "168: cor da flor\n",
      "169: cor da flor\n",
      "170: cor da flor\n",
      "171: cor da flor\n",
      "172: cor da flor\n",
      "173: cor da flor\n",
      "174: cor da flor\n",
      "175: cor da flor\n",
      "176: cor da flor\n",
      "177: cor da flor\n",
      "178: cor da flor\n",
      "179: cor da flor\n",
      "180: cor da flor\n",
      "181: cor da flor\n",
      "182: cor da flor\n",
      "183: cor da flor\n",
      "184: cor da flor\n",
      "185: cor da flor\n",
      "186: cor da flor\n",
      "187: cor da flor\n",
      "188: cor da flor\n",
      "189: cor da flor\n",
      "190: cor da flor\n",
      "191: cor da flor\n",
      "192: cor da flor\n",
      "193: cor da flor\n",
      "194: cor da flor\n",
      "195: cor da flor\n",
      "196: cor da flor\n",
      "197: cor da flor\n",
      "198: cor da flor\n",
      "199: cor da flor\n",
      "200: cor da flor\n",
      "201: cor da flor\n"
     ]
    }
   ],
   "source": [
    "for num, pagina in enumerate(df_todos['texto da página']):\n",
    "    resultado = re.search(\"cor da flor\", pagina)\n",
    "    if resultado:\n",
    "        print(f\"{num}: {resultado.group()}\")\n",
    "    else:\n",
    "        print(f'{num}: \"XXX XX XXXX\".')"
   ]
  },
  {
   "cell_type": "markdown",
   "metadata": {},
   "source": [
    "* ## Criando a função:\n",
    " `procura_palavras_chave` para extrair os termos encontrados em cada página de semente."
   ]
  },
  {
   "cell_type": "code",
   "execution_count": 6,
   "metadata": {},
   "outputs": [],
   "source": [
    "def procura_uma_palavra(palavra): \n",
    "    \n",
    "    \"\"\"Função que procura uma palavra-chave dentro de cada página de semente.\n",
    "    \n",
    "    * Recebe: \n",
    "    -> \"palavra\": uma lista contendo os pontos em que a palavra foi encontrada e NULL onde não foi.\n",
    "    * Retorna: \n",
    "    -> lista contendo as palavras encontradas em cada página.\n",
    "    \n",
    "    ----> OBS: Esta função retorna APENAS UMA das palavras-chave da lista por página!\"\"\"\n",
    "        \n",
    "    lista = []\n",
    " \n",
    "    for pagina in (df_todos['texto da página']):\n",
    "    \n",
    "        resultado = re.search(palavra, pagina)\n",
    "        if resultado:\n",
    "            lista.append(resultado.group())\n",
    "        else:\n",
    "            lista.append(np.nan)\n",
    "           \n",
    "    return lista\n",
    "    \n",
    "\n",
    "#Cor_da_flor (1 palavra chave apenas): certo\n",
    "#GM (várias palavras): não funciona"
   ]
  },
  {
   "cell_type": "code",
   "execution_count": 8,
   "metadata": {
    "collapsed": true,
    "jupyter": {
     "outputs_hidden": true
    }
   },
   "outputs": [
    {
     "data": {
      "text/plain": [
       "['cor da flor',\n",
       " 'cor da flor',\n",
       " 'cor da flor',\n",
       " 'cor da flor',\n",
       " 'cor da flor',\n",
       " 'cor da flor',\n",
       " 'cor da flor',\n",
       " 'cor da flor',\n",
       " 'cor da flor',\n",
       " 'cor da flor',\n",
       " 'cor da flor',\n",
       " 'cor da flor',\n",
       " 'cor da flor',\n",
       " 'cor da flor',\n",
       " 'cor da flor',\n",
       " 'cor da flor',\n",
       " 'cor da flor',\n",
       " 'cor da flor',\n",
       " 'cor da flor',\n",
       " 'cor da flor',\n",
       " 'cor da flor',\n",
       " 'cor da flor',\n",
       " 'cor da flor',\n",
       " 'cor da flor',\n",
       " 'cor da flor',\n",
       " 'cor da flor',\n",
       " 'cor da flor',\n",
       " 'cor da flor',\n",
       " 'cor da flor',\n",
       " 'cor da flor',\n",
       " 'cor da flor',\n",
       " 'cor da flor',\n",
       " 'cor da flor',\n",
       " 'cor da flor',\n",
       " 'cor da flor',\n",
       " 'cor da flor',\n",
       " 'cor da flor',\n",
       " 'cor da flor',\n",
       " 'cor da flor',\n",
       " 'cor da flor',\n",
       " 'cor da flor',\n",
       " 'cor da flor',\n",
       " 'cor da flor',\n",
       " 'cor da flor',\n",
       " 'cor da flor',\n",
       " 'cor da flor',\n",
       " 'cor da flor',\n",
       " 'cor da flor',\n",
       " 'cor da flor',\n",
       " 'cor da flor',\n",
       " 'cor da flor',\n",
       " 'cor da flor',\n",
       " 'cor da flor',\n",
       " 'cor da flor',\n",
       " 'cor da flor',\n",
       " 'cor da flor',\n",
       " 'cor da flor',\n",
       " 'cor da flor',\n",
       " nan,\n",
       " nan,\n",
       " nan,\n",
       " nan,\n",
       " nan,\n",
       " nan,\n",
       " nan,\n",
       " nan,\n",
       " nan,\n",
       " nan,\n",
       " nan,\n",
       " nan,\n",
       " nan,\n",
       " nan,\n",
       " nan,\n",
       " nan,\n",
       " nan,\n",
       " nan,\n",
       " nan,\n",
       " nan,\n",
       " nan,\n",
       " nan,\n",
       " nan,\n",
       " nan,\n",
       " nan,\n",
       " nan,\n",
       " nan,\n",
       " nan,\n",
       " nan,\n",
       " nan,\n",
       " nan,\n",
       " nan,\n",
       " nan,\n",
       " nan,\n",
       " nan,\n",
       " nan,\n",
       " nan,\n",
       " nan,\n",
       " nan,\n",
       " nan,\n",
       " nan,\n",
       " nan,\n",
       " nan,\n",
       " nan,\n",
       " nan,\n",
       " nan,\n",
       " nan,\n",
       " nan,\n",
       " nan,\n",
       " nan,\n",
       " nan,\n",
       " nan,\n",
       " nan,\n",
       " nan,\n",
       " nan,\n",
       " nan,\n",
       " nan,\n",
       " nan,\n",
       " nan,\n",
       " nan,\n",
       " nan,\n",
       " nan,\n",
       " nan,\n",
       " nan,\n",
       " nan,\n",
       " nan,\n",
       " nan,\n",
       " nan,\n",
       " nan,\n",
       " nan,\n",
       " nan,\n",
       " nan,\n",
       " nan,\n",
       " nan,\n",
       " nan,\n",
       " nan,\n",
       " nan,\n",
       " nan,\n",
       " nan,\n",
       " nan,\n",
       " nan,\n",
       " nan,\n",
       " nan,\n",
       " nan,\n",
       " nan,\n",
       " nan,\n",
       " nan,\n",
       " nan,\n",
       " nan,\n",
       " nan,\n",
       " nan,\n",
       " nan,\n",
       " nan,\n",
       " nan,\n",
       " nan,\n",
       " nan,\n",
       " nan,\n",
       " nan,\n",
       " nan,\n",
       " nan,\n",
       " nan,\n",
       " nan,\n",
       " 'cor da flor',\n",
       " 'cor da flor',\n",
       " 'cor da flor',\n",
       " 'cor da flor',\n",
       " 'cor da flor',\n",
       " 'cor da flor',\n",
       " 'cor da flor',\n",
       " 'cor da flor',\n",
       " 'cor da flor',\n",
       " 'cor da flor',\n",
       " 'cor da flor',\n",
       " 'cor da flor',\n",
       " 'cor da flor',\n",
       " 'cor da flor',\n",
       " 'cor da flor',\n",
       " 'cor da flor',\n",
       " 'cor da flor',\n",
       " 'cor da flor',\n",
       " 'cor da flor',\n",
       " 'cor da flor',\n",
       " 'cor da flor',\n",
       " 'cor da flor',\n",
       " 'cor da flor',\n",
       " 'cor da flor',\n",
       " 'cor da flor',\n",
       " 'cor da flor',\n",
       " 'cor da flor',\n",
       " 'cor da flor',\n",
       " 'cor da flor',\n",
       " 'cor da flor',\n",
       " 'cor da flor',\n",
       " 'cor da flor',\n",
       " 'cor da flor',\n",
       " 'cor da flor',\n",
       " 'cor da flor',\n",
       " 'cor da flor',\n",
       " 'cor da flor',\n",
       " 'cor da flor',\n",
       " 'cor da flor',\n",
       " 'cor da flor',\n",
       " 'cor da flor',\n",
       " 'cor da flor']"
      ]
     },
     "execution_count": 8,
     "metadata": {},
     "output_type": "execute_result"
    }
   ],
   "source": [
    "cor_da_flor = procura_uma_palavra(\"cor da flor\")\n",
    "cor_da_flor"
   ]
  },
  {
   "cell_type": "code",
   "execution_count": 16,
   "metadata": {},
   "outputs": [
    {
     "data": {
      "text/plain": [
       "202"
      ]
     },
     "execution_count": 16,
     "metadata": {},
     "output_type": "execute_result"
    }
   ],
   "source": [
    "len(cor_da_flor)"
   ]
  },
  {
   "cell_type": "code",
   "execution_count": 24,
   "metadata": {},
   "outputs": [],
   "source": [
    "def procura_palavras_chave(expressao): \n",
    "    #FUNCIONA QUANDO ENCONTRA ALGUMA PALAVRA, SEM NULL\n",
    "    \"\"\"Função que procura palavras-chave dentro de cada página de semente.\n",
    "    \n",
    "    * Recebe: \n",
    "    -> \"expressao\": uma lista contendo as palavras-chave iguais.\n",
    "    * Retorna: \n",
    "    -> lista contendo as palavras encontradas em cada página.\n",
    "    \n",
    "    ----> OBS: Esta função retorna APENAS UMA das palavras-chave da lista por página!\"\"\"\n",
    "    lista = []\n",
    "    c = 0\n",
    "    for num, pagina in enumerate(df_todos['texto da página']):\n",
    "        for palavra in expressao:\n",
    "            resultado = re.search(palavra, pagina)\n",
    "            try:\n",
    "                if resultado and c == num:\n",
    "                    lista.append(resultado.group())\n",
    "                    c += 1\n",
    "            except: \n",
    "                lista.append(np.nan)\n",
    "                       \n",
    "    return lista"
   ]
  },
  {
   "cell_type": "code",
   "execution_count": 25,
   "metadata": {
    "collapsed": true,
    "jupyter": {
     "outputs_hidden": true
    }
   },
   "outputs": [
    {
     "data": {
      "text/plain": [
       "['grupo de maturação',\n",
       " 'grupo de maturação',\n",
       " 'grupo de maturação',\n",
       " 'grupo de maturação',\n",
       " 'grupo de maturação',\n",
       " 'grupo de maturação',\n",
       " 'grupo de maturação',\n",
       " 'grupo de maturação',\n",
       " 'grupo de maturação',\n",
       " 'grupo de maturação',\n",
       " 'grupo de maturação',\n",
       " 'grupo de maturação',\n",
       " 'grupo de maturação',\n",
       " 'grupo de maturação',\n",
       " 'grupo de maturação',\n",
       " 'grupo de maturação',\n",
       " 'grupo de maturação',\n",
       " 'grupo de maturação',\n",
       " 'grupo de maturação',\n",
       " 'grupo de maturação',\n",
       " 'grupo de maturação',\n",
       " 'maturação relativa',\n",
       " 'maturação relativa',\n",
       " 'maturação relativa',\n",
       " 'maturação relativa',\n",
       " 'maturação relativa',\n",
       " 'maturação relativa',\n",
       " 'maturação relativa',\n",
       " 'maturação relativa',\n",
       " 'maturação relativa',\n",
       " 'maturação relativa',\n",
       " 'maturação relativa',\n",
       " 'maturação relativa',\n",
       " 'maturação relativa',\n",
       " 'maturação relativa',\n",
       " 'maturação relativa',\n",
       " 'maturação relativa',\n",
       " 'maturação relativa',\n",
       " 'maturação relativa',\n",
       " 'maturação relativa',\n",
       " 'maturação relativa',\n",
       " 'maturação relativa',\n",
       " 'maturação relativa',\n",
       " 'maturação relativa',\n",
       " 'maturação relativa',\n",
       " 'maturação relativa',\n",
       " 'maturação relativa',\n",
       " 'maturação relativa',\n",
       " 'maturação relativa',\n",
       " 'maturação relativa',\n",
       " 'maturação relativa',\n",
       " 'maturação relativa',\n",
       " 'maturação relativa',\n",
       " 'maturação relativa',\n",
       " 'maturação relativa',\n",
       " 'maturação relativa',\n",
       " 'maturação relativa',\n",
       " 'maturação relativa',\n",
       " 'grupo de maturação',\n",
       " 'grupo de maturação',\n",
       " 'grupo de maturação',\n",
       " 'grupo de maturação',\n",
       " 'grupo de maturação',\n",
       " 'grupo de maturação',\n",
       " 'grupo de maturação',\n",
       " 'grupo de maturação',\n",
       " 'grupo de maturação',\n",
       " 'grupo de maturação',\n",
       " 'grupo de maturação',\n",
       " 'grupo de maturação',\n",
       " 'grupo de maturação',\n",
       " 'grupo de maturação',\n",
       " 'grupo de maturação',\n",
       " 'grupo de maturação',\n",
       " 'grupo de maturação',\n",
       " 'grupo de maturação',\n",
       " 'grupo de maturação',\n",
       " 'grupo de maturação',\n",
       " 'grupo de maturação',\n",
       " 'grupo de maturação',\n",
       " 'grupo de maturação',\n",
       " 'grupo de maturação',\n",
       " 'grupo de maturação',\n",
       " 'grupo de maturação',\n",
       " 'grupo de maturação',\n",
       " 'grupo de maturação',\n",
       " 'grupo de maturação',\n",
       " 'grupo de maturação',\n",
       " 'grupo de maturação',\n",
       " 'grupo de maturação',\n",
       " 'grupo de maturação',\n",
       " 'grupo de maturação',\n",
       " 'grupo de maturação',\n",
       " 'grupo de maturação',\n",
       " 'grupo de maturação',\n",
       " 'grupo de maturação',\n",
       " 'grupo de maturação',\n",
       " 'grupo de maturação',\n",
       " 'grupo de maturação',\n",
       " 'grupo de maturação',\n",
       " 'grupo de maturação',\n",
       " 'grupo de maturação',\n",
       " 'grupo de maturação',\n",
       " 'grupo de maturação',\n",
       " 'grupo de maturação',\n",
       " 'grupo de maturação',\n",
       " 'grupo de maturação',\n",
       " 'grupo de maturação',\n",
       " 'grupo de maturação',\n",
       " 'grupo de maturação',\n",
       " 'grupo de maturação',\n",
       " 'grupo de maturação',\n",
       " 'grupo de maturação',\n",
       " 'grupo de maturação',\n",
       " 'grupo de maturação',\n",
       " 'grupo de maturação',\n",
       " 'grupo de maturação',\n",
       " 'grupo de maturação',\n",
       " 'grupo de maturação',\n",
       " 'grupo de maturação',\n",
       " 'grupo de maturação',\n",
       " 'grupo de maturação',\n",
       " 'grupo de maturação',\n",
       " 'grupo de maturação',\n",
       " 'grupo de maturação',\n",
       " 'grupo de maturação',\n",
       " 'grupo de maturação',\n",
       " 'grupo de maturação',\n",
       " 'grupo de maturação',\n",
       " 'grupo de maturação',\n",
       " 'grupo de maturação',\n",
       " 'grupo de maturação',\n",
       " 'grupo de maturação',\n",
       " 'grupo de maturação',\n",
       " 'grupo de maturação',\n",
       " 'grupo de maturação',\n",
       " 'grupo de maturação',\n",
       " 'grupo de maturação',\n",
       " 'grupo de maturação',\n",
       " 'grupo de maturação',\n",
       " 'grupo de maturação',\n",
       " 'grupo de maturação',\n",
       " 'grupo de maturação',\n",
       " 'grupo de maturação',\n",
       " 'grupo de maturação',\n",
       " 'grupo de maturação',\n",
       " 'grupo de maturação',\n",
       " 'grupo de maturação',\n",
       " 'grupo de maturação',\n",
       " 'grupo de maturação',\n",
       " 'grupo de maturação',\n",
       " 'grupo de maturação',\n",
       " 'grupo de maturação',\n",
       " 'grupo de maturação',\n",
       " 'grupo de maturação',\n",
       " 'grupo de maturação',\n",
       " 'grupo de maturação',\n",
       " 'grupo de maturação',\n",
       " 'grupo de maturação',\n",
       " 'grupo de maturação',\n",
       " 'grupo de maturação',\n",
       " 'grupo de maturação',\n",
       " 'grupo de maturação',\n",
       " 'grupo de maturação',\n",
       " 'grupo de maturação',\n",
       " 'grupo de maturação',\n",
       " 'grupo de maturação',\n",
       " 'grupo de maturação',\n",
       " 'grupo de maturação',\n",
       " 'grupo de maturação',\n",
       " 'grupo de maturação',\n",
       " 'grupo de maturação',\n",
       " 'grupo de maturação',\n",
       " 'grupo de maturação',\n",
       " 'grupo de maturação',\n",
       " 'grupo de maturação',\n",
       " 'grupo de maturação',\n",
       " 'grupo de maturação',\n",
       " 'grupo de maturação',\n",
       " 'grupo de maturação',\n",
       " 'grupo de maturação',\n",
       " 'grupo de maturação',\n",
       " 'grupo de maturação',\n",
       " 'grupo de maturação',\n",
       " 'grupo de maturação',\n",
       " 'grupo de maturação',\n",
       " 'grupo de maturação',\n",
       " 'grupo de maturação',\n",
       " 'grupo de maturação',\n",
       " 'grupo de maturação',\n",
       " 'grupo de maturação',\n",
       " 'grupo de maturação',\n",
       " 'grupo de maturação',\n",
       " 'grupo de maturação',\n",
       " 'grupo de maturação',\n",
       " 'grupo de maturação',\n",
       " 'grupo de maturação',\n",
       " 'grupo de maturação',\n",
       " 'grupo de maturação',\n",
       " 'grupo de maturação',\n",
       " 'grupo de maturação',\n",
       " 'grupo de maturação']"
      ]
     },
     "execution_count": 25,
     "metadata": {},
     "output_type": "execute_result"
    }
   ],
   "source": [
    "GM = ['grupo de maturação', 'maturity group', 'maturação relativa', 'gm', 'g.m.', 'g.m', 'ciclo']\n",
    "grupo_maturacao = procura_palavras_chave(GM)\n",
    "grupo_maturacao"
   ]
  },
  {
   "cell_type": "code",
   "execution_count": 26,
   "metadata": {},
   "outputs": [
    {
     "data": {
      "text/plain": [
       "202"
      ]
     },
     "execution_count": 26,
     "metadata": {},
     "output_type": "execute_result"
    }
   ],
   "source": [
    "len(grupo_maturacao)"
   ]
  },
  {
   "cell_type": "code",
   "execution_count": 27,
   "metadata": {
    "collapsed": true,
    "jupyter": {
     "outputs_hidden": true
    }
   },
   "outputs": [
    {
     "data": {
      "text/plain": [
       "['variedade',\n",
       " 'variedade',\n",
       " 'variedade',\n",
       " 'variedade',\n",
       " 'variedade',\n",
       " 'variedade',\n",
       " 'variedade',\n",
       " 'variedade',\n",
       " 'variedade',\n",
       " 'variedade',\n",
       " 'variedade',\n",
       " 'variedade',\n",
       " 'variedade',\n",
       " 'variedade',\n",
       " 'variedade',\n",
       " 'variedade',\n",
       " 'variedade',\n",
       " 'variedade',\n",
       " 'variedade',\n",
       " 'variedade',\n",
       " 'variedade',\n",
       " 'cultivar',\n",
       " 'cultivar',\n",
       " 'cultivar',\n",
       " 'cultivar',\n",
       " 'cultivar',\n",
       " 'cultivar',\n",
       " 'cultivar',\n",
       " 'cultivar',\n",
       " 'cultivar',\n",
       " 'cultivar',\n",
       " 'cultivar',\n",
       " 'cultivar',\n",
       " 'cultivar',\n",
       " 'cultivar',\n",
       " 'cultivar',\n",
       " 'cultivar',\n",
       " 'cultivar',\n",
       " 'cultivar',\n",
       " 'cultivar',\n",
       " 'cultivar',\n",
       " 'cultivar',\n",
       " 'cultivar',\n",
       " 'cultivar',\n",
       " 'cultivar',\n",
       " 'cultivar',\n",
       " 'cultivar',\n",
       " 'cultivar',\n",
       " 'cultivar',\n",
       " 'cultivar',\n",
       " 'cultivar',\n",
       " 'cultivar',\n",
       " 'cultivar',\n",
       " 'cultivar',\n",
       " 'cultivar',\n",
       " 'cultivar',\n",
       " 'cultivar',\n",
       " 'cultivar',\n",
       " 'cultivar',\n",
       " 'cultivar',\n",
       " 'cultivar',\n",
       " 'cultivar',\n",
       " 'cultivar',\n",
       " 'cultivar',\n",
       " 'cultivar',\n",
       " 'cultivar',\n",
       " 'cultivar',\n",
       " 'cultivar',\n",
       " 'cultivar',\n",
       " 'cultivar',\n",
       " 'cultivar',\n",
       " 'cultivar',\n",
       " 'cultivar',\n",
       " 'cultivar',\n",
       " 'cultivar',\n",
       " 'cultivar',\n",
       " 'cultivar',\n",
       " 'cultivar',\n",
       " 'cultivar',\n",
       " 'cultivar',\n",
       " 'cultivar',\n",
       " 'cultivar',\n",
       " 'cultivar',\n",
       " 'cultivar',\n",
       " 'cultivar',\n",
       " 'cultivar',\n",
       " 'cultivar',\n",
       " 'cultivar',\n",
       " 'cultivar',\n",
       " 'cultivar',\n",
       " 'cultivar',\n",
       " 'cultivar',\n",
       " 'cultivar',\n",
       " 'cultivar',\n",
       " 'cultivar',\n",
       " 'cultivar',\n",
       " 'cultivar',\n",
       " 'cultivar',\n",
       " 'cultivar',\n",
       " 'cultivar',\n",
       " 'cultivar',\n",
       " 'cultivar',\n",
       " 'cultivar',\n",
       " 'cultivar',\n",
       " 'cultivar',\n",
       " 'cultivar',\n",
       " 'cultivar',\n",
       " 'cultivar',\n",
       " 'cultivar',\n",
       " 'cultivar',\n",
       " 'cultivar',\n",
       " 'cultivar',\n",
       " 'cultivar']"
      ]
     },
     "execution_count": 27,
     "metadata": {},
     "output_type": "execute_result"
    }
   ],
   "source": [
    "c_v = ['cultivar', 'variedade']\n",
    "cultivar = procura_palavras_chave(c_v)\n",
    "cultivar"
   ]
  },
  {
   "cell_type": "code",
   "execution_count": 28,
   "metadata": {},
   "outputs": [
    {
     "data": {
      "text/plain": [
       "113"
      ]
     },
     "execution_count": 28,
     "metadata": {},
     "output_type": "execute_result"
    }
   ],
   "source": [
    "len(cultivar)"
   ]
  },
  {
   "cell_type": "code",
   "execution_count": null,
   "metadata": {},
   "outputs": [],
   "source": []
  }
 ],
 "metadata": {
  "kernelspec": {
   "display_name": "Python 3",
   "language": "python",
   "name": "python3"
  },
  "language_info": {
   "codemirror_mode": {
    "name": "ipython",
    "version": 3
   },
   "file_extension": ".py",
   "mimetype": "text/x-python",
   "name": "python",
   "nbconvert_exporter": "python",
   "pygments_lexer": "ipython3",
   "version": "3.7.6"
  }
 },
 "nbformat": 4,
 "nbformat_minor": 4
}
