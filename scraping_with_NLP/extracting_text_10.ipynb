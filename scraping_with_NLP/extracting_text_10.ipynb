{
 "cells": [
  {
   "cell_type": "markdown",
   "metadata": {},
   "source": [
    "## Este Notebook tem como objetivo:\n",
    "* ### extrair o texto das páginas de cada semente, de 10 sites. São eles:\n",
    "  1. Syngenta\n",
    "  2. NK sementes (também são da Syngenta)\n",
    "  3. TMG\n",
    "  4. Don Mario cerrado\n",
    "  5. Don Mario Sul\n",
    "  6. Brasmax Cerrado\n",
    "  7. Brasmax Sul\n",
    "  8. Nidera\n",
    "  9. Brevant\n",
    "  10. KWS"
   ]
  },
  {
   "cell_type": "code",
   "execution_count": 1,
   "metadata": {},
   "outputs": [],
   "source": [
    "url_1 = 'https://www.portalsyngenta.com.br/sementes/syngenta-soja'\n",
    "url_2 = 'https://www.portalsyngenta.com.br/sementes/nk-soja'\n",
    "url_3 = 'https://www.tmg.agr.br/ptbr/cultivares/soja'\n",
    "url_4 = 'https://www.donmario.com/pt-br/catalogo-cerrado/'\n",
    "url_5 = 'https://www.donmario.com/pt-br/catalogo-sul/'\n",
    "url_6 = 'https://www.brasmaxgenetica.com.br/cultivar-regiao-cerrado/'\n",
    "url_7 = 'https://www.brasmaxgenetica.com.br/cultivar-regiao-sul/'\n",
    "url_8 = 'https://www.niderasementes.com.br/soja/'\n",
    "url_9 = 'https://www.brevant.com.br/produtos/soja.html'\n",
    "url_10 = 'https://www.kws.com/br/pt/produtos/soja/portfolio-completo-soja/'"
   ]
  },
  {
   "cell_type": "code",
   "execution_count": null,
   "metadata": {},
   "outputs": [],
   "source": []
  }
 ],
 "metadata": {
  "kernelspec": {
   "display_name": "Python 3",
   "language": "python",
   "name": "python3"
  },
  "language_info": {
   "codemirror_mode": {
    "name": "ipython",
    "version": 3
   },
   "file_extension": ".py",
   "mimetype": "text/x-python",
   "name": "python",
   "nbconvert_exporter": "python",
   "pygments_lexer": "ipython3",
   "version": "3.7.6"
  }
 },
 "nbformat": 4,
 "nbformat_minor": 4
}
