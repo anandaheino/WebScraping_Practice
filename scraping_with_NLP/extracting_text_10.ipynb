{
 "cells": [
  {
   "cell_type": "markdown",
   "metadata": {},
   "source": [
    "## Este Notebook tem como objetivo:\n",
    "* ### extrair o texto das páginas de cada semente, de 10 sites. São eles:\n",
    "  1. Syngenta\n",
    "  2. NK sementes (também são da Syngenta)\n",
    "  3. TMG\n",
    "  4. Don Mario cerrado\n",
    "  5. Don Mario Sul\n",
    "  6. Brasmax Cerrado\n",
    "  7. Brasmax Sul\n",
    "  8. Nidera\n",
    "  9. Brevant\n",
    "  10. KWS"
   ]
  },
  {
   "cell_type": "code",
   "execution_count": 1,
   "metadata": {},
   "outputs": [],
   "source": [
    "url_1 = 'https://www.portalsyngenta.com.br/sementes/syngenta-soja'\n",
    "url_2 = 'https://www.portalsyngenta.com.br/sementes/nk-soja'\n",
    "url_3 = 'https://www.tmg.agr.br/ptbr/cultivares/soja'\n",
    "url_4 = 'https://www.donmario.com/pt-br/catalogo-cerrado/'\n",
    "url_5 = 'https://www.donmario.com/pt-br/catalogo-sul/'\n",
    "url_6 = 'https://www.brasmaxgenetica.com.br/cultivar-regiao-cerrado/'\n",
    "url_7 = 'https://www.brasmaxgenetica.com.br/cultivar-regiao-sul/'\n",
    "url_8 = 'https://www.niderasementes.com.br/soja/'\n",
    "url_9 = 'https://www.brevant.com.br/produtos/soja.html'\n",
    "url_10 = 'https://www.kws.com/br/pt/produtos/soja/portfolio-completo-soja/'"
   ]
  },
  {
   "cell_type": "code",
   "execution_count": 2,
   "metadata": {},
   "outputs": [],
   "source": [
    "from html2text import html2text\n",
    "from urllib.request import urlopen\n",
    "from urllib.parse import urljoin\n",
    "from bs4 import BeautifulSoup"
   ]
  },
  {
   "cell_type": "markdown",
   "metadata": {},
   "source": [
    "# 1. Syngenta\n",
    "* Analisando o html da página, vemos que todos os cards das sementes tem:\n",
    "  * < div class = \"card-text-2 card-portfolio\"\n",
    "  \n",
    "* Para obter os links específicos de cada semente, temos que usar `urljoin`\n",
    "  * link recolhido no html + link principal\n",
    "\n",
    "* Entretanto, alguns links parciais estão incompletos.\n",
    "* Para corrigir o erro, temos que usar um if dentro da def `scrap_and_colect_syngenta` para adicionar a parte que falta _(sementes/)_, caso não tenha."
   ]
  },
  {
   "cell_type": "code",
   "execution_count": 3,
   "metadata": {},
   "outputs": [],
   "source": [
    "def scrap_and_colect_syngenta(url, class_card):\n",
    "    \n",
    "    \"\"\"Abre o link principal da Syngenta e da NK sementes.\n",
    "    Recebe:\n",
    "    * <url> a ser scrapped; \n",
    "    * <class_card> que contém os links das sementes.\n",
    "    ---> Retorna uma lista com os links de cada semente\"\"\"\n",
    "    \n",
    "    html = urlopen(url)\n",
    "    scrap = BeautifulSoup(html, 'html.parser')\n",
    "\n",
    "    cards = scrap.find_all('div', {'class': class_card})\n",
    "    \n",
    "    links = []\n",
    "\n",
    "    for link in cards:\n",
    "        link = link.a['href']\n",
    "        if 'sementes' in link:\n",
    "            links.append(urljoin('https://www.portalsyngenta.com.br', link))\n",
    "        else: \n",
    "            link = 'sementes/'+link\n",
    "            links.append(urljoin('https://www.portalsyngenta.com.br', link))\n",
    "    \n",
    "    return links                   "
   ]
  },
  {
   "cell_type": "code",
   "execution_count": null,
   "metadata": {},
   "outputs": [],
   "source": [
    "links_1 = scrap_and_colect_syngenta(url_1, \"card-text-2 card-portfolio\") \n",
    "links_1    # link para cada semente de soja Syn "
   ]
  }
 ],
 "metadata": {
  "kernelspec": {
   "display_name": "Python 3",
   "language": "python",
   "name": "python3"
  },
  "language_info": {
   "codemirror_mode": {
    "name": "ipython",
    "version": 3
   },
   "file_extension": ".py",
   "mimetype": "text/x-python",
   "name": "python",
   "nbconvert_exporter": "python",
   "pygments_lexer": "ipython3",
   "version": "3.7.6"
  }
 },
 "nbformat": 4,
 "nbformat_minor": 4
}
