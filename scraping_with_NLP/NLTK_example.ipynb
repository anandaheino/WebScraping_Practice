{
 "cells": [
  {
   "cell_type": "markdown",
   "metadata": {},
   "source": [
    "# Primeiros passos com Natural Language Toolkit \n",
    "\n",
    "Referência: https://towardsdatascience.com/text-preprocessing-with-nltk-9de5de891658"
   ]
  },
  {
   "cell_type": "code",
   "execution_count": 1,
   "metadata": {},
   "outputs": [
    {
     "name": "stderr",
     "output_type": "stream",
     "text": [
      "[nltk_data] Downloading package inaugural to\n",
      "[nltk_data]     /home/anandaheino/nltk_data...\n",
      "[nltk_data]   Package inaugural is already up-to-date!\n"
     ]
    },
    {
     "data": {
      "text/plain": [
       "'Fellow-Citizens of the Senate and of the House of Representatives:\\n\\nAmong the vicissitudes incident to life no event could have filled me with greater anxieties than that of which the notification was'"
      ]
     },
     "execution_count": 1,
     "metadata": {},
     "output_type": "execute_result"
    }
   ],
   "source": [
    "import nltk\n",
    "\n",
    "# Usando um dataset disponibilizado pelo nltk\n",
    "nltk.download('inaugural')\n",
    "from nltk.corpus import inaugural\n",
    "\n",
    "corpus = inaugural.raw('1789-Washington.txt')\n",
    "corpus[:200]"
   ]
  },
  {
   "cell_type": "code",
   "execution_count": 2,
   "metadata": {},
   "outputs": [
    {
     "name": "stdout",
     "output_type": "stream",
     "text": [
      "número de frases: 23\n"
     ]
    }
   ],
   "source": [
    "from nltk.tokenize import word_tokenize, sent_tokenize\n",
    "sentences = nltk.sent_tokenize(corpus)\n",
    "print('número de frases:', len(sentences))"
   ]
  },
  {
   "cell_type": "code",
   "execution_count": 3,
   "metadata": {},
   "outputs": [
    {
     "name": "stdout",
     "output_type": "stream",
     "text": [
      "número de palavras: 1537\n"
     ]
    }
   ],
   "source": [
    "words = nltk.word_tokenize(corpus)\n",
    "print('número de palavras:', len(words))"
   ]
  },
  {
   "cell_type": "markdown",
   "metadata": {},
   "source": [
    "## Aplicando em um exemplo do nosso contexto:"
   ]
  },
  {
   "cell_type": "code",
   "execution_count": 7,
   "metadata": {},
   "outputs": [
    {
     "name": "stdout",
     "output_type": "stream",
     "text": [
      "número de palavras: 526\n"
     ]
    },
    {
     "data": {
      "text/plain": [
       "['pular', 'para', 'o', 'conteúdo', '[', '!', '[', ']', '(', 'https']"
      ]
     },
     "execution_count": 7,
     "metadata": {},
     "output_type": "execute_result"
    }
   ],
   "source": [
    "url = 'https://www.ftsementes.com.br/?page_id=1038'\n",
    "html = 'pular para o conteúdo\\n\\n[ ![](https://www.ftsementes.com.br/wp-content/uploads/2020/05/cropped-ft-\\nlogo-2.png) ](https://www.ftsementes.com.br/ \"ft sementes\")\\n\\n  * [ início ](https://www.ftsementes.com.br/)\\n  * [ sobre nós ](https://www.ftsementes.com.br/?page_id=194)\\n  * [ novidades ](https://www.ftsementes.com.br/?page_id=192)\\n  * [ cultivares ](https://www.ftsementes.com.br/?page_id=404)\\n  * [ produtividades ](https://www.ftsementes.com.br/?page_id=2340)\\n  * [ licenciados ](https://www.ftsementes.com.br/?page_id=45)\\n  * [ contato ](https://www.ftsementes.com.br/?page_id=48)\\n\\n[ ![](https://www.ftsementes.com.br/wp-content/uploads/2020/05/cropped-ft-\\nlogo-2.png) ](https://www.ftsementes.com.br/ \"ft sementes\")\\n\\nalternar navegação\\n\\nalternar navegação\\n\\n  * [ início ](https://www.ftsementes.com.br/)\\n  * [ sobre nós ](https://www.ftsementes.com.br/?page_id=194)\\n  * [ novidades ](https://www.ftsementes.com.br/?page_id=192)\\n  * [ cultivares ](https://www.ftsementes.com.br/?page_id=404)\\n  * [ produtividades ](https://www.ftsementes.com.br/?page_id=2340)\\n  * [ licenciados ](https://www.ftsementes.com.br/?page_id=45)\\n  * [ contato ](https://www.ftsementes.com.br/?page_id=48)\\n\\n[ __ ](/?page_id=617)\\n\\n##  portfólio soja ipro ![](http://localhost/ftsementes/wp-\\ncontent/uploads/2020/05/intacta-300x106.png)\\n\\n[ __ ](https://instagr.am/ftsementes)\\n\\n[ __ ](https://fb.me/ftsementessoja)\\n\\n![ftr 3557 ipro](https://www.ftsementes.com.br/wp-\\ncontent/uploads/2020/05/3557.png)\\n\\n###  características\\n\\n###  gm 5.7\\n\\n  * **altíssimo potencial produtivo;**\\n  * **super precoce;**\\n  * **pmg elevado;**\\n  * **ampla adaptação;**\\n  * **estabilidade;**\\n  * **sanidade radicular.**\\n\\n**flor**\\n\\n  * branca \\n\\n**pubescência**\\n\\n  * marrom \\n\\n**hilo**\\n\\n  * preto \\n\\n**crescimento**\\n\\n  * indeterminado \\n\\n**altura (cm)**\\n\\n  * 80 a 100 \\n\\n**fertilidade**\\n\\n  * alta \\n\\n###  reação às doenças\\n\\n![fitóftora](https://www.ftsementes.com.br/wp-\\ncontent/uploads/elementor/thumbs/fitóftora-\\nos9qjyn5i1gkkk8vawwwl5htah0rmshviii2p4w35s.png)\\n\\n_phytophthora sojae_ : **mr***\\n\\n![legendas](https://www.ftsementes.com.br/wp-\\ncontent/uploads/2020/05/legendas.png)\\n\\n![legenda](https://www.ftsementes.com.br/wp-\\ncontent/uploads/2020/05/legenda-1.png)\\n\\n###  época de semeadura\\n\\n**setembro**\\n\\n![](http://localhost/ftsementes/wp-content/uploads/2020/05/set-1-300x86.png)\\n\\n**outubro**\\n\\n![](http://localhost/ftsementes/wp-\\ncontent/uploads/2020/05/10g2030y-300x86.png)\\n\\n**novembro**\\n\\n![](http://localhost/ftsementes/wp-\\ncontent/uploads/2020/05/1020y30g-300x86.png)\\n\\n**dezembro**\\n\\n![](http://localhost/ftsementes/wp-content/uploads/2020/05/dez-1-300x86.png)\\n\\n  * __ recomendado \\n\\n  * __ tolerante \\n\\n  * __ não recomendado \\n\\n###  população indicada por estado/microrregião\\n\\n###\\n\\ncreated with raphaël 2.0.1  df  df  go  go  ms  ms  mg  mg  pr  pr  rs  rs  sc\\nsc  sp  sp\\n\\n[\\n![✖](data:image/png;base64,ivborw0kggoaaaansuheugaaabgaaaaycayaaadgdz34aaaabgdbtueaak/inwwk6qaaabl0rvh0u29mdhdhcmuaqwrvymugsw1hz2vszwfkexhjztwaaaizsurbvhjapjzns5rrfmfh0viuktpfn6dadybilzirajntibnqxehiljs2m+0jbsavhsbvimpmdv+rcno2lqilwwwfoevplqkdywqyfieomf7vfv7swt/zeo85v3pvufe5z9rukpwytewm8whzdq1ks9npsum0gbcx42ggxgppq0mn003yl+ig+u2i+zimr4tfw+rqg3bnoltx/ryogktrre8jgiwif1wfl3ydpzcebufcgif3isbtbvcsdka3dodrahd94em+8ak0gkfwv6vwpkme2jiofmqrkxemsgufmr7+yhrrzjgkwhy/eb/m8r9tthdmnbao8wp1o4jvq30wbn4gqvws1+hmxndgqstsru6mm15arh40fqget8gtcywkkyhhfta4tusw0ylxrqtjebnwbb/4eaa8itnj49kmt6cfw7kchb9f9qelkqeuvriyegxao3st60pswvhx1zjgfeb4ww/crou/pzzhu3fk0mqlh5wjgf/czkemc+atakcs8b6ds/jsydefjb8pleg/fjmo+cpkebidzkad2mc2iz2f1bzvbxsc51k26zglab11ap5plpikzgm1wgj+oavelncwi0vz6gi6bnhcqfdw/geojbkjgud58zzke3dagjbdkwj8tuo0je5y4jsk33idh02c1imytzg5sfaqmtnc0bj8czqj+hyxichbbqxtc3tvd87yzzq6hd6hfgjlet/6r/qxhryar3ibw/gsebf9b/srwab6remwf9iwfgaaaabjru5erkjggg==)\\n](javascript:void\\\\(0\\\\)) |  \\n---|---  \\n  \\n−  \\\\+\\n\\n[ html5 maps for wordpress\\n](http://mapplugins.com/brazil/?utm_source=html5-maps-\\nplugin&utm_medium=bottom-link&utm_campaign=bottom-link-map-brazil)\\n\\n[ __ ](https://instagr.am/ftsementes)\\n\\n[ __ ](https://fb.me/ftsementessoja)\\n\\nft sementes © 2021 / todos os direitos reservados\\n\\nerror:  content is protected !!\\n\\n![](https://www.ftsementes.com.br/wp-content/uploads/2020/11/arrow.png)\\n\\n'\n",
    "words = nltk.word_tokenize(html)\n",
    "print('número de palavras:', len(words))\n",
    "words[:10]"
   ]
  },
  {
   "cell_type": "code",
   "execution_count": 20,
   "metadata": {
    "collapsed": true,
    "jupyter": {
     "outputs_hidden": true
    }
   },
   "outputs": [
    {
     "data": {
      "text/plain": [
       "'Pular para o conteúdo\\n\\n[![](https://www.ftsementes.com.br/wp-content/uploads/2020/05/cropped-ft-\\nlogo-2.png)](https://www.ftsementes.com.br/ \"FT Sementes\")\\n\\n  * [Início](https://www.ftsementes.com.br/)\\n  * [Sobre Nós](https://www.ftsementes.com.br/?page_id=194)\\n  * [Novidades](https://www.ftsementes.com.br/?page_id=192)\\n  * [Cultivares](https://www.ftsementes.com.br/?page_id=404)\\n  * [Produtividades](https://www.ftsementes.com.br/?page_id=2340)\\n  * [Licenciados](https://www.ftsementes.com.br/?page_id=45)\\n  * [Contato](https://www.ftsementes.com.br/?page_id=48)\\n\\n[![](https://www.ftsementes.com.br/wp-content/uploads/2020/05/cropped-ft-\\nlogo-2.png)](https://www.ftsementes.com.br/ \"FT Sementes\")\\n\\nAlternar navegação\\n\\nAlternar navegação\\n\\n  * [Início](https://www.ftsementes.com.br/)\\n  * [Sobre Nós](https://www.ftsementes.com.br/?page_id=194)\\n  * [Novidades](https://www.ftsementes.com.br/?page_id=192)\\n  * [Cultivares](https://www.ftsementes.com.br/?page_id=404)\\n  * [Produtividades](https://www.ftsementes.com.br/?page_id=2340)\\n  * [Licenciados](https://www.ftsementes.com.br/?page_id=45)\\n  * [Contato](https://www.ftsementes.com.br/?page_id=48)\\n\\n[ __](/?page_id=617)\\n\\n## Portfólio Soja IPRO![](http://localhost/ftsementes/wp-\\ncontent/uploads/2020/05/INTACTA-300x106.png)\\n\\n[ __](https://instagr.am/ftsementes)\\n\\n[ __](https://fb.me/FTSementesSoja)\\n\\n![FTR 3557 IPRO](https://www.ftsementes.com.br/wp-\\ncontent/uploads/2020/05/3557.png)\\n\\n### Características\\n\\n### GM 5.7\\n\\n  * **Altíssimo potencial produtivo;**\\n  * **Super precoce;**\\n  * **PMG elevado;**\\n  * **Ampla adaptação;**\\n  * **Estabilidade;**\\n  * **Sanidade radicular.**\\n\\n**Flor**\\n\\n  * Branca\\n\\n**Pubescência**\\n\\n  * Marrom\\n\\n**Hilo**\\n\\n  * Preto\\n\\n**Crescimento**\\n\\n  * Indeterminado\\n\\n**Altura (cm)**\\n\\n  * 80 a 100\\n\\n**Fertilidade**\\n\\n  * Alta\\n\\n### Reação às Doenças\\n\\n![Fitóftora](https://www.ftsementes.com.br/wp-\\ncontent/uploads/elementor/thumbs/Fitóftora-\\nos9qjyn5i1gkkk8vawwwl5htah0rmshviii2p4w35s.png)\\n\\n_Phytophthora sojae_ : **MR***\\n\\n![Legendas](https://www.ftsementes.com.br/wp-\\ncontent/uploads/2020/05/Legendas.png)\\n\\n![legenda](https://www.ftsementes.com.br/wp-\\ncontent/uploads/2020/05/legenda-1.png)\\n\\n### Época de Semeadura\\n\\n**SETEMBRO**\\n\\n![](http://localhost/ftsementes/wp-content/uploads/2020/05/set-1-300x86.png)\\n\\n**OUTUBRO**\\n\\n![](http://localhost/ftsementes/wp-\\ncontent/uploads/2020/05/10g2030y-300x86.png)\\n\\n**NOVEMBRO**\\n\\n![](http://localhost/ftsementes/wp-\\ncontent/uploads/2020/05/1020y30g-300x86.png)\\n\\n**DEZEMBRO**\\n\\n![](http://localhost/ftsementes/wp-content/uploads/2020/05/dez-1-300x86.png)\\n\\n  * __ Recomendado\\n\\n  * __ Tolerante\\n\\n  * __ Não Recomendado\\n\\n### População indicada por estado/microrregião\\n\\n###\\n\\n[ __](https://instagr.am/ftsementes)\\n\\n[ __](https://fb.me/FTSementesSoja)\\n\\nFT Sementes © 2021 / Todos os Direitos Reservados\\n\\nerror: Content is protected !!\\n\\n![](https://www.ftsementes.com.br/wp-content/uploads/2020/11/arrow.png)\\n\\n'"
      ]
     },
     "execution_count": 20,
     "metadata": {},
     "output_type": "execute_result"
    }
   ],
   "source": [
    "from bs4 import BeautifulSoup\n",
    "import requests\n",
    "import html2text\n",
    "req = requests.get(url).text\n",
    "text= (html2text.html2text(req))\n",
    "text\n",
    "#words_fromhtml = nltk.word_tokenize(text)\n",
    "#words_fromhtml"
   ]
  },
  {
   "cell_type": "code",
   "execution_count": 8,
   "metadata": {},
   "outputs": [
    {
     "name": "stdout",
     "output_type": "stream",
     "text": [
      "número de palavras únicas: 164\n"
     ]
    }
   ],
   "source": [
    "print('número de palavras únicas:', len(set(words)))"
   ]
  },
  {
   "cell_type": "code",
   "execution_count": 15,
   "metadata": {},
   "outputs": [
    {
     "name": "stdout",
     "output_type": "stream",
     "text": [
      "Em ingles, o numero de stopwords é: 179\n"
     ]
    }
   ],
   "source": [
    "from nltk.corpus import stopwords\n",
    "stop_words = set(stopwords.words('english'))\n",
    "print('Em ingles, o numero de stopwords é:',len(stop_words))"
   ]
  },
  {
   "cell_type": "code",
   "execution_count": 9,
   "metadata": {},
   "outputs": [
    {
     "name": "stdout",
     "output_type": "stream",
     "text": [
      "Em português, o numero de stopwords é: 204\n"
     ]
    }
   ],
   "source": [
    "from nltk.corpus import stopwords\n",
    "stop_words = set(stopwords.words('portuguese'))\n",
    "print('Em português, o numero de stopwords é:', len(stop_words))"
   ]
  },
  {
   "cell_type": "code",
   "execution_count": 17,
   "metadata": {},
   "outputs": [
    {
     "data": {
      "text/plain": [
       "800"
      ]
     },
     "execution_count": 17,
     "metadata": {},
     "output_type": "execute_result"
    }
   ],
   "source": [
    "tokens = list(w for w in words if w not in stop_words)\n",
    "len(tokens)"
   ]
  },
  {
   "cell_type": "code",
   "execution_count": 10,
   "metadata": {},
   "outputs": [
    {
     "data": {
      "text/plain": [
       "515"
      ]
     },
     "execution_count": 10,
     "metadata": {},
     "output_type": "execute_result"
    }
   ],
   "source": [
    "tokens = list(w for w in words if w not in stop_words)\n",
    "len(tokens)"
   ]
  },
  {
   "cell_type": "markdown",
   "metadata": {},
   "source": [
    "## Stemming \n",
    "* NLTK provides many inbuilt stemmers such as: \n",
    "  * Porter Stemmer * also used  <---\n",
    "  * Snowball Stemmer * better  <---\n",
    "  * Lancaster Stemmer\n",
    "\n"
   ]
  },
  {
   "cell_type": "code",
   "execution_count": 12,
   "metadata": {},
   "outputs": [
    {
     "name": "stdout",
     "output_type": "stream",
     "text": [
      "*** Porter stemmed words: ***\n",
      "  ['grow', 'leav', 'fairli', 'cat', 'troubl', 'misunderstand', 'friendship', 'easili', 'ration', 'relat']\n"
     ]
    }
   ],
   "source": [
    "from nltk.stem import PorterStemmer\n",
    "from nltk.stem import SnowballStemmer \n",
    "\n",
    "example_words = [\"grows\",\"leaves\",\"fairly\",\"cats\",\"trouble\",\n",
    "                 \"misunderstanding\",\"friendships\",\"easily\", \n",
    "                 \"rational\", \"relational\"]\n",
    "\n",
    "#Create instances of both stemmers, and stem the words using them.\n",
    "stemmer_ps = PorterStemmer() \n",
    "\n",
    "#an instance of Porter Stemmer\n",
    "\n",
    "stemmed_words_ps = [stemmer_ps.stem(word) for word in example_words]\n",
    "print(\"*** Porter stemmed words: ***\\n \", stemmed_words_ps)"
   ]
  },
  {
   "cell_type": "code",
   "execution_count": 22,
   "metadata": {},
   "outputs": [
    {
     "name": "stdout",
     "output_type": "stream",
     "text": [
      "*** Snowball stemmed words: ***\n",
      "  ['grow', 'leav', 'fair', 'cat', 'troubl', 'misunderstand', 'friendship', 'easili', 'ration', 'relat']\n"
     ]
    }
   ],
   "source": [
    "stemmer_ss = SnowballStemmer(\"english\")   \n",
    "\n",
    "#an instance of Snowball Stemmer\n",
    "stemmed_words_ss = [stemmer_ss.stem(word) for word in example_words]\n",
    "print(\"*** Snowball stemmed words: ***\\n \", stemmed_words_ss)"
   ]
  },
  {
   "cell_type": "markdown",
   "metadata": {},
   "source": [
    "## Em português:"
   ]
  },
  {
   "cell_type": "code",
   "execution_count": 15,
   "metadata": {},
   "outputs": [
    {
     "name": "stdout",
     "output_type": "stream",
     "text": [
      "['características', 'sementes', 'soja', 'hábito', 'de', 'crescimento', 'cor', 'da', 'flor']\n",
      "\n",
      "*** Snowball stemmed words: ***\n",
      "  ['característ', 'sement', 'soj', 'hábit', 'de', 'cresciment', 'cor', 'da', 'flor']\n"
     ]
    }
   ],
   "source": [
    "stemmer_ss = SnowballStemmer(\"portuguese\")   \n",
    "example_words = ['características', 'sementes', 'soja', 'hábito', 'de', 'crescimento', 'cor', 'da', 'flor']\n",
    "\n",
    "# Instance of Snowball Stemmer\n",
    "print(example_words)\n",
    "stemmed_words_ss = [stemmer_ss.stem(word) for word in example_words]\n",
    "print(\"\\n*** Snowball stemmed words: ***\\n \", stemmed_words_ss)"
   ]
  },
  {
   "cell_type": "code",
   "execution_count": 22,
   "metadata": {},
   "outputs": [
    {
     "name": "stdout",
     "output_type": "stream",
     "text": [
      "*** Snowball stemmed words: ***\n",
      "  ['grow', 'leav', 'fair', 'cat', 'troubl', 'misunderstand', 'friendship', 'easili', 'ration', 'relat']\n"
     ]
    }
   ],
   "source": [
    "stemmer_ss = SnowballStemmer(\"english\")   \n",
    "\n",
    "#an instance of Snowball Stemmer\n",
    "stemmed_words_ss = [stemmer_ss.stem(word) for word in example_words]\n",
    "print(\"*** Snowball stemmed words: ***\\n \", stemmed_words_ss)"
   ]
  },
  {
   "cell_type": "markdown",
   "metadata": {},
   "source": [
    "## Lemmatization\n",
    "* Lemmatization is the algorithmic process of finding the lemma of a word depending on their meaning. \n",
    "* Usually refers to the morphological analysis of words removing inflectional endings. \n",
    "* It helps in returning the base or dictionary form of a word, which is known as the lemma."
   ]
  },
  {
   "cell_type": "code",
   "execution_count": 24,
   "metadata": {},
   "outputs": [
    {
     "name": "stderr",
     "output_type": "stream",
     "text": [
      "[nltk_data] Downloading package wordnet to\n",
      "[nltk_data]     /home/anandaheino/nltk_data...\n",
      "[nltk_data]   Package wordnet is already up-to-date!\n"
     ]
    },
    {
     "data": {
      "text/plain": [
       "True"
      ]
     },
     "execution_count": 24,
     "metadata": {},
     "output_type": "execute_result"
    }
   ],
   "source": [
    "from nltk.stem import WordNetLemmatizer\n",
    "nltk.download('wordnet') "
   ]
  },
  {
   "cell_type": "code",
   "execution_count": 25,
   "metadata": {},
   "outputs": [
    {
     "name": "stdout",
     "output_type": "stream",
     "text": [
      "*** The lemmatized words: ***\n",
      "  ['grows', 'leaf', 'fairly', 'cat', 'trouble', 'misunderstanding', 'friendship', 'easily', 'rational', 'relational']\n"
     ]
    }
   ],
   "source": [
    "lemmatizer = WordNetLemmatizer()  \n",
    "\n",
    "# instanciating Word Net Lemmatizer\n",
    "lemmatized_words = [lemmatizer.lemmatize(word) for word in example_words] \n",
    "print(\"*** The lemmatized words: ***\\n \", lemmatized_words) "
   ]
  },
  {
   "cell_type": "code",
   "execution_count": 27,
   "metadata": {},
   "outputs": [
    {
     "name": "stdout",
     "output_type": "stream",
     "text": [
      "*** The lemmatized words using a POS tag: ***\n",
      "  ['grow', 'leave', 'fairly', 'cat', 'trouble', 'misunderstand', 'friendships', 'easily', 'rational', 'relational']\n"
     ]
    }
   ],
   "source": [
    "#prints the lemmatized words\n",
    "lemmatized_words_pos = [lemmatizer.lemmatize(word, pos = \"v\") for word in example_words]\n",
    "print(\"*** The lemmatized words using a POS tag: ***\\n \", lemmatized_words_pos) "
   ]
  },
  {
   "cell_type": "markdown",
   "metadata": {},
   "source": [
    "# How are Stemming and Lemmatization Different?\n",
    "1. Stemming reduces word-forms to stems in order to reduce size, whereas lemmatization reduces the word-forms to linguistically valid lemmas.\n",
    "2. Lemmatization is usually more sophisticated and requires some sort of lexica. Stemming, on the other hand, can be achieved with simple rule-based approaches.\n",
    "3. A stemmer operates on a single word without knowledge of the context, and cannot discriminate between words which have similar/different meanings depending on part of speech."
   ]
  }
 ],
 "metadata": {
  "kernelspec": {
   "display_name": "Python 3",
   "language": "python",
   "name": "python3"
  },
  "language_info": {
   "codemirror_mode": {
    "name": "ipython",
    "version": 3
   },
   "file_extension": ".py",
   "mimetype": "text/x-python",
   "name": "python",
   "nbconvert_exporter": "python",
   "pygments_lexer": "ipython3",
   "version": "3.7.6"
  }
 },
 "nbformat": 4,
 "nbformat_minor": 4
}
