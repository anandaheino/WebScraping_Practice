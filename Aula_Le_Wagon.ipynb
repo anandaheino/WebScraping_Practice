{
 "cells": [
  {
   "cell_type": "markdown",
   "metadata": {},
   "source": [
    "# Web Scraping\n",
    "## RESPAGEM DE DADOS DA WEB\n",
    "EX CLASSICO: Passagem aérea\n",
    "* Criar um bot para raspar os dados das páginas específicas"
   ]
  },
  {
   "cell_type": "markdown",
   "metadata": {},
   "source": [
    "HTML BASICO\n",
    "*  < element > content < /element >\n",
    "* head = metadados da paginas <head>  </head>\n",
    "* h1, h2, h3, h4 = tipos de titulo... main title, subtitle...\n",
    "* body = aonde começa a pagina = todo conteudo que vemos\n",
    "* p  = paragrafo\n",
    "* div = são as divisoes / compartimentos da pagina de como ela e dividida\n",
    "* strong = negrito\n",
    "* l = lista de coisas ( unordered list )\n",
    "* li = cada elemento dentro de uma lista\n",
    "* ol = ordered list, ai li vai ser enumerado\n",
    "* < img src=\"local_ue_esta_salva\" alt=\"texto_da_imagem\" >\n",
    "## Estrutura de html = NESTED = formação de patos = organizada\n",
    "* estrutura = árvore invertida\n",
    "  * cada tag define um elemento... que é tmb um nó na arvore\n",
    "\n"
   ]
  },
  {
   "cell_type": "markdown",
   "metadata": {},
   "source": [
    "## Como fazer? \n",
    "\n",
    "1. INSPECIONAR O SITE PARA ENTENDER A ESTRUTURA DOS DADOS\n",
    "* Estrutura de card ( sites de produtos )\n",
    "  * foto, rating, link, image, preço...\n",
    "  * muito bom IDENTIFICAR a estrutura que é comum para todos\n",
    "  * criamos um iterador para ver todos os outros cards\n",
    "* class = & id = bem usado para web scraping ( + usado para CSS )\n",
    "2. Usando o BEAUTIFUL SOUP: biblioteca do python para facilitar a vida dos programadores em pegas os dados da pagina da web, pq vc nao escreveu esta pagina com esse codigo horrivel\n",
    "\n",
    "* site\n",
    "* request \n",
    "* response\n",
    "* beautiful soup\n",
    "3. Trabalho investigativo, tentativa e erro!! "
   ]
  },
  {
   "cell_type": "code",
   "execution_count": 4,
   "metadata": {},
   "outputs": [],
   "source": [
    "import requests\n",
    "from bs4 import BeautifulSoup"
   ]
  },
  {
   "cell_type": "code",
   "execution_count": 5,
   "metadata": {},
   "outputs": [],
   "source": [
    "url = \"https://books.toscrape.com/\"\n",
    "responde = requests.get(url)\n",
    "html = responde.content # Quero pegar so o conteudo do site, sem head nem nada a mais\n",
    "scraped = BeautifulSoup(html, 'html.parser') # método do beautiful soup que estrutura os dados"
   ]
  },
  {
   "cell_type": "code",
   "execution_count": 7,
   "metadata": {},
   "outputs": [
    {
     "data": {
      "text/plain": [
       "<title>\n",
       "    All products | Books to Scrape - Sandbox\n",
       "</title>"
      ]
     },
     "execution_count": 7,
     "metadata": {},
     "output_type": "execute_result"
    }
   ],
   "source": [
    "# Tendo o html podemos trabalhar com o escopo agora\n",
    "\n",
    "# para acessar um elemento usamos a tag do html\n",
    "\n",
    "scraped.find('title')        # pega somente a 1ª ocorrencia\n"
   ]
  },
  {
   "cell_type": "code",
   "execution_count": 8,
   "metadata": {},
   "outputs": [
    {
     "data": {
      "text/plain": [
       "[<title>\n",
       "     All products | Books to Scrape - Sandbox\n",
       " </title>]"
      ]
     },
     "execution_count": 8,
     "metadata": {},
     "output_type": "execute_result"
    }
   ],
   "source": [
    "scraped('title')   # retorna o html inteiro, nao queremos, ueremos o conteudo apenas"
   ]
  },
  {
   "cell_type": "code",
   "execution_count": 9,
   "metadata": {},
   "outputs": [
    {
     "data": {
      "text/plain": [
       "'\\n    All products | Books to Scrape - Sandbox\\n'"
      ]
     },
     "execution_count": 9,
     "metadata": {},
     "output_type": "execute_result"
    }
   ],
   "source": [
    "scraped.title.text        # retorna apenas o conteudo"
   ]
  },
  {
   "cell_type": "code",
   "execution_count": 10,
   "metadata": {},
   "outputs": [
    {
     "data": {
      "text/plain": [
       "'All products | Books to Scrape - Sandbox'"
      ]
     },
     "execution_count": 10,
     "metadata": {},
     "output_type": "execute_result"
    }
   ],
   "source": [
    "scraped.title.text.strip()     # removemos os espaços antes e depois do conteudo"
   ]
  },
  {
   "cell_type": "code",
   "execution_count": 11,
   "metadata": {},
   "outputs": [],
   "source": [
    "title_scraped = scraped.title.text.strip()       # armazenando em um variavel"
   ]
  },
  {
   "cell_type": "markdown",
   "metadata": {},
   "source": [
    "## PARA CHEGAR NO TITULO DO LIVRO? "
   ]
  },
  {
   "cell_type": "code",
   "execution_count": 12,
   "metadata": {},
   "outputs": [
    {
     "data": {
      "text/plain": [
       "<a href=\"catalogue/a-light-in-the-attic_1000/index.html\" title=\"A Light in the Attic\">A Light in the ...</a>"
      ]
     },
     "execution_count": 12,
     "metadata": {},
     "output_type": "execute_result"
    }
   ],
   "source": [
    "scraped.article.h3.a       # pegamos o text, mas qiueremos o atributo"
   ]
  },
  {
   "cell_type": "code",
   "execution_count": 16,
   "metadata": {},
   "outputs": [
    {
     "data": {
      "text/plain": [
       "'A Light in the Attic'"
      ]
     },
     "execution_count": 16,
     "metadata": {},
     "output_type": "execute_result"
    }
   ],
   "source": [
    "scraped.article.h3.a['title']     # passamos o nome do atributo em []"
   ]
  },
  {
   "cell_type": "code",
   "execution_count": 24,
   "metadata": {},
   "outputs": [],
   "source": [
    "first_title = scraped.article.h3.a['title']"
   ]
  },
  {
   "cell_type": "markdown",
   "metadata": {},
   "source": [
    "## Agora vamos pegar os titulos de todos os livros... de forma automatica\n",
    "* usando `find_all`"
   ]
  },
  {
   "cell_type": "code",
   "execution_count": 25,
   "metadata": {},
   "outputs": [],
   "source": [
    "books = scraped.find_all('article', class_='product_pod')      # pegamos todos os articles e especificamos a classe"
   ]
  },
  {
   "cell_type": "code",
   "execution_count": 26,
   "metadata": {},
   "outputs": [
    {
     "name": "stdout",
     "output_type": "stream",
     "text": [
      "A Light in the Attic\n",
      "Tipping the Velvet\n",
      "Soumission\n",
      "Sharp Objects\n",
      "Sapiens: A Brief History of Humankind\n",
      "The Requiem Red\n",
      "The Dirty Little Secrets of Getting Your Dream Job\n",
      "The Coming Woman: A Novel Based on the Life of the Infamous Feminist, Victoria Woodhull\n",
      "The Boys in the Boat: Nine Americans and Their Epic Quest for Gold at the 1936 Berlin Olympics\n",
      "The Black Maria\n",
      "Starving Hearts (Triangular Trade Trilogy, #1)\n",
      "Shakespeare's Sonnets\n",
      "Set Me Free\n",
      "Scott Pilgrim's Precious Little Life (Scott Pilgrim #1)\n",
      "Rip it Up and Start Again\n",
      "Our Band Could Be Your Life: Scenes from the American Indie Underground, 1981-1991\n",
      "Olio\n",
      "Mesaerion: The Best Science Fiction Stories 1800-1849\n",
      "Libertarianism for Beginners\n",
      "It's Only the Himalayas\n"
     ]
    }
   ],
   "source": [
    "for book in books:\n",
    "    first = book.h3.a['title']\n",
    "    print(first)"
   ]
  },
  {
   "cell_type": "code",
   "execution_count": null,
   "metadata": {},
   "outputs": [],
   "source": [
    "# Outra forma de fazer seria usando o title = true\n",
    "title_links = scraped.find_all('a', title=True)\n",
    "title_links"
   ]
  },
  {
   "cell_type": "code",
   "execution_count": 29,
   "metadata": {},
   "outputs": [],
   "source": [
    "prices = scraped.select(\".price_color\")    # para pegar por classe os códigos de preço"
   ]
  },
  {
   "cell_type": "code",
   "execution_count": 34,
   "metadata": {},
   "outputs": [
    {
     "name": "stdout",
     "output_type": "stream",
     "text": [
      "R$ 51.77\n",
      "R$ 53.74\n",
      "R$ 50.10\n",
      "R$ 47.82\n",
      "R$ 54.23\n",
      "R$ 22.65\n",
      "R$ 33.34\n",
      "R$ 17.93\n",
      "R$ 22.60\n",
      "R$ 52.15\n",
      "R$ 13.99\n",
      "R$ 20.66\n",
      "R$ 17.46\n",
      "R$ 52.29\n",
      "R$ 35.02\n",
      "R$ 57.25\n",
      "R$ 23.88\n",
      "R$ 37.59\n",
      "R$ 51.33\n",
      "R$ 45.17\n"
     ]
    }
   ],
   "source": [
    "for preço in prices: \n",
    "    print(preço.text.replace('£', 'R$ '))"
   ]
  },
  {
   "cell_type": "code",
   "execution_count": 45,
   "metadata": {},
   "outputs": [],
   "source": [
    "articles = scraped.select(\".product_pod\")\n",
    "\n",
    "# p cada artigo pegar o titulo e o preço"
   ]
  },
  {
   "cell_type": "code",
   "execution_count": 48,
   "metadata": {},
   "outputs": [
    {
     "data": {
      "text/plain": [
       "[{'A Light in the Attic': '51.77'},\n",
       " {'Tipping the Velvet': '53.74'},\n",
       " {'Soumission': '50.10'},\n",
       " {'Sharp Objects': '47.82'},\n",
       " {'Sapiens: A Brief History of Humankind': '54.23'},\n",
       " {'The Requiem Red': '22.65'},\n",
       " {'The Dirty Little Secrets of Getting Your Dream Job': '33.34'},\n",
       " {'The Coming Woman: A Novel Based on the Life of the Infamous Feminist, Victoria Woodhull': '17.93'},\n",
       " {'The Boys in the Boat: Nine Americans and Their Epic Quest for Gold at the 1936 Berlin Olympics': '22.60'},\n",
       " {'The Black Maria': '52.15'},\n",
       " {'Starving Hearts (Triangular Trade Trilogy, #1)': '13.99'},\n",
       " {\"Shakespeare's Sonnets\": '20.66'},\n",
       " {'Set Me Free': '17.46'},\n",
       " {\"Scott Pilgrim's Precious Little Life (Scott Pilgrim #1)\": '52.29'},\n",
       " {'Rip it Up and Start Again': '35.02'},\n",
       " {'Our Band Could Be Your Life: Scenes from the American Indie Underground, 1981-1991': '57.25'},\n",
       " {'Olio': '23.88'},\n",
       " {'Mesaerion: The Best Science Fiction Stories 1800-1849': '37.59'},\n",
       " {'Libertarianism for Beginners': '51.33'},\n",
       " {\"It's Only the Himalayas\": '45.17'}]"
      ]
     },
     "execution_count": 48,
     "metadata": {},
     "output_type": "execute_result"
    }
   ],
   "source": [
    "book = []\n",
    "\n",
    "for art in articles:\n",
    "    title = art.h3.a['title']\n",
    "    price = art.find('p', class_='price_color').text.lstrip('£')   #tag depois classe\n",
    "    book.append({title : price})\n",
    "    \n",
    "book"
   ]
  },
  {
   "cell_type": "code",
   "execution_count": null,
   "metadata": {},
   "outputs": [],
   "source": [
    "lista = [1, 2, ....]\n",
    "\n"
   ]
  }
 ],
 "metadata": {
  "kernelspec": {
   "display_name": "Python 3",
   "language": "python",
   "name": "python3"
  },
  "language_info": {
   "codemirror_mode": {
    "name": "ipython",
    "version": 3
   },
   "file_extension": ".py",
   "mimetype": "text/x-python",
   "name": "python",
   "nbconvert_exporter": "python",
   "pygments_lexer": "ipython3",
   "version": "3.7.6"
  }
 },
 "nbformat": 4,
 "nbformat_minor": 4
}
